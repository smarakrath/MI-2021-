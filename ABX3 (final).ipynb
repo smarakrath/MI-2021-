{
 "cells": [
  {
   "cell_type": "code",
   "execution_count": 1,
   "metadata": {},
   "outputs": [],
   "source": [
    "import pandas as pd\n",
    "import numpy as np"
   ]
  },
  {
   "cell_type": "code",
   "execution_count": 2,
   "metadata": {},
   "outputs": [],
   "source": [
    "from matminer.utils.io import load_dataframe_from_json\n",
    "df = load_dataframe_from_json('ABX3.json')"
   ]
  },
  {
   "cell_type": "code",
   "execution_count": 3,
   "metadata": {},
   "outputs": [
    {
     "data": {
      "text/html": [
       "<div>\n",
       "<style scoped>\n",
       "    .dataframe tbody tr th:only-of-type {\n",
       "        vertical-align: middle;\n",
       "    }\n",
       "\n",
       "    .dataframe tbody tr th {\n",
       "        vertical-align: top;\n",
       "    }\n",
       "\n",
       "    .dataframe thead th {\n",
       "        text-align: right;\n",
       "    }\n",
       "</style>\n",
       "<table border=\"1\" class=\"dataframe\">\n",
       "  <thead>\n",
       "    <tr style=\"text-align: right;\">\n",
       "      <th></th>\n",
       "      <th>formula</th>\n",
       "      <th>mpid</th>\n",
       "      <th>spacegroup.symbol</th>\n",
       "      <th>nature of band gap</th>\n",
       "      <th>structure</th>\n",
       "    </tr>\n",
       "  </thead>\n",
       "  <tbody>\n",
       "    <tr>\n",
       "      <th>0</th>\n",
       "      <td>BaSiO3</td>\n",
       "      <td>mp-1016821</td>\n",
       "      <td>Pm-3m</td>\n",
       "      <td>0</td>\n",
       "      <td>[[0. 0. 0.] Ba, [1.9184685 1.9184685 1.9184685...</td>\n",
       "    </tr>\n",
       "    <tr>\n",
       "      <th>1</th>\n",
       "      <td>CaHfO3</td>\n",
       "      <td>mp-1016873</td>\n",
       "      <td>Pm-3m</td>\n",
       "      <td>0</td>\n",
       "      <td>[[0. 0. 0.] Ca, [2.0525485 2.0525485 2.0525485...</td>\n",
       "    </tr>\n",
       "    <tr>\n",
       "      <th>2</th>\n",
       "      <td>CdSiO3</td>\n",
       "      <td>mp-1016879</td>\n",
       "      <td>Pm-3m</td>\n",
       "      <td>0</td>\n",
       "      <td>[[0. 0. 0.] Cd, [1.80996 1.80996 1.80996] Si, ...</td>\n",
       "    </tr>\n",
       "    <tr>\n",
       "      <th>3</th>\n",
       "      <td>CaGeO3</td>\n",
       "      <td>mp-1016884</td>\n",
       "      <td>Pm-3m</td>\n",
       "      <td>0</td>\n",
       "      <td>[[0. 0. 0.] Ca, [1.8916185 1.8916185 1.8916185...</td>\n",
       "    </tr>\n",
       "    <tr>\n",
       "      <th>4</th>\n",
       "      <td>CdGeO3</td>\n",
       "      <td>mp-1016903</td>\n",
       "      <td>Pm-3m</td>\n",
       "      <td>0</td>\n",
       "      <td>[[0. 0. 0.] Cd, [1.891245 1.891245 1.891245] G...</td>\n",
       "    </tr>\n",
       "    <tr>\n",
       "      <th>...</th>\n",
       "      <td>...</td>\n",
       "      <td>...</td>\n",
       "      <td>...</td>\n",
       "      <td>...</td>\n",
       "      <td>...</td>\n",
       "    </tr>\n",
       "    <tr>\n",
       "      <th>1523</th>\n",
       "      <td>SmBiTe3</td>\n",
       "      <td>mp-1219075</td>\n",
       "      <td>R3m</td>\n",
       "      <td>1</td>\n",
       "      <td>[[18.84832544  0.          2.29926905] Sm, [12...</td>\n",
       "    </tr>\n",
       "    <tr>\n",
       "      <th>1524</th>\n",
       "      <td>TbBiTe3</td>\n",
       "      <td>mp-1217576</td>\n",
       "      <td>R3m</td>\n",
       "      <td>1</td>\n",
       "      <td>[[18.88631977  0.          2.28314943] Tb, [12...</td>\n",
       "    </tr>\n",
       "    <tr>\n",
       "      <th>1525</th>\n",
       "      <td>TmBiTe3</td>\n",
       "      <td>mp-1216578</td>\n",
       "      <td>R3m</td>\n",
       "      <td>0</td>\n",
       "      <td>[[12.63684106  0.          1.49823656] Tm, [19...</td>\n",
       "    </tr>\n",
       "    <tr>\n",
       "      <th>1526</th>\n",
       "      <td>YBiTe3</td>\n",
       "      <td>mp-1215930</td>\n",
       "      <td>R3m</td>\n",
       "      <td>1</td>\n",
       "      <td>[[18.87785444  0.          2.27935381] Y, [12....</td>\n",
       "    </tr>\n",
       "    <tr>\n",
       "      <th>1527</th>\n",
       "      <td>AlSiP3</td>\n",
       "      <td>mp-5168</td>\n",
       "      <td>Pnma</td>\n",
       "      <td>0</td>\n",
       "      <td>[[0. 0. 0.] Al, [2.949795  3.071257  4.9532445...</td>\n",
       "    </tr>\n",
       "  </tbody>\n",
       "</table>\n",
       "<p>1528 rows × 5 columns</p>\n",
       "</div>"
      ],
      "text/plain": [
       "      formula        mpid spacegroup.symbol  nature of band gap  \\\n",
       "0      BaSiO3  mp-1016821             Pm-3m                   0   \n",
       "1      CaHfO3  mp-1016873             Pm-3m                   0   \n",
       "2      CdSiO3  mp-1016879             Pm-3m                   0   \n",
       "3      CaGeO3  mp-1016884             Pm-3m                   0   \n",
       "4      CdGeO3  mp-1016903             Pm-3m                   0   \n",
       "...       ...         ...               ...                 ...   \n",
       "1523  SmBiTe3  mp-1219075               R3m                   1   \n",
       "1524  TbBiTe3  mp-1217576               R3m                   1   \n",
       "1525  TmBiTe3  mp-1216578               R3m                   0   \n",
       "1526   YBiTe3  mp-1215930               R3m                   1   \n",
       "1527   AlSiP3     mp-5168              Pnma                   0   \n",
       "\n",
       "                                              structure  \n",
       "0     [[0. 0. 0.] Ba, [1.9184685 1.9184685 1.9184685...  \n",
       "1     [[0. 0. 0.] Ca, [2.0525485 2.0525485 2.0525485...  \n",
       "2     [[0. 0. 0.] Cd, [1.80996 1.80996 1.80996] Si, ...  \n",
       "3     [[0. 0. 0.] Ca, [1.8916185 1.8916185 1.8916185...  \n",
       "4     [[0. 0. 0.] Cd, [1.891245 1.891245 1.891245] G...  \n",
       "...                                                 ...  \n",
       "1523  [[18.84832544  0.          2.29926905] Sm, [12...  \n",
       "1524  [[18.88631977  0.          2.28314943] Tb, [12...  \n",
       "1525  [[12.63684106  0.          1.49823656] Tm, [19...  \n",
       "1526  [[18.87785444  0.          2.27935381] Y, [12....  \n",
       "1527  [[0. 0. 0.] Al, [2.949795  3.071257  4.9532445...  \n",
       "\n",
       "[1528 rows x 5 columns]"
      ]
     },
     "execution_count": 3,
     "metadata": {},
     "output_type": "execute_result"
    }
   ],
   "source": [
    "df"
   ]
  },
  {
   "cell_type": "code",
   "execution_count": 4,
   "metadata": {},
   "outputs": [],
   "source": [
    "from matminer.featurizers.structure import StructuralHeterogeneity\n",
    "strh = StructuralHeterogeneity()"
   ]
  },
  {
   "cell_type": "code",
   "execution_count": 5,
   "metadata": {},
   "outputs": [
    {
     "data": {
      "text/plain": [
       "['mean absolute deviation in relative bond length',\n",
       " 'max relative bond length',\n",
       " 'min relative bond length',\n",
       " 'minimum neighbor distance variation',\n",
       " 'maximum neighbor distance variation',\n",
       " 'range neighbor distance variation',\n",
       " 'mean neighbor distance variation',\n",
       " 'avg_dev neighbor distance variation',\n",
       " 'mean absolute deviation in relative cell size']"
      ]
     },
     "execution_count": 5,
     "metadata": {},
     "output_type": "execute_result"
    }
   ],
   "source": [
    "strh.feature_labels()"
   ]
  },
  {
   "cell_type": "code",
   "execution_count": 6,
   "metadata": {},
   "outputs": [
    {
     "data": {
      "text/plain": [
       "['@article{Ward2017,author = {Ward, Logan and Liu, Ruoqian and Krishna, Amar and Hegde, Vinay I. and Agrawal, Ankit and Choudhary, Alok and Wolverton, Chris},doi = {10.1103/PhysRevB.96.024104},journal = {Physical Review B},pages = {024104},title = {{Including crystal structure attributes in machine learning models of formation energies via Voronoi tessellations}},url = {http://link.aps.org/doi/10.1103/PhysRevB.96.024104},volume = {96},year = {2017}}']"
      ]
     },
     "execution_count": 6,
     "metadata": {},
     "output_type": "execute_result"
    }
   ],
   "source": [
    "strh.citations()"
   ]
  },
  {
   "cell_type": "code",
   "execution_count": 7,
   "metadata": {},
   "outputs": [
    {
     "data": {
      "application/vnd.jupyter.widget-view+json": {
       "model_id": "c5f4aeb5d2af486fbf2c6174b1162245",
       "version_major": 2,
       "version_minor": 0
      },
      "text/plain": [
       "StructuralHeterogeneity:   0%|          | 0/1528 [00:00<?, ?it/s]"
      ]
     },
     "metadata": {},
     "output_type": "display_data"
    }
   ],
   "source": [
    "df = strh.featurize_dataframe(df, 'structure')"
   ]
  },
  {
   "cell_type": "code",
   "execution_count": 8,
   "metadata": {},
   "outputs": [
    {
     "data": {
      "text/html": [
       "<div>\n",
       "<style scoped>\n",
       "    .dataframe tbody tr th:only-of-type {\n",
       "        vertical-align: middle;\n",
       "    }\n",
       "\n",
       "    .dataframe tbody tr th {\n",
       "        vertical-align: top;\n",
       "    }\n",
       "\n",
       "    .dataframe thead th {\n",
       "        text-align: right;\n",
       "    }\n",
       "</style>\n",
       "<table border=\"1\" class=\"dataframe\">\n",
       "  <thead>\n",
       "    <tr style=\"text-align: right;\">\n",
       "      <th></th>\n",
       "      <th>formula</th>\n",
       "      <th>mpid</th>\n",
       "      <th>spacegroup.symbol</th>\n",
       "      <th>nature of band gap</th>\n",
       "      <th>structure</th>\n",
       "      <th>mean absolute deviation in relative bond length</th>\n",
       "      <th>max relative bond length</th>\n",
       "      <th>min relative bond length</th>\n",
       "      <th>minimum neighbor distance variation</th>\n",
       "      <th>maximum neighbor distance variation</th>\n",
       "      <th>range neighbor distance variation</th>\n",
       "      <th>mean neighbor distance variation</th>\n",
       "      <th>avg_dev neighbor distance variation</th>\n",
       "      <th>mean absolute deviation in relative cell size</th>\n",
       "    </tr>\n",
       "  </thead>\n",
       "  <tbody>\n",
       "    <tr>\n",
       "      <th>0</th>\n",
       "      <td>BaSiO3</td>\n",
       "      <td>mp-1016821</td>\n",
       "      <td>Pm-3m</td>\n",
       "      <td>0</td>\n",
       "      <td>[[0. 0. 0.] Ba, [1.9184685 1.9184685 1.9184685...</td>\n",
       "      <td>0.084158</td>\n",
       "      <td>1.116672</td>\n",
       "      <td>0.789606</td>\n",
       "      <td>0.000000e+00</td>\n",
       "      <td>0.122408</td>\n",
       "      <td>0.122408</td>\n",
       "      <td>0.073445</td>\n",
       "      <td>0.058756</td>\n",
       "      <td>0.150000</td>\n",
       "    </tr>\n",
       "    <tr>\n",
       "      <th>1</th>\n",
       "      <td>CaHfO3</td>\n",
       "      <td>mp-1016873</td>\n",
       "      <td>Pm-3m</td>\n",
       "      <td>0</td>\n",
       "      <td>[[0. 0. 0.] Ca, [2.0525485 2.0525485 2.0525485...</td>\n",
       "      <td>0.084158</td>\n",
       "      <td>1.116672</td>\n",
       "      <td>0.789606</td>\n",
       "      <td>0.000000e+00</td>\n",
       "      <td>0.122408</td>\n",
       "      <td>0.122408</td>\n",
       "      <td>0.073445</td>\n",
       "      <td>0.058756</td>\n",
       "      <td>0.150000</td>\n",
       "    </tr>\n",
       "    <tr>\n",
       "      <th>2</th>\n",
       "      <td>CdSiO3</td>\n",
       "      <td>mp-1016879</td>\n",
       "      <td>Pm-3m</td>\n",
       "      <td>0</td>\n",
       "      <td>[[0. 0. 0.] Cd, [1.80996 1.80996 1.80996] Si, ...</td>\n",
       "      <td>0.084158</td>\n",
       "      <td>1.116672</td>\n",
       "      <td>0.789606</td>\n",
       "      <td>0.000000e+00</td>\n",
       "      <td>0.122408</td>\n",
       "      <td>0.122408</td>\n",
       "      <td>0.073445</td>\n",
       "      <td>0.058756</td>\n",
       "      <td>0.150000</td>\n",
       "    </tr>\n",
       "    <tr>\n",
       "      <th>3</th>\n",
       "      <td>CaGeO3</td>\n",
       "      <td>mp-1016884</td>\n",
       "      <td>Pm-3m</td>\n",
       "      <td>0</td>\n",
       "      <td>[[0. 0. 0.] Ca, [1.8916185 1.8916185 1.8916185...</td>\n",
       "      <td>0.084158</td>\n",
       "      <td>1.116672</td>\n",
       "      <td>0.789606</td>\n",
       "      <td>0.000000e+00</td>\n",
       "      <td>0.122408</td>\n",
       "      <td>0.122408</td>\n",
       "      <td>0.073445</td>\n",
       "      <td>0.058756</td>\n",
       "      <td>0.150000</td>\n",
       "    </tr>\n",
       "    <tr>\n",
       "      <th>4</th>\n",
       "      <td>CdGeO3</td>\n",
       "      <td>mp-1016903</td>\n",
       "      <td>Pm-3m</td>\n",
       "      <td>0</td>\n",
       "      <td>[[0. 0. 0.] Cd, [1.891245 1.891245 1.891245] G...</td>\n",
       "      <td>0.084158</td>\n",
       "      <td>1.116672</td>\n",
       "      <td>0.789606</td>\n",
       "      <td>1.174066e-16</td>\n",
       "      <td>0.122408</td>\n",
       "      <td>0.122408</td>\n",
       "      <td>0.073445</td>\n",
       "      <td>0.058756</td>\n",
       "      <td>0.150000</td>\n",
       "    </tr>\n",
       "    <tr>\n",
       "      <th>...</th>\n",
       "      <td>...</td>\n",
       "      <td>...</td>\n",
       "      <td>...</td>\n",
       "      <td>...</td>\n",
       "      <td>...</td>\n",
       "      <td>...</td>\n",
       "      <td>...</td>\n",
       "      <td>...</td>\n",
       "      <td>...</td>\n",
       "      <td>...</td>\n",
       "      <td>...</td>\n",
       "      <td>...</td>\n",
       "      <td>...</td>\n",
       "      <td>...</td>\n",
       "    </tr>\n",
       "    <tr>\n",
       "      <th>1523</th>\n",
       "      <td>SmBiTe3</td>\n",
       "      <td>mp-1219075</td>\n",
       "      <td>R3m</td>\n",
       "      <td>1</td>\n",
       "      <td>[[18.84832544  0.          2.29926905] Sm, [12...</td>\n",
       "      <td>0.047970</td>\n",
       "      <td>1.055738</td>\n",
       "      <td>0.924195</td>\n",
       "      <td>3.369491e-02</td>\n",
       "      <td>0.143611</td>\n",
       "      <td>0.109916</td>\n",
       "      <td>0.092005</td>\n",
       "      <td>0.041088</td>\n",
       "      <td>0.084599</td>\n",
       "    </tr>\n",
       "    <tr>\n",
       "      <th>1524</th>\n",
       "      <td>TbBiTe3</td>\n",
       "      <td>mp-1217576</td>\n",
       "      <td>R3m</td>\n",
       "      <td>1</td>\n",
       "      <td>[[18.88631977  0.          2.28314943] Tb, [12...</td>\n",
       "      <td>0.051737</td>\n",
       "      <td>1.066324</td>\n",
       "      <td>0.911486</td>\n",
       "      <td>3.140903e-02</td>\n",
       "      <td>0.153769</td>\n",
       "      <td>0.122360</td>\n",
       "      <td>0.095379</td>\n",
       "      <td>0.044467</td>\n",
       "      <td>0.096763</td>\n",
       "    </tr>\n",
       "    <tr>\n",
       "      <th>1525</th>\n",
       "      <td>TmBiTe3</td>\n",
       "      <td>mp-1216578</td>\n",
       "      <td>R3m</td>\n",
       "      <td>0</td>\n",
       "      <td>[[12.63684106  0.          1.49823656] Tm, [19...</td>\n",
       "      <td>0.060873</td>\n",
       "      <td>1.083545</td>\n",
       "      <td>0.896600</td>\n",
       "      <td>3.043264e-02</td>\n",
       "      <td>0.168952</td>\n",
       "      <td>0.138519</td>\n",
       "      <td>0.100354</td>\n",
       "      <td>0.050237</td>\n",
       "      <td>0.120938</td>\n",
       "    </tr>\n",
       "    <tr>\n",
       "      <th>1526</th>\n",
       "      <td>YBiTe3</td>\n",
       "      <td>mp-1215930</td>\n",
       "      <td>R3m</td>\n",
       "      <td>1</td>\n",
       "      <td>[[18.87785444  0.          2.27935381] Y, [12....</td>\n",
       "      <td>0.051576</td>\n",
       "      <td>1.066604</td>\n",
       "      <td>0.911369</td>\n",
       "      <td>3.097145e-02</td>\n",
       "      <td>0.153410</td>\n",
       "      <td>0.122438</td>\n",
       "      <td>0.095120</td>\n",
       "      <td>0.044369</td>\n",
       "      <td>0.096996</td>\n",
       "    </tr>\n",
       "    <tr>\n",
       "      <th>1527</th>\n",
       "      <td>AlSiP3</td>\n",
       "      <td>mp-5168</td>\n",
       "      <td>Pnma</td>\n",
       "      <td>0</td>\n",
       "      <td>[[0. 0. 0.] Al, [2.949795  3.071257  4.9532445...</td>\n",
       "      <td>0.037039</td>\n",
       "      <td>1.053260</td>\n",
       "      <td>0.940531</td>\n",
       "      <td>3.708489e-02</td>\n",
       "      <td>0.186211</td>\n",
       "      <td>0.149126</td>\n",
       "      <td>0.148834</td>\n",
       "      <td>0.044700</td>\n",
       "      <td>0.055261</td>\n",
       "    </tr>\n",
       "  </tbody>\n",
       "</table>\n",
       "<p>1528 rows × 14 columns</p>\n",
       "</div>"
      ],
      "text/plain": [
       "      formula        mpid spacegroup.symbol  nature of band gap  \\\n",
       "0      BaSiO3  mp-1016821             Pm-3m                   0   \n",
       "1      CaHfO3  mp-1016873             Pm-3m                   0   \n",
       "2      CdSiO3  mp-1016879             Pm-3m                   0   \n",
       "3      CaGeO3  mp-1016884             Pm-3m                   0   \n",
       "4      CdGeO3  mp-1016903             Pm-3m                   0   \n",
       "...       ...         ...               ...                 ...   \n",
       "1523  SmBiTe3  mp-1219075               R3m                   1   \n",
       "1524  TbBiTe3  mp-1217576               R3m                   1   \n",
       "1525  TmBiTe3  mp-1216578               R3m                   0   \n",
       "1526   YBiTe3  mp-1215930               R3m                   1   \n",
       "1527   AlSiP3     mp-5168              Pnma                   0   \n",
       "\n",
       "                                              structure  \\\n",
       "0     [[0. 0. 0.] Ba, [1.9184685 1.9184685 1.9184685...   \n",
       "1     [[0. 0. 0.] Ca, [2.0525485 2.0525485 2.0525485...   \n",
       "2     [[0. 0. 0.] Cd, [1.80996 1.80996 1.80996] Si, ...   \n",
       "3     [[0. 0. 0.] Ca, [1.8916185 1.8916185 1.8916185...   \n",
       "4     [[0. 0. 0.] Cd, [1.891245 1.891245 1.891245] G...   \n",
       "...                                                 ...   \n",
       "1523  [[18.84832544  0.          2.29926905] Sm, [12...   \n",
       "1524  [[18.88631977  0.          2.28314943] Tb, [12...   \n",
       "1525  [[12.63684106  0.          1.49823656] Tm, [19...   \n",
       "1526  [[18.87785444  0.          2.27935381] Y, [12....   \n",
       "1527  [[0. 0. 0.] Al, [2.949795  3.071257  4.9532445...   \n",
       "\n",
       "      mean absolute deviation in relative bond length  \\\n",
       "0                                            0.084158   \n",
       "1                                            0.084158   \n",
       "2                                            0.084158   \n",
       "3                                            0.084158   \n",
       "4                                            0.084158   \n",
       "...                                               ...   \n",
       "1523                                         0.047970   \n",
       "1524                                         0.051737   \n",
       "1525                                         0.060873   \n",
       "1526                                         0.051576   \n",
       "1527                                         0.037039   \n",
       "\n",
       "      max relative bond length  min relative bond length  \\\n",
       "0                     1.116672                  0.789606   \n",
       "1                     1.116672                  0.789606   \n",
       "2                     1.116672                  0.789606   \n",
       "3                     1.116672                  0.789606   \n",
       "4                     1.116672                  0.789606   \n",
       "...                        ...                       ...   \n",
       "1523                  1.055738                  0.924195   \n",
       "1524                  1.066324                  0.911486   \n",
       "1525                  1.083545                  0.896600   \n",
       "1526                  1.066604                  0.911369   \n",
       "1527                  1.053260                  0.940531   \n",
       "\n",
       "      minimum neighbor distance variation  \\\n",
       "0                            0.000000e+00   \n",
       "1                            0.000000e+00   \n",
       "2                            0.000000e+00   \n",
       "3                            0.000000e+00   \n",
       "4                            1.174066e-16   \n",
       "...                                   ...   \n",
       "1523                         3.369491e-02   \n",
       "1524                         3.140903e-02   \n",
       "1525                         3.043264e-02   \n",
       "1526                         3.097145e-02   \n",
       "1527                         3.708489e-02   \n",
       "\n",
       "      maximum neighbor distance variation  range neighbor distance variation  \\\n",
       "0                                0.122408                           0.122408   \n",
       "1                                0.122408                           0.122408   \n",
       "2                                0.122408                           0.122408   \n",
       "3                                0.122408                           0.122408   \n",
       "4                                0.122408                           0.122408   \n",
       "...                                   ...                                ...   \n",
       "1523                             0.143611                           0.109916   \n",
       "1524                             0.153769                           0.122360   \n",
       "1525                             0.168952                           0.138519   \n",
       "1526                             0.153410                           0.122438   \n",
       "1527                             0.186211                           0.149126   \n",
       "\n",
       "      mean neighbor distance variation  avg_dev neighbor distance variation  \\\n",
       "0                             0.073445                             0.058756   \n",
       "1                             0.073445                             0.058756   \n",
       "2                             0.073445                             0.058756   \n",
       "3                             0.073445                             0.058756   \n",
       "4                             0.073445                             0.058756   \n",
       "...                                ...                                  ...   \n",
       "1523                          0.092005                             0.041088   \n",
       "1524                          0.095379                             0.044467   \n",
       "1525                          0.100354                             0.050237   \n",
       "1526                          0.095120                             0.044369   \n",
       "1527                          0.148834                             0.044700   \n",
       "\n",
       "      mean absolute deviation in relative cell size  \n",
       "0                                          0.150000  \n",
       "1                                          0.150000  \n",
       "2                                          0.150000  \n",
       "3                                          0.150000  \n",
       "4                                          0.150000  \n",
       "...                                             ...  \n",
       "1523                                       0.084599  \n",
       "1524                                       0.096763  \n",
       "1525                                       0.120938  \n",
       "1526                                       0.096996  \n",
       "1527                                       0.055261  \n",
       "\n",
       "[1528 rows x 14 columns]"
      ]
     },
     "execution_count": 8,
     "metadata": {},
     "output_type": "execute_result"
    }
   ],
   "source": [
    "df"
   ]
  },
  {
   "cell_type": "code",
   "execution_count": 9,
   "metadata": {},
   "outputs": [],
   "source": [
    "from matminer.featurizers.conversions import StrToComposition\n",
    "stc = StrToComposition()"
   ]
  },
  {
   "cell_type": "code",
   "execution_count": 10,
   "metadata": {},
   "outputs": [
    {
     "data": {
      "application/vnd.jupyter.widget-view+json": {
       "model_id": "8d3f8f2d78ee42fd8cc858d7919e3a7c",
       "version_major": 2,
       "version_minor": 0
      },
      "text/plain": [
       "StrToComposition:   0%|          | 0/1528 [00:00<?, ?it/s]"
      ]
     },
     "metadata": {},
     "output_type": "display_data"
    }
   ],
   "source": [
    "df = stc.featurize_dataframe(df, 'formula')"
   ]
  },
  {
   "cell_type": "code",
   "execution_count": 11,
   "metadata": {},
   "outputs": [],
   "source": [
    "from matminer.featurizers.composition import Meredig\n",
    "mer = Meredig()"
   ]
  },
  {
   "cell_type": "code",
   "execution_count": 12,
   "metadata": {},
   "outputs": [
    {
     "data": {
      "text/plain": [
       "['H fraction',\n",
       " 'He fraction',\n",
       " 'Li fraction',\n",
       " 'Be fraction',\n",
       " 'B fraction',\n",
       " 'C fraction',\n",
       " 'N fraction',\n",
       " 'O fraction',\n",
       " 'F fraction',\n",
       " 'Ne fraction',\n",
       " 'Na fraction',\n",
       " 'Mg fraction',\n",
       " 'Al fraction',\n",
       " 'Si fraction',\n",
       " 'P fraction',\n",
       " 'S fraction',\n",
       " 'Cl fraction',\n",
       " 'Ar fraction',\n",
       " 'K fraction',\n",
       " 'Ca fraction',\n",
       " 'Sc fraction',\n",
       " 'Ti fraction',\n",
       " 'V fraction',\n",
       " 'Cr fraction',\n",
       " 'Mn fraction',\n",
       " 'Fe fraction',\n",
       " 'Co fraction',\n",
       " 'Ni fraction',\n",
       " 'Cu fraction',\n",
       " 'Zn fraction',\n",
       " 'Ga fraction',\n",
       " 'Ge fraction',\n",
       " 'As fraction',\n",
       " 'Se fraction',\n",
       " 'Br fraction',\n",
       " 'Kr fraction',\n",
       " 'Rb fraction',\n",
       " 'Sr fraction',\n",
       " 'Y fraction',\n",
       " 'Zr fraction',\n",
       " 'Nb fraction',\n",
       " 'Mo fraction',\n",
       " 'Tc fraction',\n",
       " 'Ru fraction',\n",
       " 'Rh fraction',\n",
       " 'Pd fraction',\n",
       " 'Ag fraction',\n",
       " 'Cd fraction',\n",
       " 'In fraction',\n",
       " 'Sn fraction',\n",
       " 'Sb fraction',\n",
       " 'Te fraction',\n",
       " 'I fraction',\n",
       " 'Xe fraction',\n",
       " 'Cs fraction',\n",
       " 'Ba fraction',\n",
       " 'La fraction',\n",
       " 'Ce fraction',\n",
       " 'Pr fraction',\n",
       " 'Nd fraction',\n",
       " 'Pm fraction',\n",
       " 'Sm fraction',\n",
       " 'Eu fraction',\n",
       " 'Gd fraction',\n",
       " 'Tb fraction',\n",
       " 'Dy fraction',\n",
       " 'Ho fraction',\n",
       " 'Er fraction',\n",
       " 'Tm fraction',\n",
       " 'Yb fraction',\n",
       " 'Lu fraction',\n",
       " 'Hf fraction',\n",
       " 'Ta fraction',\n",
       " 'W fraction',\n",
       " 'Re fraction',\n",
       " 'Os fraction',\n",
       " 'Ir fraction',\n",
       " 'Pt fraction',\n",
       " 'Au fraction',\n",
       " 'Hg fraction',\n",
       " 'Tl fraction',\n",
       " 'Pb fraction',\n",
       " 'Bi fraction',\n",
       " 'Po fraction',\n",
       " 'At fraction',\n",
       " 'Rn fraction',\n",
       " 'Fr fraction',\n",
       " 'Ra fraction',\n",
       " 'Ac fraction',\n",
       " 'Th fraction',\n",
       " 'Pa fraction',\n",
       " 'U fraction',\n",
       " 'Np fraction',\n",
       " 'Pu fraction',\n",
       " 'Am fraction',\n",
       " 'Cm fraction',\n",
       " 'Bk fraction',\n",
       " 'Cf fraction',\n",
       " 'Es fraction',\n",
       " 'Fm fraction',\n",
       " 'Md fraction',\n",
       " 'No fraction',\n",
       " 'Lr fraction',\n",
       " 'mean AtomicWeight',\n",
       " 'mean Column',\n",
       " 'mean Row',\n",
       " 'range Number',\n",
       " 'mean Number',\n",
       " 'range AtomicRadius',\n",
       " 'mean AtomicRadius',\n",
       " 'range Electronegativity',\n",
       " 'mean Electronegativity',\n",
       " 'avg s valence electrons',\n",
       " 'avg p valence electrons',\n",
       " 'avg d valence electrons',\n",
       " 'avg f valence electrons',\n",
       " 'frac s valence electrons',\n",
       " 'frac p valence electrons',\n",
       " 'frac d valence electrons',\n",
       " 'frac f valence electrons']"
      ]
     },
     "execution_count": 12,
     "metadata": {},
     "output_type": "execute_result"
    }
   ],
   "source": [
    "mer.feature_labels()"
   ]
  },
  {
   "cell_type": "code",
   "execution_count": 13,
   "metadata": {},
   "outputs": [
    {
     "data": {
      "text/plain": [
       "['@article{meredig_agrawal_kirklin_saal_doak_thompson_zhang_choudhary_wolverton_2014, title={Combinatorial screening for new materials in unconstrained composition space with machine learning}, volume={89}, DOI={10.1103/PhysRevB.89.094104}, number={1}, journal={Physical Review B}, author={B. Meredig, A. Agrawal, S. Kirklin, J. E. Saal, J. W. Doak, A. Thompson, K. Zhang, A. Choudhary, and C. Wolverton}, year={2014}}']"
      ]
     },
     "execution_count": 13,
     "metadata": {},
     "output_type": "execute_result"
    }
   ],
   "source": [
    "mer.citations()"
   ]
  },
  {
   "cell_type": "code",
   "execution_count": 14,
   "metadata": {},
   "outputs": [
    {
     "data": {
      "application/vnd.jupyter.widget-view+json": {
       "model_id": "31a3ceeb307f4f9faa98ec6db3cf38b1",
       "version_major": 2,
       "version_minor": 0
      },
      "text/plain": [
       "Meredig:   0%|          | 0/1528 [00:00<?, ?it/s]"
      ]
     },
     "metadata": {},
     "output_type": "display_data"
    }
   ],
   "source": [
    "df = mer.featurize_dataframe(df, 'composition')"
   ]
  },
  {
   "cell_type": "code",
   "execution_count": 15,
   "metadata": {},
   "outputs": [
    {
     "data": {
      "text/html": [
       "<div>\n",
       "<style scoped>\n",
       "    .dataframe tbody tr th:only-of-type {\n",
       "        vertical-align: middle;\n",
       "    }\n",
       "\n",
       "    .dataframe tbody tr th {\n",
       "        vertical-align: top;\n",
       "    }\n",
       "\n",
       "    .dataframe thead th {\n",
       "        text-align: right;\n",
       "    }\n",
       "</style>\n",
       "<table border=\"1\" class=\"dataframe\">\n",
       "  <thead>\n",
       "    <tr style=\"text-align: right;\">\n",
       "      <th></th>\n",
       "      <th>formula</th>\n",
       "      <th>mpid</th>\n",
       "      <th>spacegroup.symbol</th>\n",
       "      <th>nature of band gap</th>\n",
       "      <th>structure</th>\n",
       "      <th>mean absolute deviation in relative bond length</th>\n",
       "      <th>max relative bond length</th>\n",
       "      <th>min relative bond length</th>\n",
       "      <th>minimum neighbor distance variation</th>\n",
       "      <th>maximum neighbor distance variation</th>\n",
       "      <th>...</th>\n",
       "      <th>range Electronegativity</th>\n",
       "      <th>mean Electronegativity</th>\n",
       "      <th>avg s valence electrons</th>\n",
       "      <th>avg p valence electrons</th>\n",
       "      <th>avg d valence electrons</th>\n",
       "      <th>avg f valence electrons</th>\n",
       "      <th>frac s valence electrons</th>\n",
       "      <th>frac p valence electrons</th>\n",
       "      <th>frac d valence electrons</th>\n",
       "      <th>frac f valence electrons</th>\n",
       "    </tr>\n",
       "  </thead>\n",
       "  <tbody>\n",
       "    <tr>\n",
       "      <th>0</th>\n",
       "      <td>BaSiO3</td>\n",
       "      <td>mp-1016821</td>\n",
       "      <td>Pm-3m</td>\n",
       "      <td>0</td>\n",
       "      <td>[[0. 0. 0.] Ba, [1.9184685 1.9184685 1.9184685...</td>\n",
       "      <td>0.084158</td>\n",
       "      <td>1.116672</td>\n",
       "      <td>0.789606</td>\n",
       "      <td>0.000000e+00</td>\n",
       "      <td>0.122408</td>\n",
       "      <td>...</td>\n",
       "      <td>2.55</td>\n",
       "      <td>2.622</td>\n",
       "      <td>2.0</td>\n",
       "      <td>2.8</td>\n",
       "      <td>0.0</td>\n",
       "      <td>0.0</td>\n",
       "      <td>0.416667</td>\n",
       "      <td>0.583333</td>\n",
       "      <td>0.000000</td>\n",
       "      <td>0.000000</td>\n",
       "    </tr>\n",
       "    <tr>\n",
       "      <th>1</th>\n",
       "      <td>CaHfO3</td>\n",
       "      <td>mp-1016873</td>\n",
       "      <td>Pm-3m</td>\n",
       "      <td>0</td>\n",
       "      <td>[[0. 0. 0.] Ca, [2.0525485 2.0525485 2.0525485...</td>\n",
       "      <td>0.084158</td>\n",
       "      <td>1.116672</td>\n",
       "      <td>0.789606</td>\n",
       "      <td>0.000000e+00</td>\n",
       "      <td>0.122408</td>\n",
       "      <td>...</td>\n",
       "      <td>2.44</td>\n",
       "      <td>2.524</td>\n",
       "      <td>2.0</td>\n",
       "      <td>2.4</td>\n",
       "      <td>0.4</td>\n",
       "      <td>2.8</td>\n",
       "      <td>0.263158</td>\n",
       "      <td>0.315789</td>\n",
       "      <td>0.052632</td>\n",
       "      <td>0.368421</td>\n",
       "    </tr>\n",
       "    <tr>\n",
       "      <th>2</th>\n",
       "      <td>CdSiO3</td>\n",
       "      <td>mp-1016879</td>\n",
       "      <td>Pm-3m</td>\n",
       "      <td>0</td>\n",
       "      <td>[[0. 0. 0.] Cd, [1.80996 1.80996 1.80996] Si, ...</td>\n",
       "      <td>0.084158</td>\n",
       "      <td>1.116672</td>\n",
       "      <td>0.789606</td>\n",
       "      <td>0.000000e+00</td>\n",
       "      <td>0.122408</td>\n",
       "      <td>...</td>\n",
       "      <td>1.75</td>\n",
       "      <td>2.782</td>\n",
       "      <td>2.0</td>\n",
       "      <td>2.8</td>\n",
       "      <td>2.0</td>\n",
       "      <td>0.0</td>\n",
       "      <td>0.294118</td>\n",
       "      <td>0.411765</td>\n",
       "      <td>0.294118</td>\n",
       "      <td>0.000000</td>\n",
       "    </tr>\n",
       "    <tr>\n",
       "      <th>3</th>\n",
       "      <td>CaGeO3</td>\n",
       "      <td>mp-1016884</td>\n",
       "      <td>Pm-3m</td>\n",
       "      <td>0</td>\n",
       "      <td>[[0. 0. 0.] Ca, [1.8916185 1.8916185 1.8916185...</td>\n",
       "      <td>0.084158</td>\n",
       "      <td>1.116672</td>\n",
       "      <td>0.789606</td>\n",
       "      <td>0.000000e+00</td>\n",
       "      <td>0.122408</td>\n",
       "      <td>...</td>\n",
       "      <td>2.44</td>\n",
       "      <td>2.666</td>\n",
       "      <td>2.0</td>\n",
       "      <td>2.8</td>\n",
       "      <td>2.0</td>\n",
       "      <td>0.0</td>\n",
       "      <td>0.294118</td>\n",
       "      <td>0.411765</td>\n",
       "      <td>0.294118</td>\n",
       "      <td>0.000000</td>\n",
       "    </tr>\n",
       "    <tr>\n",
       "      <th>4</th>\n",
       "      <td>CdGeO3</td>\n",
       "      <td>mp-1016903</td>\n",
       "      <td>Pm-3m</td>\n",
       "      <td>0</td>\n",
       "      <td>[[0. 0. 0.] Cd, [1.891245 1.891245 1.891245] G...</td>\n",
       "      <td>0.084158</td>\n",
       "      <td>1.116672</td>\n",
       "      <td>0.789606</td>\n",
       "      <td>1.174066e-16</td>\n",
       "      <td>0.122408</td>\n",
       "      <td>...</td>\n",
       "      <td>1.75</td>\n",
       "      <td>2.804</td>\n",
       "      <td>2.0</td>\n",
       "      <td>2.8</td>\n",
       "      <td>4.0</td>\n",
       "      <td>0.0</td>\n",
       "      <td>0.227273</td>\n",
       "      <td>0.318182</td>\n",
       "      <td>0.454545</td>\n",
       "      <td>0.000000</td>\n",
       "    </tr>\n",
       "  </tbody>\n",
       "</table>\n",
       "<p>5 rows × 135 columns</p>\n",
       "</div>"
      ],
      "text/plain": [
       "  formula        mpid spacegroup.symbol  nature of band gap  \\\n",
       "0  BaSiO3  mp-1016821             Pm-3m                   0   \n",
       "1  CaHfO3  mp-1016873             Pm-3m                   0   \n",
       "2  CdSiO3  mp-1016879             Pm-3m                   0   \n",
       "3  CaGeO3  mp-1016884             Pm-3m                   0   \n",
       "4  CdGeO3  mp-1016903             Pm-3m                   0   \n",
       "\n",
       "                                           structure  \\\n",
       "0  [[0. 0. 0.] Ba, [1.9184685 1.9184685 1.9184685...   \n",
       "1  [[0. 0. 0.] Ca, [2.0525485 2.0525485 2.0525485...   \n",
       "2  [[0. 0. 0.] Cd, [1.80996 1.80996 1.80996] Si, ...   \n",
       "3  [[0. 0. 0.] Ca, [1.8916185 1.8916185 1.8916185...   \n",
       "4  [[0. 0. 0.] Cd, [1.891245 1.891245 1.891245] G...   \n",
       "\n",
       "   mean absolute deviation in relative bond length  max relative bond length  \\\n",
       "0                                         0.084158                  1.116672   \n",
       "1                                         0.084158                  1.116672   \n",
       "2                                         0.084158                  1.116672   \n",
       "3                                         0.084158                  1.116672   \n",
       "4                                         0.084158                  1.116672   \n",
       "\n",
       "   min relative bond length  minimum neighbor distance variation  \\\n",
       "0                  0.789606                         0.000000e+00   \n",
       "1                  0.789606                         0.000000e+00   \n",
       "2                  0.789606                         0.000000e+00   \n",
       "3                  0.789606                         0.000000e+00   \n",
       "4                  0.789606                         1.174066e-16   \n",
       "\n",
       "   maximum neighbor distance variation  ...  range Electronegativity  \\\n",
       "0                             0.122408  ...                     2.55   \n",
       "1                             0.122408  ...                     2.44   \n",
       "2                             0.122408  ...                     1.75   \n",
       "3                             0.122408  ...                     2.44   \n",
       "4                             0.122408  ...                     1.75   \n",
       "\n",
       "   mean Electronegativity  avg s valence electrons  avg p valence electrons  \\\n",
       "0                   2.622                      2.0                      2.8   \n",
       "1                   2.524                      2.0                      2.4   \n",
       "2                   2.782                      2.0                      2.8   \n",
       "3                   2.666                      2.0                      2.8   \n",
       "4                   2.804                      2.0                      2.8   \n",
       "\n",
       "  avg d valence electrons  avg f valence electrons  frac s valence electrons  \\\n",
       "0                     0.0                      0.0                  0.416667   \n",
       "1                     0.4                      2.8                  0.263158   \n",
       "2                     2.0                      0.0                  0.294118   \n",
       "3                     2.0                      0.0                  0.294118   \n",
       "4                     4.0                      0.0                  0.227273   \n",
       "\n",
       "   frac p valence electrons  frac d valence electrons  \\\n",
       "0                  0.583333                  0.000000   \n",
       "1                  0.315789                  0.052632   \n",
       "2                  0.411765                  0.294118   \n",
       "3                  0.411765                  0.294118   \n",
       "4                  0.318182                  0.454545   \n",
       "\n",
       "   frac f valence electrons  \n",
       "0                  0.000000  \n",
       "1                  0.368421  \n",
       "2                  0.000000  \n",
       "3                  0.000000  \n",
       "4                  0.000000  \n",
       "\n",
       "[5 rows x 135 columns]"
      ]
     },
     "execution_count": 15,
     "metadata": {},
     "output_type": "execute_result"
    }
   ],
   "source": [
    "df.head()"
   ]
  },
  {
   "cell_type": "code",
   "execution_count": 16,
   "metadata": {},
   "outputs": [],
   "source": [
    "P = df.drop(['formula', 'mpid', 'composition', 'structure', 'spacegroup.symbol', 'nature of band gap'], axis=1)\n",
    "Q = df['nature of band gap']"
   ]
  },
  {
   "cell_type": "code",
   "execution_count": 17,
   "metadata": {},
   "outputs": [],
   "source": [
    "from sklearn.preprocessing import StandardScaler\n",
    "ss = StandardScaler()"
   ]
  },
  {
   "cell_type": "code",
   "execution_count": 18,
   "metadata": {},
   "outputs": [],
   "source": [
    "Pt = ss.fit_transform(P)"
   ]
  },
  {
   "cell_type": "code",
   "execution_count": 19,
   "metadata": {},
   "outputs": [],
   "source": [
    "P = pd.DataFrame(Pt, columns=P.columns)"
   ]
  },
  {
   "cell_type": "code",
   "execution_count": 20,
   "metadata": {},
   "outputs": [],
   "source": [
    "from sklearn.feature_selection import VarianceThreshold"
   ]
  },
  {
   "cell_type": "code",
   "execution_count": 21,
   "metadata": {},
   "outputs": [],
   "source": [
    "correlated_features=set()\n",
    "correlation_matrix=P.corr()"
   ]
  },
  {
   "cell_type": "code",
   "execution_count": 22,
   "metadata": {},
   "outputs": [
    {
     "data": {
      "text/html": [
       "<div>\n",
       "<style scoped>\n",
       "    .dataframe tbody tr th:only-of-type {\n",
       "        vertical-align: middle;\n",
       "    }\n",
       "\n",
       "    .dataframe tbody tr th {\n",
       "        vertical-align: top;\n",
       "    }\n",
       "\n",
       "    .dataframe thead th {\n",
       "        text-align: right;\n",
       "    }\n",
       "</style>\n",
       "<table border=\"1\" class=\"dataframe\">\n",
       "  <thead>\n",
       "    <tr style=\"text-align: right;\">\n",
       "      <th></th>\n",
       "      <th>mean absolute deviation in relative bond length</th>\n",
       "      <th>max relative bond length</th>\n",
       "      <th>min relative bond length</th>\n",
       "      <th>minimum neighbor distance variation</th>\n",
       "      <th>maximum neighbor distance variation</th>\n",
       "      <th>range neighbor distance variation</th>\n",
       "      <th>mean neighbor distance variation</th>\n",
       "      <th>avg_dev neighbor distance variation</th>\n",
       "      <th>mean absolute deviation in relative cell size</th>\n",
       "      <th>H fraction</th>\n",
       "      <th>...</th>\n",
       "      <th>range Electronegativity</th>\n",
       "      <th>mean Electronegativity</th>\n",
       "      <th>avg s valence electrons</th>\n",
       "      <th>avg p valence electrons</th>\n",
       "      <th>avg d valence electrons</th>\n",
       "      <th>avg f valence electrons</th>\n",
       "      <th>frac s valence electrons</th>\n",
       "      <th>frac p valence electrons</th>\n",
       "      <th>frac d valence electrons</th>\n",
       "      <th>frac f valence electrons</th>\n",
       "    </tr>\n",
       "  </thead>\n",
       "  <tbody>\n",
       "    <tr>\n",
       "      <th>mean absolute deviation in relative bond length</th>\n",
       "      <td>1.000000</td>\n",
       "      <td>0.751492</td>\n",
       "      <td>-0.914805</td>\n",
       "      <td>0.267831</td>\n",
       "      <td>0.265686</td>\n",
       "      <td>0.155064</td>\n",
       "      <td>0.322087</td>\n",
       "      <td>0.137516</td>\n",
       "      <td>0.940749</td>\n",
       "      <td>0.107089</td>\n",
       "      <td>...</td>\n",
       "      <td>-0.022660</td>\n",
       "      <td>0.189654</td>\n",
       "      <td>-0.079288</td>\n",
       "      <td>0.207897</td>\n",
       "      <td>-0.167756</td>\n",
       "      <td>-0.233509</td>\n",
       "      <td>0.244733</td>\n",
       "      <td>0.378178</td>\n",
       "      <td>-0.202538</td>\n",
       "      <td>-0.227354</td>\n",
       "    </tr>\n",
       "    <tr>\n",
       "      <th>max relative bond length</th>\n",
       "      <td>0.751492</td>\n",
       "      <td>1.000000</td>\n",
       "      <td>-0.670784</td>\n",
       "      <td>0.186704</td>\n",
       "      <td>0.217116</td>\n",
       "      <td>0.144910</td>\n",
       "      <td>0.206328</td>\n",
       "      <td>0.216902</td>\n",
       "      <td>0.795608</td>\n",
       "      <td>0.227078</td>\n",
       "      <td>...</td>\n",
       "      <td>0.049415</td>\n",
       "      <td>0.104666</td>\n",
       "      <td>-0.209890</td>\n",
       "      <td>0.124519</td>\n",
       "      <td>-0.098227</td>\n",
       "      <td>-0.194169</td>\n",
       "      <td>0.159696</td>\n",
       "      <td>0.273393</td>\n",
       "      <td>-0.102697</td>\n",
       "      <td>-0.204843</td>\n",
       "    </tr>\n",
       "    <tr>\n",
       "      <th>min relative bond length</th>\n",
       "      <td>-0.914805</td>\n",
       "      <td>-0.670784</td>\n",
       "      <td>1.000000</td>\n",
       "      <td>-0.162376</td>\n",
       "      <td>-0.173928</td>\n",
       "      <td>-0.108839</td>\n",
       "      <td>-0.199620</td>\n",
       "      <td>-0.052129</td>\n",
       "      <td>-0.839519</td>\n",
       "      <td>-0.025191</td>\n",
       "      <td>...</td>\n",
       "      <td>-0.009736</td>\n",
       "      <td>-0.139462</td>\n",
       "      <td>0.042468</td>\n",
       "      <td>-0.194100</td>\n",
       "      <td>0.157364</td>\n",
       "      <td>0.174186</td>\n",
       "      <td>-0.220201</td>\n",
       "      <td>-0.334966</td>\n",
       "      <td>0.211880</td>\n",
       "      <td>0.165882</td>\n",
       "    </tr>\n",
       "    <tr>\n",
       "      <th>minimum neighbor distance variation</th>\n",
       "      <td>0.267831</td>\n",
       "      <td>0.186704</td>\n",
       "      <td>-0.162376</td>\n",
       "      <td>1.000000</td>\n",
       "      <td>0.498925</td>\n",
       "      <td>0.010057</td>\n",
       "      <td>0.688512</td>\n",
       "      <td>-0.270431</td>\n",
       "      <td>0.250445</td>\n",
       "      <td>0.134112</td>\n",
       "      <td>...</td>\n",
       "      <td>-0.338598</td>\n",
       "      <td>0.230928</td>\n",
       "      <td>-0.020873</td>\n",
       "      <td>0.337378</td>\n",
       "      <td>0.063418</td>\n",
       "      <td>-0.124075</td>\n",
       "      <td>-0.048914</td>\n",
       "      <td>0.123797</td>\n",
       "      <td>0.063076</td>\n",
       "      <td>-0.149110</td>\n",
       "    </tr>\n",
       "    <tr>\n",
       "      <th>maximum neighbor distance variation</th>\n",
       "      <td>0.265686</td>\n",
       "      <td>0.217116</td>\n",
       "      <td>-0.173928</td>\n",
       "      <td>0.498925</td>\n",
       "      <td>1.000000</td>\n",
       "      <td>0.871619</td>\n",
       "      <td>0.927851</td>\n",
       "      <td>0.518671</td>\n",
       "      <td>0.206450</td>\n",
       "      <td>0.269620</td>\n",
       "      <td>...</td>\n",
       "      <td>-0.132368</td>\n",
       "      <td>0.273178</td>\n",
       "      <td>0.041724</td>\n",
       "      <td>0.160246</td>\n",
       "      <td>-0.175031</td>\n",
       "      <td>-0.194211</td>\n",
       "      <td>0.216363</td>\n",
       "      <td>0.308086</td>\n",
       "      <td>-0.173079</td>\n",
       "      <td>-0.185714</td>\n",
       "    </tr>\n",
       "    <tr>\n",
       "      <th>...</th>\n",
       "      <td>...</td>\n",
       "      <td>...</td>\n",
       "      <td>...</td>\n",
       "      <td>...</td>\n",
       "      <td>...</td>\n",
       "      <td>...</td>\n",
       "      <td>...</td>\n",
       "      <td>...</td>\n",
       "      <td>...</td>\n",
       "      <td>...</td>\n",
       "      <td>...</td>\n",
       "      <td>...</td>\n",
       "      <td>...</td>\n",
       "      <td>...</td>\n",
       "      <td>...</td>\n",
       "      <td>...</td>\n",
       "      <td>...</td>\n",
       "      <td>...</td>\n",
       "      <td>...</td>\n",
       "      <td>...</td>\n",
       "      <td>...</td>\n",
       "    </tr>\n",
       "    <tr>\n",
       "      <th>avg f valence electrons</th>\n",
       "      <td>-0.233509</td>\n",
       "      <td>-0.194169</td>\n",
       "      <td>0.174186</td>\n",
       "      <td>-0.124075</td>\n",
       "      <td>-0.194211</td>\n",
       "      <td>-0.153906</td>\n",
       "      <td>-0.206378</td>\n",
       "      <td>-0.130253</td>\n",
       "      <td>-0.224153</td>\n",
       "      <td>-0.061467</td>\n",
       "      <td>...</td>\n",
       "      <td>-0.170107</td>\n",
       "      <td>-0.111493</td>\n",
       "      <td>0.276797</td>\n",
       "      <td>-0.135867</td>\n",
       "      <td>0.107995</td>\n",
       "      <td>1.000000</td>\n",
       "      <td>-0.538273</td>\n",
       "      <td>-0.657999</td>\n",
       "      <td>-0.074722</td>\n",
       "      <td>0.953344</td>\n",
       "    </tr>\n",
       "    <tr>\n",
       "      <th>frac s valence electrons</th>\n",
       "      <td>0.244733</td>\n",
       "      <td>0.159696</td>\n",
       "      <td>-0.220201</td>\n",
       "      <td>-0.048914</td>\n",
       "      <td>0.216363</td>\n",
       "      <td>0.277309</td>\n",
       "      <td>0.173453</td>\n",
       "      <td>0.333418</td>\n",
       "      <td>0.171281</td>\n",
       "      <td>0.041538</td>\n",
       "      <td>...</td>\n",
       "      <td>0.373660</td>\n",
       "      <td>0.126866</td>\n",
       "      <td>0.093627</td>\n",
       "      <td>-0.354581</td>\n",
       "      <td>-0.785826</td>\n",
       "      <td>-0.538273</td>\n",
       "      <td>1.000000</td>\n",
       "      <td>0.833259</td>\n",
       "      <td>-0.733869</td>\n",
       "      <td>-0.435451</td>\n",
       "    </tr>\n",
       "    <tr>\n",
       "      <th>frac p valence electrons</th>\n",
       "      <td>0.378178</td>\n",
       "      <td>0.273393</td>\n",
       "      <td>-0.334966</td>\n",
       "      <td>0.123797</td>\n",
       "      <td>0.308086</td>\n",
       "      <td>0.285453</td>\n",
       "      <td>0.292481</td>\n",
       "      <td>0.231942</td>\n",
       "      <td>0.331062</td>\n",
       "      <td>0.074019</td>\n",
       "      <td>...</td>\n",
       "      <td>0.423164</td>\n",
       "      <td>0.351057</td>\n",
       "      <td>-0.184164</td>\n",
       "      <td>0.155213</td>\n",
       "      <td>-0.666021</td>\n",
       "      <td>-0.657999</td>\n",
       "      <td>0.833259</td>\n",
       "      <td>1.000000</td>\n",
       "      <td>-0.622819</td>\n",
       "      <td>-0.608092</td>\n",
       "    </tr>\n",
       "    <tr>\n",
       "      <th>frac d valence electrons</th>\n",
       "      <td>-0.202538</td>\n",
       "      <td>-0.102697</td>\n",
       "      <td>0.211880</td>\n",
       "      <td>0.063076</td>\n",
       "      <td>-0.173079</td>\n",
       "      <td>-0.235378</td>\n",
       "      <td>-0.122419</td>\n",
       "      <td>-0.256322</td>\n",
       "      <td>-0.131577</td>\n",
       "      <td>-0.022394</td>\n",
       "      <td>...</td>\n",
       "      <td>-0.405879</td>\n",
       "      <td>-0.224694</td>\n",
       "      <td>-0.168885</td>\n",
       "      <td>0.284838</td>\n",
       "      <td>0.922515</td>\n",
       "      <td>-0.074722</td>\n",
       "      <td>-0.733869</td>\n",
       "      <td>-0.622819</td>\n",
       "      <td>1.000000</td>\n",
       "      <td>-0.203230</td>\n",
       "    </tr>\n",
       "    <tr>\n",
       "      <th>frac f valence electrons</th>\n",
       "      <td>-0.227354</td>\n",
       "      <td>-0.204843</td>\n",
       "      <td>0.165882</td>\n",
       "      <td>-0.149110</td>\n",
       "      <td>-0.185714</td>\n",
       "      <td>-0.129942</td>\n",
       "      <td>-0.206171</td>\n",
       "      <td>-0.092991</td>\n",
       "      <td>-0.226952</td>\n",
       "      <td>-0.060721</td>\n",
       "      <td>...</td>\n",
       "      <td>-0.105294</td>\n",
       "      <td>-0.110748</td>\n",
       "      <td>0.296348</td>\n",
       "      <td>-0.254828</td>\n",
       "      <td>-0.047299</td>\n",
       "      <td>0.953344</td>\n",
       "      <td>-0.435451</td>\n",
       "      <td>-0.608092</td>\n",
       "      <td>-0.203230</td>\n",
       "      <td>1.000000</td>\n",
       "    </tr>\n",
       "  </tbody>\n",
       "</table>\n",
       "<p>129 rows × 129 columns</p>\n",
       "</div>"
      ],
      "text/plain": [
       "                                                 mean absolute deviation in relative bond length  \\\n",
       "mean absolute deviation in relative bond length                                         1.000000   \n",
       "max relative bond length                                                                0.751492   \n",
       "min relative bond length                                                               -0.914805   \n",
       "minimum neighbor distance variation                                                     0.267831   \n",
       "maximum neighbor distance variation                                                     0.265686   \n",
       "...                                                                                          ...   \n",
       "avg f valence electrons                                                                -0.233509   \n",
       "frac s valence electrons                                                                0.244733   \n",
       "frac p valence electrons                                                                0.378178   \n",
       "frac d valence electrons                                                               -0.202538   \n",
       "frac f valence electrons                                                               -0.227354   \n",
       "\n",
       "                                                 max relative bond length  \\\n",
       "mean absolute deviation in relative bond length                  0.751492   \n",
       "max relative bond length                                         1.000000   \n",
       "min relative bond length                                        -0.670784   \n",
       "minimum neighbor distance variation                              0.186704   \n",
       "maximum neighbor distance variation                              0.217116   \n",
       "...                                                                   ...   \n",
       "avg f valence electrons                                         -0.194169   \n",
       "frac s valence electrons                                         0.159696   \n",
       "frac p valence electrons                                         0.273393   \n",
       "frac d valence electrons                                        -0.102697   \n",
       "frac f valence electrons                                        -0.204843   \n",
       "\n",
       "                                                 min relative bond length  \\\n",
       "mean absolute deviation in relative bond length                 -0.914805   \n",
       "max relative bond length                                        -0.670784   \n",
       "min relative bond length                                         1.000000   \n",
       "minimum neighbor distance variation                             -0.162376   \n",
       "maximum neighbor distance variation                             -0.173928   \n",
       "...                                                                   ...   \n",
       "avg f valence electrons                                          0.174186   \n",
       "frac s valence electrons                                        -0.220201   \n",
       "frac p valence electrons                                        -0.334966   \n",
       "frac d valence electrons                                         0.211880   \n",
       "frac f valence electrons                                         0.165882   \n",
       "\n",
       "                                                 minimum neighbor distance variation  \\\n",
       "mean absolute deviation in relative bond length                             0.267831   \n",
       "max relative bond length                                                    0.186704   \n",
       "min relative bond length                                                   -0.162376   \n",
       "minimum neighbor distance variation                                         1.000000   \n",
       "maximum neighbor distance variation                                         0.498925   \n",
       "...                                                                              ...   \n",
       "avg f valence electrons                                                    -0.124075   \n",
       "frac s valence electrons                                                   -0.048914   \n",
       "frac p valence electrons                                                    0.123797   \n",
       "frac d valence electrons                                                    0.063076   \n",
       "frac f valence electrons                                                   -0.149110   \n",
       "\n",
       "                                                 maximum neighbor distance variation  \\\n",
       "mean absolute deviation in relative bond length                             0.265686   \n",
       "max relative bond length                                                    0.217116   \n",
       "min relative bond length                                                   -0.173928   \n",
       "minimum neighbor distance variation                                         0.498925   \n",
       "maximum neighbor distance variation                                         1.000000   \n",
       "...                                                                              ...   \n",
       "avg f valence electrons                                                    -0.194211   \n",
       "frac s valence electrons                                                    0.216363   \n",
       "frac p valence electrons                                                    0.308086   \n",
       "frac d valence electrons                                                   -0.173079   \n",
       "frac f valence electrons                                                   -0.185714   \n",
       "\n",
       "                                                 range neighbor distance variation  \\\n",
       "mean absolute deviation in relative bond length                           0.155064   \n",
       "max relative bond length                                                  0.144910   \n",
       "min relative bond length                                                 -0.108839   \n",
       "minimum neighbor distance variation                                       0.010057   \n",
       "maximum neighbor distance variation                                       0.871619   \n",
       "...                                                                            ...   \n",
       "avg f valence electrons                                                  -0.153906   \n",
       "frac s valence electrons                                                  0.277309   \n",
       "frac p valence electrons                                                  0.285453   \n",
       "frac d valence electrons                                                 -0.235378   \n",
       "frac f valence electrons                                                 -0.129942   \n",
       "\n",
       "                                                 mean neighbor distance variation  \\\n",
       "mean absolute deviation in relative bond length                          0.322087   \n",
       "max relative bond length                                                 0.206328   \n",
       "min relative bond length                                                -0.199620   \n",
       "minimum neighbor distance variation                                      0.688512   \n",
       "maximum neighbor distance variation                                      0.927851   \n",
       "...                                                                           ...   \n",
       "avg f valence electrons                                                 -0.206378   \n",
       "frac s valence electrons                                                 0.173453   \n",
       "frac p valence electrons                                                 0.292481   \n",
       "frac d valence electrons                                                -0.122419   \n",
       "frac f valence electrons                                                -0.206171   \n",
       "\n",
       "                                                 avg_dev neighbor distance variation  \\\n",
       "mean absolute deviation in relative bond length                             0.137516   \n",
       "max relative bond length                                                    0.216902   \n",
       "min relative bond length                                                   -0.052129   \n",
       "minimum neighbor distance variation                                        -0.270431   \n",
       "maximum neighbor distance variation                                         0.518671   \n",
       "...                                                                              ...   \n",
       "avg f valence electrons                                                    -0.130253   \n",
       "frac s valence electrons                                                    0.333418   \n",
       "frac p valence electrons                                                    0.231942   \n",
       "frac d valence electrons                                                   -0.256322   \n",
       "frac f valence electrons                                                   -0.092991   \n",
       "\n",
       "                                                 mean absolute deviation in relative cell size  \\\n",
       "mean absolute deviation in relative bond length                                       0.940749   \n",
       "max relative bond length                                                              0.795608   \n",
       "min relative bond length                                                             -0.839519   \n",
       "minimum neighbor distance variation                                                   0.250445   \n",
       "maximum neighbor distance variation                                                   0.206450   \n",
       "...                                                                                        ...   \n",
       "avg f valence electrons                                                              -0.224153   \n",
       "frac s valence electrons                                                              0.171281   \n",
       "frac p valence electrons                                                              0.331062   \n",
       "frac d valence electrons                                                             -0.131577   \n",
       "frac f valence electrons                                                             -0.226952   \n",
       "\n",
       "                                                 H fraction  ...  \\\n",
       "mean absolute deviation in relative bond length    0.107089  ...   \n",
       "max relative bond length                           0.227078  ...   \n",
       "min relative bond length                          -0.025191  ...   \n",
       "minimum neighbor distance variation                0.134112  ...   \n",
       "maximum neighbor distance variation                0.269620  ...   \n",
       "...                                                     ...  ...   \n",
       "avg f valence electrons                           -0.061467  ...   \n",
       "frac s valence electrons                           0.041538  ...   \n",
       "frac p valence electrons                           0.074019  ...   \n",
       "frac d valence electrons                          -0.022394  ...   \n",
       "frac f valence electrons                          -0.060721  ...   \n",
       "\n",
       "                                                 range Electronegativity  \\\n",
       "mean absolute deviation in relative bond length                -0.022660   \n",
       "max relative bond length                                        0.049415   \n",
       "min relative bond length                                       -0.009736   \n",
       "minimum neighbor distance variation                            -0.338598   \n",
       "maximum neighbor distance variation                            -0.132368   \n",
       "...                                                                  ...   \n",
       "avg f valence electrons                                        -0.170107   \n",
       "frac s valence electrons                                        0.373660   \n",
       "frac p valence electrons                                        0.423164   \n",
       "frac d valence electrons                                       -0.405879   \n",
       "frac f valence electrons                                       -0.105294   \n",
       "\n",
       "                                                 mean Electronegativity  \\\n",
       "mean absolute deviation in relative bond length                0.189654   \n",
       "max relative bond length                                       0.104666   \n",
       "min relative bond length                                      -0.139462   \n",
       "minimum neighbor distance variation                            0.230928   \n",
       "maximum neighbor distance variation                            0.273178   \n",
       "...                                                                 ...   \n",
       "avg f valence electrons                                       -0.111493   \n",
       "frac s valence electrons                                       0.126866   \n",
       "frac p valence electrons                                       0.351057   \n",
       "frac d valence electrons                                      -0.224694   \n",
       "frac f valence electrons                                      -0.110748   \n",
       "\n",
       "                                                 avg s valence electrons  \\\n",
       "mean absolute deviation in relative bond length                -0.079288   \n",
       "max relative bond length                                       -0.209890   \n",
       "min relative bond length                                        0.042468   \n",
       "minimum neighbor distance variation                            -0.020873   \n",
       "maximum neighbor distance variation                             0.041724   \n",
       "...                                                                  ...   \n",
       "avg f valence electrons                                         0.276797   \n",
       "frac s valence electrons                                        0.093627   \n",
       "frac p valence electrons                                       -0.184164   \n",
       "frac d valence electrons                                       -0.168885   \n",
       "frac f valence electrons                                        0.296348   \n",
       "\n",
       "                                                 avg p valence electrons  \\\n",
       "mean absolute deviation in relative bond length                 0.207897   \n",
       "max relative bond length                                        0.124519   \n",
       "min relative bond length                                       -0.194100   \n",
       "minimum neighbor distance variation                             0.337378   \n",
       "maximum neighbor distance variation                             0.160246   \n",
       "...                                                                  ...   \n",
       "avg f valence electrons                                        -0.135867   \n",
       "frac s valence electrons                                       -0.354581   \n",
       "frac p valence electrons                                        0.155213   \n",
       "frac d valence electrons                                        0.284838   \n",
       "frac f valence electrons                                       -0.254828   \n",
       "\n",
       "                                                 avg d valence electrons  \\\n",
       "mean absolute deviation in relative bond length                -0.167756   \n",
       "max relative bond length                                       -0.098227   \n",
       "min relative bond length                                        0.157364   \n",
       "minimum neighbor distance variation                             0.063418   \n",
       "maximum neighbor distance variation                            -0.175031   \n",
       "...                                                                  ...   \n",
       "avg f valence electrons                                         0.107995   \n",
       "frac s valence electrons                                       -0.785826   \n",
       "frac p valence electrons                                       -0.666021   \n",
       "frac d valence electrons                                        0.922515   \n",
       "frac f valence electrons                                       -0.047299   \n",
       "\n",
       "                                                 avg f valence electrons  \\\n",
       "mean absolute deviation in relative bond length                -0.233509   \n",
       "max relative bond length                                       -0.194169   \n",
       "min relative bond length                                        0.174186   \n",
       "minimum neighbor distance variation                            -0.124075   \n",
       "maximum neighbor distance variation                            -0.194211   \n",
       "...                                                                  ...   \n",
       "avg f valence electrons                                         1.000000   \n",
       "frac s valence electrons                                       -0.538273   \n",
       "frac p valence electrons                                       -0.657999   \n",
       "frac d valence electrons                                       -0.074722   \n",
       "frac f valence electrons                                        0.953344   \n",
       "\n",
       "                                                 frac s valence electrons  \\\n",
       "mean absolute deviation in relative bond length                  0.244733   \n",
       "max relative bond length                                         0.159696   \n",
       "min relative bond length                                        -0.220201   \n",
       "minimum neighbor distance variation                             -0.048914   \n",
       "maximum neighbor distance variation                              0.216363   \n",
       "...                                                                   ...   \n",
       "avg f valence electrons                                         -0.538273   \n",
       "frac s valence electrons                                         1.000000   \n",
       "frac p valence electrons                                         0.833259   \n",
       "frac d valence electrons                                        -0.733869   \n",
       "frac f valence electrons                                        -0.435451   \n",
       "\n",
       "                                                 frac p valence electrons  \\\n",
       "mean absolute deviation in relative bond length                  0.378178   \n",
       "max relative bond length                                         0.273393   \n",
       "min relative bond length                                        -0.334966   \n",
       "minimum neighbor distance variation                              0.123797   \n",
       "maximum neighbor distance variation                              0.308086   \n",
       "...                                                                   ...   \n",
       "avg f valence electrons                                         -0.657999   \n",
       "frac s valence electrons                                         0.833259   \n",
       "frac p valence electrons                                         1.000000   \n",
       "frac d valence electrons                                        -0.622819   \n",
       "frac f valence electrons                                        -0.608092   \n",
       "\n",
       "                                                 frac d valence electrons  \\\n",
       "mean absolute deviation in relative bond length                 -0.202538   \n",
       "max relative bond length                                        -0.102697   \n",
       "min relative bond length                                         0.211880   \n",
       "minimum neighbor distance variation                              0.063076   \n",
       "maximum neighbor distance variation                             -0.173079   \n",
       "...                                                                   ...   \n",
       "avg f valence electrons                                         -0.074722   \n",
       "frac s valence electrons                                        -0.733869   \n",
       "frac p valence electrons                                        -0.622819   \n",
       "frac d valence electrons                                         1.000000   \n",
       "frac f valence electrons                                        -0.203230   \n",
       "\n",
       "                                                 frac f valence electrons  \n",
       "mean absolute deviation in relative bond length                 -0.227354  \n",
       "max relative bond length                                        -0.204843  \n",
       "min relative bond length                                         0.165882  \n",
       "minimum neighbor distance variation                             -0.149110  \n",
       "maximum neighbor distance variation                             -0.185714  \n",
       "...                                                                   ...  \n",
       "avg f valence electrons                                          0.953344  \n",
       "frac s valence electrons                                        -0.435451  \n",
       "frac p valence electrons                                        -0.608092  \n",
       "frac d valence electrons                                        -0.203230  \n",
       "frac f valence electrons                                         1.000000  \n",
       "\n",
       "[129 rows x 129 columns]"
      ]
     },
     "execution_count": 22,
     "metadata": {},
     "output_type": "execute_result"
    }
   ],
   "source": [
    "correlation_matrix"
   ]
  },
  {
   "cell_type": "code",
   "execution_count": 23,
   "metadata": {},
   "outputs": [],
   "source": [
    "for i in range(len(correlation_matrix.columns)):\n",
    "    for j in range(i):\n",
    "        if abs(correlation_matrix.iloc[i,j]) > 0.8:\n",
    "            colname = correlation_matrix.columns[i]\n",
    "            correlated_features.add(colname)"
   ]
  },
  {
   "cell_type": "code",
   "execution_count": 24,
   "metadata": {},
   "outputs": [
    {
     "name": "stdout",
     "output_type": "stream",
     "text": [
      "{'mean neighbor distance variation', 'range neighbor distance variation', 'min relative bond length', 'frac f valence electrons', 'mean Electronegativity', 'mean Number', 'frac p valence electrons', 'mean absolute deviation in relative cell size', 'frac d valence electrons', 'mean Row', 'mean AtomicRadius'}\n"
     ]
    }
   ],
   "source": [
    "print(correlated_features)"
   ]
  },
  {
   "cell_type": "code",
   "execution_count": 25,
   "metadata": {},
   "outputs": [],
   "source": [
    "P=P.drop(labels=correlated_features, axis=1)"
   ]
  },
  {
   "cell_type": "code",
   "execution_count": 26,
   "metadata": {},
   "outputs": [],
   "source": [
    "df=df.drop(labels=correlated_features, axis=1)"
   ]
  },
  {
   "cell_type": "code",
   "execution_count": 34,
   "metadata": {},
   "outputs": [],
   "source": [
    "df.to_csv('ABX3_with_features.csv')"
   ]
  },
  {
   "cell_type": "code",
   "execution_count": 27,
   "metadata": {},
   "outputs": [],
   "source": [
    "from sklearn.model_selection import train_test_split, RandomizedSearchCV, cross_val_score\n",
    "from sklearn.metrics import confusion_matrix, classification_report, accuracy_score, roc_curve, auc"
   ]
  },
  {
   "cell_type": "code",
   "execution_count": 28,
   "metadata": {},
   "outputs": [],
   "source": [
    "from xgboost import XGBClassifier\n",
    "xgb=XGBClassifier(random_state=0)"
   ]
  },
  {
   "cell_type": "code",
   "execution_count": 29,
   "metadata": {},
   "outputs": [],
   "source": [
    "params = {'max_depth': [3, 5, 6, 10, 15, 20],\n",
    "           'learning_rate': [0.01, 0.1, 0.2, 0.3],\n",
    "           'subsample': np.arange(0.5, 1.0, 0.1),\n",
    "           'colsample_bytree': np.arange(0.4, 1.0, 0.1),\n",
    "           'colsample_bylevel': np.arange(0.4, 1.0, 0.1),\n",
    "           'n_estimators': [100, 500, 1000]}"
   ]
  },
  {
   "cell_type": "code",
   "execution_count": 30,
   "metadata": {},
   "outputs": [],
   "source": [
    "xgb_op = RandomizedSearchCV(xgb, params, n_iter=20, cv=10, verbose=1, scoring='accuracy', random_state=0, n_jobs = -1)"
   ]
  },
  {
   "cell_type": "code",
   "execution_count": 31,
   "metadata": {},
   "outputs": [
    {
     "name": "stdout",
     "output_type": "stream",
     "text": [
      "Fitting 10 folds for each of 20 candidates, totalling 200 fits\n"
     ]
    },
    {
     "name": "stderr",
     "output_type": "stream",
     "text": [
      "C:\\Users\\SMARAK RATH\\anaconda3\\lib\\site-packages\\xgboost\\sklearn.py:1146: UserWarning: The use of label encoder in XGBClassifier is deprecated and will be removed in a future release. To remove this warning, do the following: 1) Pass option use_label_encoder=False when constructing XGBClassifier object; and 2) Encode your labels (y) as integers starting with 0, i.e. 0, 1, 2, ..., [num_class - 1].\n",
      "  warnings.warn(label_encoder_deprecation_msg, UserWarning)\n"
     ]
    },
    {
     "name": "stdout",
     "output_type": "stream",
     "text": [
      "[14:34:24] WARNING: C:/Users/Administrator/workspace/xgboost-win64_release_1.4.0/src/learner.cc:1095: Starting in XGBoost 1.3.0, the default evaluation metric used with the objective 'binary:logistic' was changed from 'error' to 'logloss'. Explicitly set eval_metric if you'd like to restore the old behavior.\n"
     ]
    },
    {
     "data": {
      "text/plain": [
       "RandomizedSearchCV(cv=10,\n",
       "                   estimator=XGBClassifier(base_score=None, booster=None,\n",
       "                                           colsample_bylevel=None,\n",
       "                                           colsample_bynode=None,\n",
       "                                           colsample_bytree=None, gamma=None,\n",
       "                                           gpu_id=None, importance_type='gain',\n",
       "                                           interaction_constraints=None,\n",
       "                                           learning_rate=None,\n",
       "                                           max_delta_step=None, max_depth=None,\n",
       "                                           min_child_weight=None, missing=nan,\n",
       "                                           monotone_constraints=None,\n",
       "                                           n_estimators=100...\n",
       "                                           validate_parameters=None,\n",
       "                                           verbosity=None),\n",
       "                   n_iter=20, n_jobs=-1,\n",
       "                   param_distributions={'colsample_bylevel': array([0.4, 0.5, 0.6, 0.7, 0.8, 0.9]),\n",
       "                                        'colsample_bytree': array([0.4, 0.5, 0.6, 0.7, 0.8, 0.9]),\n",
       "                                        'learning_rate': [0.01, 0.1, 0.2, 0.3],\n",
       "                                        'max_depth': [3, 5, 6, 10, 15, 20],\n",
       "                                        'n_estimators': [100, 500, 1000],\n",
       "                                        'subsample': array([0.5, 0.6, 0.7, 0.8, 0.9])},\n",
       "                   random_state=0, scoring='accuracy', verbose=1)"
      ]
     },
     "execution_count": 31,
     "metadata": {},
     "output_type": "execute_result"
    }
   ],
   "source": [
    "xgb_op.fit(P,Q)"
   ]
  },
  {
   "cell_type": "code",
   "execution_count": 32,
   "metadata": {},
   "outputs": [
    {
     "data": {
      "text/plain": [
       "{'subsample': 0.8999999999999999,\n",
       " 'n_estimators': 100,\n",
       " 'max_depth': 20,\n",
       " 'learning_rate': 0.01,\n",
       " 'colsample_bytree': 0.5,\n",
       " 'colsample_bylevel': 0.5}"
      ]
     },
     "execution_count": 32,
     "metadata": {},
     "output_type": "execute_result"
    }
   ],
   "source": [
    "xgb_op.best_params_"
   ]
  },
  {
   "cell_type": "code",
   "execution_count": 33,
   "metadata": {},
   "outputs": [],
   "source": [
    "xgb = XGBClassifier(random_state=0, n_estimators=100, max_depth=20, learning_rate=0.01, colsample_bytree=0.5, colsample_bylevel=0.5, subsample=0.8999999999999999)"
   ]
  },
  {
   "cell_type": "code",
   "execution_count": 34,
   "metadata": {},
   "outputs": [
    {
     "name": "stderr",
     "output_type": "stream",
     "text": [
      "C:\\Users\\SMARAK RATH\\anaconda3\\lib\\site-packages\\xgboost\\sklearn.py:1146: UserWarning: The use of label encoder in XGBClassifier is deprecated and will be removed in a future release. To remove this warning, do the following: 1) Pass option use_label_encoder=False when constructing XGBClassifier object; and 2) Encode your labels (y) as integers starting with 0, i.e. 0, 1, 2, ..., [num_class - 1].\n",
      "  warnings.warn(label_encoder_deprecation_msg, UserWarning)\n"
     ]
    },
    {
     "name": "stdout",
     "output_type": "stream",
     "text": [
      "[14:37:36] WARNING: C:/Users/Administrator/workspace/xgboost-win64_release_1.4.0/src/learner.cc:1095: Starting in XGBoost 1.3.0, the default evaluation metric used with the objective 'binary:logistic' was changed from 'error' to 'logloss'. Explicitly set eval_metric if you'd like to restore the old behavior.\n"
     ]
    },
    {
     "name": "stderr",
     "output_type": "stream",
     "text": [
      "C:\\Users\\SMARAK RATH\\anaconda3\\lib\\site-packages\\xgboost\\sklearn.py:1146: UserWarning: The use of label encoder in XGBClassifier is deprecated and will be removed in a future release. To remove this warning, do the following: 1) Pass option use_label_encoder=False when constructing XGBClassifier object; and 2) Encode your labels (y) as integers starting with 0, i.e. 0, 1, 2, ..., [num_class - 1].\n",
      "  warnings.warn(label_encoder_deprecation_msg, UserWarning)\n"
     ]
    },
    {
     "name": "stdout",
     "output_type": "stream",
     "text": [
      "[14:37:37] WARNING: C:/Users/Administrator/workspace/xgboost-win64_release_1.4.0/src/learner.cc:1095: Starting in XGBoost 1.3.0, the default evaluation metric used with the objective 'binary:logistic' was changed from 'error' to 'logloss'. Explicitly set eval_metric if you'd like to restore the old behavior.\n"
     ]
    },
    {
     "name": "stderr",
     "output_type": "stream",
     "text": [
      "C:\\Users\\SMARAK RATH\\anaconda3\\lib\\site-packages\\xgboost\\sklearn.py:1146: UserWarning: The use of label encoder in XGBClassifier is deprecated and will be removed in a future release. To remove this warning, do the following: 1) Pass option use_label_encoder=False when constructing XGBClassifier object; and 2) Encode your labels (y) as integers starting with 0, i.e. 0, 1, 2, ..., [num_class - 1].\n",
      "  warnings.warn(label_encoder_deprecation_msg, UserWarning)\n"
     ]
    },
    {
     "name": "stdout",
     "output_type": "stream",
     "text": [
      "[14:37:37] WARNING: C:/Users/Administrator/workspace/xgboost-win64_release_1.4.0/src/learner.cc:1095: Starting in XGBoost 1.3.0, the default evaluation metric used with the objective 'binary:logistic' was changed from 'error' to 'logloss'. Explicitly set eval_metric if you'd like to restore the old behavior.\n"
     ]
    },
    {
     "name": "stderr",
     "output_type": "stream",
     "text": [
      "C:\\Users\\SMARAK RATH\\anaconda3\\lib\\site-packages\\xgboost\\sklearn.py:1146: UserWarning: The use of label encoder in XGBClassifier is deprecated and will be removed in a future release. To remove this warning, do the following: 1) Pass option use_label_encoder=False when constructing XGBClassifier object; and 2) Encode your labels (y) as integers starting with 0, i.e. 0, 1, 2, ..., [num_class - 1].\n",
      "  warnings.warn(label_encoder_deprecation_msg, UserWarning)\n"
     ]
    },
    {
     "name": "stdout",
     "output_type": "stream",
     "text": [
      "[14:37:38] WARNING: C:/Users/Administrator/workspace/xgboost-win64_release_1.4.0/src/learner.cc:1095: Starting in XGBoost 1.3.0, the default evaluation metric used with the objective 'binary:logistic' was changed from 'error' to 'logloss'. Explicitly set eval_metric if you'd like to restore the old behavior.\n"
     ]
    },
    {
     "name": "stderr",
     "output_type": "stream",
     "text": [
      "C:\\Users\\SMARAK RATH\\anaconda3\\lib\\site-packages\\xgboost\\sklearn.py:1146: UserWarning: The use of label encoder in XGBClassifier is deprecated and will be removed in a future release. To remove this warning, do the following: 1) Pass option use_label_encoder=False when constructing XGBClassifier object; and 2) Encode your labels (y) as integers starting with 0, i.e. 0, 1, 2, ..., [num_class - 1].\n",
      "  warnings.warn(label_encoder_deprecation_msg, UserWarning)\n"
     ]
    },
    {
     "name": "stdout",
     "output_type": "stream",
     "text": [
      "[14:37:38] WARNING: C:/Users/Administrator/workspace/xgboost-win64_release_1.4.0/src/learner.cc:1095: Starting in XGBoost 1.3.0, the default evaluation metric used with the objective 'binary:logistic' was changed from 'error' to 'logloss'. Explicitly set eval_metric if you'd like to restore the old behavior.\n"
     ]
    },
    {
     "name": "stderr",
     "output_type": "stream",
     "text": [
      "C:\\Users\\SMARAK RATH\\anaconda3\\lib\\site-packages\\xgboost\\sklearn.py:1146: UserWarning: The use of label encoder in XGBClassifier is deprecated and will be removed in a future release. To remove this warning, do the following: 1) Pass option use_label_encoder=False when constructing XGBClassifier object; and 2) Encode your labels (y) as integers starting with 0, i.e. 0, 1, 2, ..., [num_class - 1].\n",
      "  warnings.warn(label_encoder_deprecation_msg, UserWarning)\n"
     ]
    },
    {
     "name": "stdout",
     "output_type": "stream",
     "text": [
      "[14:37:39] WARNING: C:/Users/Administrator/workspace/xgboost-win64_release_1.4.0/src/learner.cc:1095: Starting in XGBoost 1.3.0, the default evaluation metric used with the objective 'binary:logistic' was changed from 'error' to 'logloss'. Explicitly set eval_metric if you'd like to restore the old behavior.\n"
     ]
    },
    {
     "name": "stderr",
     "output_type": "stream",
     "text": [
      "C:\\Users\\SMARAK RATH\\anaconda3\\lib\\site-packages\\xgboost\\sklearn.py:1146: UserWarning: The use of label encoder in XGBClassifier is deprecated and will be removed in a future release. To remove this warning, do the following: 1) Pass option use_label_encoder=False when constructing XGBClassifier object; and 2) Encode your labels (y) as integers starting with 0, i.e. 0, 1, 2, ..., [num_class - 1].\n",
      "  warnings.warn(label_encoder_deprecation_msg, UserWarning)\n"
     ]
    },
    {
     "name": "stdout",
     "output_type": "stream",
     "text": [
      "[14:37:39] WARNING: C:/Users/Administrator/workspace/xgboost-win64_release_1.4.0/src/learner.cc:1095: Starting in XGBoost 1.3.0, the default evaluation metric used with the objective 'binary:logistic' was changed from 'error' to 'logloss'. Explicitly set eval_metric if you'd like to restore the old behavior.\n"
     ]
    },
    {
     "name": "stderr",
     "output_type": "stream",
     "text": [
      "C:\\Users\\SMARAK RATH\\anaconda3\\lib\\site-packages\\xgboost\\sklearn.py:1146: UserWarning: The use of label encoder in XGBClassifier is deprecated and will be removed in a future release. To remove this warning, do the following: 1) Pass option use_label_encoder=False when constructing XGBClassifier object; and 2) Encode your labels (y) as integers starting with 0, i.e. 0, 1, 2, ..., [num_class - 1].\n",
      "  warnings.warn(label_encoder_deprecation_msg, UserWarning)\n"
     ]
    },
    {
     "name": "stdout",
     "output_type": "stream",
     "text": [
      "[14:37:40] WARNING: C:/Users/Administrator/workspace/xgboost-win64_release_1.4.0/src/learner.cc:1095: Starting in XGBoost 1.3.0, the default evaluation metric used with the objective 'binary:logistic' was changed from 'error' to 'logloss'. Explicitly set eval_metric if you'd like to restore the old behavior.\n"
     ]
    },
    {
     "name": "stderr",
     "output_type": "stream",
     "text": [
      "C:\\Users\\SMARAK RATH\\anaconda3\\lib\\site-packages\\xgboost\\sklearn.py:1146: UserWarning: The use of label encoder in XGBClassifier is deprecated and will be removed in a future release. To remove this warning, do the following: 1) Pass option use_label_encoder=False when constructing XGBClassifier object; and 2) Encode your labels (y) as integers starting with 0, i.e. 0, 1, 2, ..., [num_class - 1].\n",
      "  warnings.warn(label_encoder_deprecation_msg, UserWarning)\n"
     ]
    },
    {
     "name": "stdout",
     "output_type": "stream",
     "text": [
      "[14:37:40] WARNING: C:/Users/Administrator/workspace/xgboost-win64_release_1.4.0/src/learner.cc:1095: Starting in XGBoost 1.3.0, the default evaluation metric used with the objective 'binary:logistic' was changed from 'error' to 'logloss'. Explicitly set eval_metric if you'd like to restore the old behavior.\n"
     ]
    },
    {
     "name": "stderr",
     "output_type": "stream",
     "text": [
      "C:\\Users\\SMARAK RATH\\anaconda3\\lib\\site-packages\\xgboost\\sklearn.py:1146: UserWarning: The use of label encoder in XGBClassifier is deprecated and will be removed in a future release. To remove this warning, do the following: 1) Pass option use_label_encoder=False when constructing XGBClassifier object; and 2) Encode your labels (y) as integers starting with 0, i.e. 0, 1, 2, ..., [num_class - 1].\n",
      "  warnings.warn(label_encoder_deprecation_msg, UserWarning)\n"
     ]
    },
    {
     "name": "stdout",
     "output_type": "stream",
     "text": [
      "[14:37:41] WARNING: C:/Users/Administrator/workspace/xgboost-win64_release_1.4.0/src/learner.cc:1095: Starting in XGBoost 1.3.0, the default evaluation metric used with the objective 'binary:logistic' was changed from 'error' to 'logloss'. Explicitly set eval_metric if you'd like to restore the old behavior.\n"
     ]
    },
    {
     "data": {
      "text/plain": [
       "array([0.74509804, 0.75163399, 0.74509804, 0.7254902 , 0.79738562,\n",
       "       0.75816993, 0.78431373, 0.45751634, 0.77631579, 0.74342105])"
      ]
     },
     "execution_count": 34,
     "metadata": {},
     "output_type": "execute_result"
    }
   ],
   "source": [
    "arr = cross_val_score(xgb, P, Q, cv=10)\n",
    "arr"
   ]
  },
  {
   "cell_type": "code",
   "execution_count": 35,
   "metadata": {},
   "outputs": [
    {
     "data": {
      "text/plain": [
       "0.7284442724458204"
      ]
     },
     "execution_count": 35,
     "metadata": {},
     "output_type": "execute_result"
    }
   ],
   "source": [
    "np.mean(arr)"
   ]
  },
  {
   "cell_type": "code",
   "execution_count": 36,
   "metadata": {},
   "outputs": [],
   "source": [
    "from sklearn.ensemble import RandomForestClassifier\n",
    "rf=RandomForestClassifier(random_state=0)"
   ]
  },
  {
   "cell_type": "code",
   "execution_count": 37,
   "metadata": {},
   "outputs": [],
   "source": [
    "params = {'n_estimators': [100,200,400,500,1000], 'max_depth': [10,20,30,40,50,60,70,80,90,100,None], 'max_features': ['auto', 'sqrt'], 'min_samples_leaf': [1,2,4], 'min_samples_split': [2,5,10], 'bootstrap': [True,False]}"
   ]
  },
  {
   "cell_type": "code",
   "execution_count": 38,
   "metadata": {},
   "outputs": [],
   "source": [
    "rf_op = RandomizedSearchCV(rf, params, n_iter=20, cv=10, scoring='accuracy', random_state=0, verbose=1, n_jobs=-1)"
   ]
  },
  {
   "cell_type": "code",
   "execution_count": 39,
   "metadata": {},
   "outputs": [
    {
     "name": "stdout",
     "output_type": "stream",
     "text": [
      "Fitting 10 folds for each of 20 candidates, totalling 200 fits\n"
     ]
    },
    {
     "data": {
      "text/plain": [
       "RandomizedSearchCV(cv=10, estimator=RandomForestClassifier(random_state=0),\n",
       "                   n_iter=20, n_jobs=-1,\n",
       "                   param_distributions={'bootstrap': [True, False],\n",
       "                                        'max_depth': [10, 20, 30, 40, 50, 60,\n",
       "                                                      70, 80, 90, 100, None],\n",
       "                                        'max_features': ['auto', 'sqrt'],\n",
       "                                        'min_samples_leaf': [1, 2, 4],\n",
       "                                        'min_samples_split': [2, 5, 10],\n",
       "                                        'n_estimators': [100, 200, 400, 500,\n",
       "                                                         1000]},\n",
       "                   random_state=0, scoring='accuracy', verbose=1)"
      ]
     },
     "execution_count": 39,
     "metadata": {},
     "output_type": "execute_result"
    }
   ],
   "source": [
    "rf_op.fit(P,Q)"
   ]
  },
  {
   "cell_type": "code",
   "execution_count": 40,
   "metadata": {},
   "outputs": [
    {
     "data": {
      "text/plain": [
       "{'n_estimators': 1000,\n",
       " 'min_samples_split': 2,\n",
       " 'min_samples_leaf': 1,\n",
       " 'max_features': 'auto',\n",
       " 'max_depth': 70,\n",
       " 'bootstrap': False}"
      ]
     },
     "execution_count": 40,
     "metadata": {},
     "output_type": "execute_result"
    }
   ],
   "source": [
    "rf_op.best_params_"
   ]
  },
  {
   "cell_type": "code",
   "execution_count": 41,
   "metadata": {},
   "outputs": [],
   "source": [
    "rf = RandomForestClassifier(random_state=0, n_estimators=1000, min_samples_split=2, min_samples_leaf=1, max_features='auto', max_depth=70, bootstrap=False)"
   ]
  },
  {
   "cell_type": "code",
   "execution_count": 42,
   "metadata": {},
   "outputs": [
    {
     "data": {
      "text/plain": [
       "array([0.75816993, 0.75163399, 0.76470588, 0.75816993, 0.77777778,\n",
       "       0.75816993, 0.81699346, 0.49019608, 0.73026316, 0.73026316])"
      ]
     },
     "execution_count": 42,
     "metadata": {},
     "output_type": "execute_result"
    }
   ],
   "source": [
    "arr = cross_val_score(rf, P, Q, cv=10)\n",
    "arr"
   ]
  },
  {
   "cell_type": "code",
   "execution_count": 43,
   "metadata": {},
   "outputs": [
    {
     "data": {
      "text/plain": [
       "0.7336343309253526"
      ]
     },
     "execution_count": 43,
     "metadata": {},
     "output_type": "execute_result"
    }
   ],
   "source": [
    "np.mean(arr)"
   ]
  },
  {
   "cell_type": "code",
   "execution_count": 44,
   "metadata": {},
   "outputs": [],
   "source": [
    "from sklearn.linear_model import LogisticRegression\n",
    "lr=LogisticRegression()"
   ]
  },
  {
   "cell_type": "code",
   "execution_count": 45,
   "metadata": {},
   "outputs": [],
   "source": [
    "params = {'max_iter': [100,110,120,130,140], 'dual': [True,False]}"
   ]
  },
  {
   "cell_type": "code",
   "execution_count": 46,
   "metadata": {},
   "outputs": [],
   "source": [
    "lr_op = RandomizedSearchCV(lr, params, n_iter=10, cv=10, scoring='precision', random_state=0, n_jobs=-1, verbose=1)"
   ]
  },
  {
   "cell_type": "code",
   "execution_count": 47,
   "metadata": {},
   "outputs": [
    {
     "name": "stdout",
     "output_type": "stream",
     "text": [
      "Fitting 10 folds for each of 10 candidates, totalling 100 fits\n"
     ]
    },
    {
     "name": "stderr",
     "output_type": "stream",
     "text": [
      "C:\\Users\\SMARAK RATH\\anaconda3\\lib\\site-packages\\sklearn\\model_selection\\_validation.py:372: FitFailedWarning: \n",
      "50 fits failed out of a total of 100.\n",
      "The score on these train-test partitions for these parameters will be set to nan.\n",
      "If these failures are not expected, you can try to debug them by setting error_score='raise'.\n",
      "\n",
      "Below are more details about the failures:\n",
      "--------------------------------------------------------------------------------\n",
      "50 fits failed with the following error:\n",
      "Traceback (most recent call last):\n",
      "  File \"C:\\Users\\SMARAK RATH\\anaconda3\\lib\\site-packages\\sklearn\\model_selection\\_validation.py\", line 681, in _fit_and_score\n",
      "    estimator.fit(X_train, y_train, **fit_params)\n",
      "  File \"C:\\Users\\SMARAK RATH\\anaconda3\\lib\\site-packages\\sklearn\\linear_model\\_logistic.py\", line 1461, in fit\n",
      "    solver = _check_solver(self.solver, self.penalty, self.dual)\n",
      "  File \"C:\\Users\\SMARAK RATH\\anaconda3\\lib\\site-packages\\sklearn\\linear_model\\_logistic.py\", line 453, in _check_solver\n",
      "    \"Solver %s supports only dual=False, got dual=%s\" % (solver, dual)\n",
      "ValueError: Solver lbfgs supports only dual=False, got dual=True\n",
      "\n",
      "  warnings.warn(some_fits_failed_message, FitFailedWarning)\n",
      "C:\\Users\\SMARAK RATH\\anaconda3\\lib\\site-packages\\sklearn\\model_selection\\_search.py:972: UserWarning: One or more of the test scores are non-finite: [       nan        nan        nan        nan        nan 0.44502977\n",
      " 0.44502977 0.44502977 0.44502977 0.44502977]\n",
      "  category=UserWarning,\n"
     ]
    },
    {
     "data": {
      "text/plain": [
       "RandomizedSearchCV(cv=10, estimator=LogisticRegression(), n_jobs=-1,\n",
       "                   param_distributions={'dual': [True, False],\n",
       "                                        'max_iter': [100, 110, 120, 130, 140]},\n",
       "                   random_state=0, scoring='precision', verbose=1)"
      ]
     },
     "execution_count": 47,
     "metadata": {},
     "output_type": "execute_result"
    }
   ],
   "source": [
    "lr_op.fit(P,Q)"
   ]
  },
  {
   "cell_type": "code",
   "execution_count": 48,
   "metadata": {},
   "outputs": [
    {
     "data": {
      "text/plain": [
       "{'max_iter': 100, 'dual': False}"
      ]
     },
     "execution_count": 48,
     "metadata": {},
     "output_type": "execute_result"
    }
   ],
   "source": [
    "lr_op.best_params_"
   ]
  },
  {
   "cell_type": "code",
   "execution_count": 49,
   "metadata": {},
   "outputs": [],
   "source": [
    "lr = LogisticRegression(max_iter=100, dual=False)"
   ]
  },
  {
   "cell_type": "code",
   "execution_count": 50,
   "metadata": {},
   "outputs": [
    {
     "data": {
      "text/plain": [
       "array([0.75816993, 0.75816993, 0.69934641, 0.67320261, 0.60784314,\n",
       "       0.75816993, 0.63398693, 0.52287582, 0.67105263, 0.64473684])"
      ]
     },
     "execution_count": 50,
     "metadata": {},
     "output_type": "execute_result"
    }
   ],
   "source": [
    "arr = cross_val_score(lr, P, Q, cv=10)\n",
    "arr"
   ]
  },
  {
   "cell_type": "code",
   "execution_count": 51,
   "metadata": {},
   "outputs": [
    {
     "data": {
      "text/plain": [
       "0.6727554179566563"
      ]
     },
     "execution_count": 51,
     "metadata": {},
     "output_type": "execute_result"
    }
   ],
   "source": [
    "np.mean(arr)"
   ]
  },
  {
   "cell_type": "code",
   "execution_count": 52,
   "metadata": {},
   "outputs": [],
   "source": [
    "from sklearn.svm import SVC\n",
    "svc=SVC()"
   ]
  },
  {
   "cell_type": "code",
   "execution_count": 53,
   "metadata": {},
   "outputs": [],
   "source": [
    "params = {'C': [0.1,1,10,100,1000], 'gamma': [1,0.1,0.01,0.001,0.0001]}"
   ]
  },
  {
   "cell_type": "code",
   "execution_count": 54,
   "metadata": {},
   "outputs": [],
   "source": [
    "svc_op = RandomizedSearchCV(svc, params, n_iter=20, cv=10, scoring='accuracy', random_state=0, verbose=1, n_jobs=-1)"
   ]
  },
  {
   "cell_type": "code",
   "execution_count": 55,
   "metadata": {},
   "outputs": [
    {
     "name": "stdout",
     "output_type": "stream",
     "text": [
      "Fitting 10 folds for each of 20 candidates, totalling 200 fits\n"
     ]
    },
    {
     "data": {
      "text/plain": [
       "RandomizedSearchCV(cv=10, estimator=SVC(), n_iter=20, n_jobs=-1,\n",
       "                   param_distributions={'C': [0.1, 1, 10, 100, 1000],\n",
       "                                        'gamma': [1, 0.1, 0.01, 0.001, 0.0001]},\n",
       "                   random_state=0, scoring='accuracy', verbose=1)"
      ]
     },
     "execution_count": 55,
     "metadata": {},
     "output_type": "execute_result"
    }
   ],
   "source": [
    "svc_op.fit(P,Q)"
   ]
  },
  {
   "cell_type": "code",
   "execution_count": 56,
   "metadata": {},
   "outputs": [
    {
     "data": {
      "text/plain": [
       "{'gamma': 0.001, 'C': 1}"
      ]
     },
     "execution_count": 56,
     "metadata": {},
     "output_type": "execute_result"
    }
   ],
   "source": [
    "svc_op.best_params_"
   ]
  },
  {
   "cell_type": "code",
   "execution_count": 57,
   "metadata": {},
   "outputs": [],
   "source": [
    "svc = SVC(gamma=0.001, C=1)"
   ]
  },
  {
   "cell_type": "code",
   "execution_count": 58,
   "metadata": {},
   "outputs": [
    {
     "data": {
      "text/plain": [
       "array([0.73202614, 0.73202614, 0.73202614, 0.73202614, 0.74509804,\n",
       "       0.7254902 , 0.7254902 , 0.7254902 , 0.73026316, 0.72368421])"
      ]
     },
     "execution_count": 58,
     "metadata": {},
     "output_type": "execute_result"
    }
   ],
   "source": [
    "arr = cross_val_score(svc, P, Q, cv=10)\n",
    "arr"
   ]
  },
  {
   "cell_type": "code",
   "execution_count": 59,
   "metadata": {},
   "outputs": [
    {
     "data": {
      "text/plain": [
       "0.7303620571035433"
      ]
     },
     "execution_count": 59,
     "metadata": {},
     "output_type": "execute_result"
    }
   ],
   "source": [
    "np.mean(arr)"
   ]
  },
  {
   "cell_type": "code",
   "execution_count": 60,
   "metadata": {},
   "outputs": [],
   "source": [
    "from sklearn.neural_network import MLPClassifier"
   ]
  },
  {
   "cell_type": "code",
   "execution_count": 61,
   "metadata": {},
   "outputs": [],
   "source": [
    "ann = MLPClassifier(random_state=0)"
   ]
  },
  {
   "cell_type": "code",
   "execution_count": 62,
   "metadata": {},
   "outputs": [],
   "source": [
    "params = {'hidden_layer_sizes': [(10,10,10), (20,20,20), (20,10,10)], 'activation': ['tanh', 'relu'], 'solver': ['sgd', 'adam'], 'alpha': [0.0001, 0.05], 'learning_rate': ['constant', 'adaptive']}"
   ]
  },
  {
   "cell_type": "code",
   "execution_count": 63,
   "metadata": {},
   "outputs": [],
   "source": [
    "ann_op = RandomizedSearchCV(ann, params, n_iter=10, cv=10, scoring='accuracy', verbose=1, random_state=0, n_jobs=-1)"
   ]
  },
  {
   "cell_type": "code",
   "execution_count": 64,
   "metadata": {},
   "outputs": [
    {
     "name": "stdout",
     "output_type": "stream",
     "text": [
      "Fitting 10 folds for each of 10 candidates, totalling 100 fits\n"
     ]
    },
    {
     "name": "stderr",
     "output_type": "stream",
     "text": [
      "C:\\Users\\SMARAK RATH\\anaconda3\\lib\\site-packages\\sklearn\\neural_network\\_multilayer_perceptron.py:696: ConvergenceWarning: Stochastic Optimizer: Maximum iterations (200) reached and the optimization hasn't converged yet.\n",
      "  ConvergenceWarning,\n"
     ]
    },
    {
     "data": {
      "text/plain": [
       "RandomizedSearchCV(cv=10, estimator=MLPClassifier(random_state=0), n_jobs=-1,\n",
       "                   param_distributions={'activation': ['tanh', 'relu'],\n",
       "                                        'alpha': [0.0001, 0.05],\n",
       "                                        'hidden_layer_sizes': [(10, 10, 10),\n",
       "                                                               (20, 20, 20),\n",
       "                                                               (20, 10, 10)],\n",
       "                                        'learning_rate': ['constant',\n",
       "                                                          'adaptive'],\n",
       "                                        'solver': ['sgd', 'adam']},\n",
       "                   random_state=0, scoring='accuracy', verbose=1)"
      ]
     },
     "execution_count": 64,
     "metadata": {},
     "output_type": "execute_result"
    }
   ],
   "source": [
    "ann_op.fit(P,Q)"
   ]
  },
  {
   "cell_type": "code",
   "execution_count": 65,
   "metadata": {},
   "outputs": [
    {
     "data": {
      "text/plain": [
       "{'solver': 'sgd',\n",
       " 'learning_rate': 'adaptive',\n",
       " 'hidden_layer_sizes': (10, 10, 10),\n",
       " 'alpha': 0.0001,\n",
       " 'activation': 'relu'}"
      ]
     },
     "execution_count": 65,
     "metadata": {},
     "output_type": "execute_result"
    }
   ],
   "source": [
    "ann_op.best_params_"
   ]
  },
  {
   "cell_type": "code",
   "execution_count": 66,
   "metadata": {},
   "outputs": [],
   "source": [
    "ann = MLPClassifier(random_state=0, solver='sgd', learning_rate='adaptive', hidden_layer_sizes=(10,10,10), alpha=0.0001, activation='relu')"
   ]
  },
  {
   "cell_type": "code",
   "execution_count": 67,
   "metadata": {},
   "outputs": [
    {
     "name": "stderr",
     "output_type": "stream",
     "text": [
      "C:\\Users\\SMARAK RATH\\anaconda3\\lib\\site-packages\\sklearn\\neural_network\\_multilayer_perceptron.py:696: ConvergenceWarning: Stochastic Optimizer: Maximum iterations (200) reached and the optimization hasn't converged yet.\n",
      "  ConvergenceWarning,\n",
      "C:\\Users\\SMARAK RATH\\anaconda3\\lib\\site-packages\\sklearn\\neural_network\\_multilayer_perceptron.py:696: ConvergenceWarning: Stochastic Optimizer: Maximum iterations (200) reached and the optimization hasn't converged yet.\n",
      "  ConvergenceWarning,\n",
      "C:\\Users\\SMARAK RATH\\anaconda3\\lib\\site-packages\\sklearn\\neural_network\\_multilayer_perceptron.py:696: ConvergenceWarning: Stochastic Optimizer: Maximum iterations (200) reached and the optimization hasn't converged yet.\n",
      "  ConvergenceWarning,\n",
      "C:\\Users\\SMARAK RATH\\anaconda3\\lib\\site-packages\\sklearn\\neural_network\\_multilayer_perceptron.py:696: ConvergenceWarning: Stochastic Optimizer: Maximum iterations (200) reached and the optimization hasn't converged yet.\n",
      "  ConvergenceWarning,\n",
      "C:\\Users\\SMARAK RATH\\anaconda3\\lib\\site-packages\\sklearn\\neural_network\\_multilayer_perceptron.py:696: ConvergenceWarning: Stochastic Optimizer: Maximum iterations (200) reached and the optimization hasn't converged yet.\n",
      "  ConvergenceWarning,\n",
      "C:\\Users\\SMARAK RATH\\anaconda3\\lib\\site-packages\\sklearn\\neural_network\\_multilayer_perceptron.py:696: ConvergenceWarning: Stochastic Optimizer: Maximum iterations (200) reached and the optimization hasn't converged yet.\n",
      "  ConvergenceWarning,\n",
      "C:\\Users\\SMARAK RATH\\anaconda3\\lib\\site-packages\\sklearn\\neural_network\\_multilayer_perceptron.py:696: ConvergenceWarning: Stochastic Optimizer: Maximum iterations (200) reached and the optimization hasn't converged yet.\n",
      "  ConvergenceWarning,\n",
      "C:\\Users\\SMARAK RATH\\anaconda3\\lib\\site-packages\\sklearn\\neural_network\\_multilayer_perceptron.py:696: ConvergenceWarning: Stochastic Optimizer: Maximum iterations (200) reached and the optimization hasn't converged yet.\n",
      "  ConvergenceWarning,\n",
      "C:\\Users\\SMARAK RATH\\anaconda3\\lib\\site-packages\\sklearn\\neural_network\\_multilayer_perceptron.py:696: ConvergenceWarning: Stochastic Optimizer: Maximum iterations (200) reached and the optimization hasn't converged yet.\n",
      "  ConvergenceWarning,\n",
      "C:\\Users\\SMARAK RATH\\anaconda3\\lib\\site-packages\\sklearn\\neural_network\\_multilayer_perceptron.py:696: ConvergenceWarning: Stochastic Optimizer: Maximum iterations (200) reached and the optimization hasn't converged yet.\n",
      "  ConvergenceWarning,\n"
     ]
    },
    {
     "data": {
      "text/plain": [
       "array([0.73202614, 0.73202614, 0.73202614, 0.73202614, 0.73202614,\n",
       "       0.7254902 , 0.7254902 , 0.7254902 , 0.73026316, 0.73026316])"
      ]
     },
     "execution_count": 67,
     "metadata": {},
     "output_type": "execute_result"
    }
   ],
   "source": [
    "arr = cross_val_score(ann, P, Q, cv=10)\n",
    "arr"
   ]
  },
  {
   "cell_type": "code",
   "execution_count": 68,
   "metadata": {},
   "outputs": [
    {
     "data": {
      "text/plain": [
       "0.7297127622979016"
      ]
     },
     "execution_count": 68,
     "metadata": {},
     "output_type": "execute_result"
    }
   ],
   "source": [
    "np.mean(arr)"
   ]
  },
  {
   "cell_type": "code",
   "execution_count": 69,
   "metadata": {},
   "outputs": [],
   "source": [
    "from sklearn.tree import DecisionTreeClassifier\n",
    "dtc = DecisionTreeClassifier(random_state=0)"
   ]
  },
  {
   "cell_type": "code",
   "execution_count": 70,
   "metadata": {},
   "outputs": [],
   "source": [
    "params = {'max_depth': [2, 3, 5, 10, 20], 'min_samples_leaf': [5, 10, 20, 50, 100], 'criterion': [\"gini\", \"entropy\"]}"
   ]
  },
  {
   "cell_type": "code",
   "execution_count": 71,
   "metadata": {},
   "outputs": [],
   "source": [
    "dtc_op = RandomizedSearchCV(dtc, params, n_iter=20, cv=10, scoring='accuracy', random_state=0, verbose=1, n_jobs=-1)"
   ]
  },
  {
   "cell_type": "code",
   "execution_count": 72,
   "metadata": {},
   "outputs": [
    {
     "name": "stdout",
     "output_type": "stream",
     "text": [
      "Fitting 10 folds for each of 20 candidates, totalling 200 fits\n"
     ]
    },
    {
     "data": {
      "text/plain": [
       "RandomizedSearchCV(cv=10, estimator=DecisionTreeClassifier(random_state=0),\n",
       "                   n_iter=20, n_jobs=-1,\n",
       "                   param_distributions={'criterion': ['gini', 'entropy'],\n",
       "                                        'max_depth': [2, 3, 5, 10, 20],\n",
       "                                        'min_samples_leaf': [5, 10, 20, 50,\n",
       "                                                             100]},\n",
       "                   random_state=0, scoring='accuracy', verbose=1)"
      ]
     },
     "execution_count": 72,
     "metadata": {},
     "output_type": "execute_result"
    }
   ],
   "source": [
    "dtc_op.fit(P,Q)"
   ]
  },
  {
   "cell_type": "code",
   "execution_count": 73,
   "metadata": {},
   "outputs": [
    {
     "data": {
      "text/plain": [
       "{'min_samples_leaf': 20, 'max_depth': 2, 'criterion': 'gini'}"
      ]
     },
     "execution_count": 73,
     "metadata": {},
     "output_type": "execute_result"
    }
   ],
   "source": [
    "dtc_op.best_params_"
   ]
  },
  {
   "cell_type": "code",
   "execution_count": 74,
   "metadata": {},
   "outputs": [],
   "source": [
    "dtc = DecisionTreeClassifier(random_state=0, max_depth=2, criterion='gini', min_samples_leaf=20)"
   ]
  },
  {
   "cell_type": "code",
   "execution_count": 75,
   "metadata": {},
   "outputs": [
    {
     "data": {
      "text/plain": [
       "array([0.75816993, 0.73856209, 0.7254902 , 0.70588235, 0.77777778,\n",
       "       0.73856209, 0.7254902 , 0.7254902 , 0.73684211, 0.78289474])"
      ]
     },
     "execution_count": 75,
     "metadata": {},
     "output_type": "execute_result"
    }
   ],
   "source": [
    "arr = cross_val_score(dtc, P, Q, cv=10)\n",
    "arr"
   ]
  },
  {
   "cell_type": "code",
   "execution_count": 76,
   "metadata": {},
   "outputs": [
    {
     "data": {
      "text/plain": [
       "0.741516167870657"
      ]
     },
     "execution_count": 76,
     "metadata": {},
     "output_type": "execute_result"
    }
   ],
   "source": [
    "np.mean(arr)"
   ]
  },
  {
   "cell_type": "code",
   "execution_count": 77,
   "metadata": {},
   "outputs": [],
   "source": [
    "from sklearn.ensemble import GradientBoostingClassifier\n",
    "gbc = GradientBoostingClassifier(random_state=0)"
   ]
  },
  {
   "cell_type": "code",
   "execution_count": 78,
   "metadata": {},
   "outputs": [],
   "source": [
    "params = {'n_estimators': [100,200,500,1000,2000], 'learning_rate': [0.01,0.1,1,10,100], 'max_depth': [1,3,5,7,9]}"
   ]
  },
  {
   "cell_type": "code",
   "execution_count": 79,
   "metadata": {},
   "outputs": [],
   "source": [
    "gbc_op = RandomizedSearchCV(gbc, params, n_iter=20, cv=10, scoring='accuracy', n_jobs=-1, random_state=0, verbose=1)"
   ]
  },
  {
   "cell_type": "code",
   "execution_count": 80,
   "metadata": {},
   "outputs": [
    {
     "name": "stdout",
     "output_type": "stream",
     "text": [
      "Fitting 10 folds for each of 20 candidates, totalling 200 fits\n"
     ]
    },
    {
     "data": {
      "text/plain": [
       "RandomizedSearchCV(cv=10, estimator=GradientBoostingClassifier(random_state=0),\n",
       "                   n_iter=20, n_jobs=-1,\n",
       "                   param_distributions={'learning_rate': [0.01, 0.1, 1, 10,\n",
       "                                                          100],\n",
       "                                        'max_depth': [1, 3, 5, 7, 9],\n",
       "                                        'n_estimators': [100, 200, 500, 1000,\n",
       "                                                         2000]},\n",
       "                   random_state=0, scoring='accuracy', verbose=1)"
      ]
     },
     "execution_count": 80,
     "metadata": {},
     "output_type": "execute_result"
    }
   ],
   "source": [
    "gbc_op.fit(P,Q)"
   ]
  },
  {
   "cell_type": "code",
   "execution_count": 81,
   "metadata": {},
   "outputs": [
    {
     "data": {
      "text/plain": [
       "{'n_estimators': 500, 'max_depth': 1, 'learning_rate': 0.01}"
      ]
     },
     "execution_count": 81,
     "metadata": {},
     "output_type": "execute_result"
    }
   ],
   "source": [
    "gbc_op.best_params_"
   ]
  },
  {
   "cell_type": "code",
   "execution_count": 82,
   "metadata": {},
   "outputs": [],
   "source": [
    "gbc = GradientBoostingClassifier(random_state=0, n_estimators=500, max_depth=1, learning_rate=0.01)"
   ]
  },
  {
   "cell_type": "code",
   "execution_count": 83,
   "metadata": {},
   "outputs": [
    {
     "data": {
      "text/plain": [
       "array([0.73202614, 0.75163399, 0.74509804, 0.71895425, 0.7254902 ,\n",
       "       0.7254902 , 0.73202614, 0.7254902 , 0.73026316, 0.73026316])"
      ]
     },
     "execution_count": 83,
     "metadata": {},
     "output_type": "execute_result"
    }
   ],
   "source": [
    "arr = cross_val_score(gbc, P, Q, cv=10)\n",
    "arr"
   ]
  },
  {
   "cell_type": "code",
   "execution_count": 84,
   "metadata": {},
   "outputs": [
    {
     "data": {
      "text/plain": [
       "0.7316735466116272"
      ]
     },
     "execution_count": 84,
     "metadata": {},
     "output_type": "execute_result"
    }
   ],
   "source": [
    "np.mean(arr)"
   ]
  },
  {
   "cell_type": "code",
   "execution_count": 87,
   "metadata": {},
   "outputs": [],
   "source": [
    "train_set, test_set = train_test_split(df, test_size=0.1, random_state=0)"
   ]
  },
  {
   "cell_type": "code",
   "execution_count": 88,
   "metadata": {},
   "outputs": [
    {
     "data": {
      "text/plain": [
       "0    1002\n",
       "1     373\n",
       "Name: nature of band gap, dtype: int64"
      ]
     },
     "execution_count": 88,
     "metadata": {},
     "output_type": "execute_result"
    }
   ],
   "source": [
    "train_set['nature of band gap'].value_counts()"
   ]
  },
  {
   "cell_type": "code",
   "execution_count": 89,
   "metadata": {},
   "outputs": [],
   "source": [
    "from sklearn.utils import resample"
   ]
  },
  {
   "cell_type": "code",
   "execution_count": 90,
   "metadata": {},
   "outputs": [],
   "source": [
    "direct = train_set[train_set['nature of band gap']==1]\n",
    "indirect = train_set[train_set['nature of band gap']==0]"
   ]
  },
  {
   "cell_type": "code",
   "execution_count": 91,
   "metadata": {},
   "outputs": [
    {
     "data": {
      "text/html": [
       "<div>\n",
       "<style scoped>\n",
       "    .dataframe tbody tr th:only-of-type {\n",
       "        vertical-align: middle;\n",
       "    }\n",
       "\n",
       "    .dataframe tbody tr th {\n",
       "        vertical-align: top;\n",
       "    }\n",
       "\n",
       "    .dataframe thead th {\n",
       "        text-align: right;\n",
       "    }\n",
       "</style>\n",
       "<table border=\"1\" class=\"dataframe\">\n",
       "  <thead>\n",
       "    <tr style=\"text-align: right;\">\n",
       "      <th></th>\n",
       "      <th>formula</th>\n",
       "      <th>mpid</th>\n",
       "      <th>spacegroup.symbol</th>\n",
       "      <th>nature of band gap</th>\n",
       "      <th>structure</th>\n",
       "      <th>mean absolute deviation in relative bond length</th>\n",
       "      <th>max relative bond length</th>\n",
       "      <th>minimum neighbor distance variation</th>\n",
       "      <th>maximum neighbor distance variation</th>\n",
       "      <th>avg_dev neighbor distance variation</th>\n",
       "      <th>...</th>\n",
       "      <th>mean AtomicWeight</th>\n",
       "      <th>mean Column</th>\n",
       "      <th>range Number</th>\n",
       "      <th>range AtomicRadius</th>\n",
       "      <th>range Electronegativity</th>\n",
       "      <th>avg s valence electrons</th>\n",
       "      <th>avg p valence electrons</th>\n",
       "      <th>avg d valence electrons</th>\n",
       "      <th>avg f valence electrons</th>\n",
       "      <th>frac s valence electrons</th>\n",
       "    </tr>\n",
       "  </thead>\n",
       "  <tbody>\n",
       "    <tr>\n",
       "      <th>737</th>\n",
       "      <td>SmTlO3</td>\n",
       "      <td>mp-754787</td>\n",
       "      <td>Pnma</td>\n",
       "      <td>1</td>\n",
       "      <td>[[5.56521148 0.41966372 2.1604305 ] Sm, [2.714...</td>\n",
       "      <td>0.058408</td>\n",
       "      <td>1.053224</td>\n",
       "      <td>3.243229e-02</td>\n",
       "      <td>0.167132</td>\n",
       "      <td>0.044323</td>\n",
       "      <td>...</td>\n",
       "      <td>80.548300</td>\n",
       "      <td>12.8</td>\n",
       "      <td>73.0</td>\n",
       "      <td>1.30</td>\n",
       "      <td>2.27</td>\n",
       "      <td>2.0</td>\n",
       "      <td>2.6</td>\n",
       "      <td>2.0</td>\n",
       "      <td>4.0</td>\n",
       "      <td>0.188679</td>\n",
       "    </tr>\n",
       "    <tr>\n",
       "      <th>1121</th>\n",
       "      <td>CsNiF3</td>\n",
       "      <td>mp-557772</td>\n",
       "      <td>P6_3/mmc</td>\n",
       "      <td>1</td>\n",
       "      <td>[[3.168408   1.82928466 3.966627  ] Cs, [ 3.16...</td>\n",
       "      <td>0.113521</td>\n",
       "      <td>1.148722</td>\n",
       "      <td>1.076292e-02</td>\n",
       "      <td>0.149437</td>\n",
       "      <td>0.061158</td>\n",
       "      <td>...</td>\n",
       "      <td>49.718812</td>\n",
       "      <td>12.4</td>\n",
       "      <td>46.0</td>\n",
       "      <td>2.10</td>\n",
       "      <td>3.19</td>\n",
       "      <td>1.8</td>\n",
       "      <td>3.0</td>\n",
       "      <td>1.6</td>\n",
       "      <td>0.0</td>\n",
       "      <td>0.281250</td>\n",
       "    </tr>\n",
       "    <tr>\n",
       "      <th>279</th>\n",
       "      <td>DyScO3</td>\n",
       "      <td>mp-31120</td>\n",
       "      <td>Pnma</td>\n",
       "      <td>1</td>\n",
       "      <td>[[5.34395307 0.35724562 5.99118525] Dy, [2.617...</td>\n",
       "      <td>0.057009</td>\n",
       "      <td>1.048011</td>\n",
       "      <td>1.282671e-02</td>\n",
       "      <td>0.164574</td>\n",
       "      <td>0.047638</td>\n",
       "      <td>...</td>\n",
       "      <td>51.090822</td>\n",
       "      <td>10.8</td>\n",
       "      <td>58.0</td>\n",
       "      <td>1.15</td>\n",
       "      <td>2.22</td>\n",
       "      <td>2.0</td>\n",
       "      <td>2.4</td>\n",
       "      <td>0.2</td>\n",
       "      <td>2.0</td>\n",
       "      <td>0.303030</td>\n",
       "    </tr>\n",
       "    <tr>\n",
       "      <th>1133</th>\n",
       "      <td>KCdF3</td>\n",
       "      <td>mp-9628</td>\n",
       "      <td>Pnma</td>\n",
       "      <td>1</td>\n",
       "      <td>[[6.1357615  0.26079994 2.20045625] K, [3.1443...</td>\n",
       "      <td>0.072335</td>\n",
       "      <td>1.061051</td>\n",
       "      <td>3.038403e-03</td>\n",
       "      <td>0.145788</td>\n",
       "      <td>0.045343</td>\n",
       "      <td>...</td>\n",
       "      <td>41.700902</td>\n",
       "      <td>12.8</td>\n",
       "      <td>39.0</td>\n",
       "      <td>1.70</td>\n",
       "      <td>3.16</td>\n",
       "      <td>1.8</td>\n",
       "      <td>3.0</td>\n",
       "      <td>2.0</td>\n",
       "      <td>0.0</td>\n",
       "      <td>0.264706</td>\n",
       "    </tr>\n",
       "    <tr>\n",
       "      <th>182</th>\n",
       "      <td>BaThO3</td>\n",
       "      <td>mp-8037</td>\n",
       "      <td>Pm-3m</td>\n",
       "      <td>1</td>\n",
       "      <td>[[0. 0. 0.] Ba, [2.3000575 2.3000575 2.3000575...</td>\n",
       "      <td>0.084158</td>\n",
       "      <td>1.116672</td>\n",
       "      <td>0.000000e+00</td>\n",
       "      <td>0.122408</td>\n",
       "      <td>0.058756</td>\n",
       "      <td>...</td>\n",
       "      <td>83.472652</td>\n",
       "      <td>10.6</td>\n",
       "      <td>82.0</td>\n",
       "      <td>1.55</td>\n",
       "      <td>2.55</td>\n",
       "      <td>2.0</td>\n",
       "      <td>2.4</td>\n",
       "      <td>0.4</td>\n",
       "      <td>0.0</td>\n",
       "      <td>0.416667</td>\n",
       "    </tr>\n",
       "    <tr>\n",
       "      <th>...</th>\n",
       "      <td>...</td>\n",
       "      <td>...</td>\n",
       "      <td>...</td>\n",
       "      <td>...</td>\n",
       "      <td>...</td>\n",
       "      <td>...</td>\n",
       "      <td>...</td>\n",
       "      <td>...</td>\n",
       "      <td>...</td>\n",
       "      <td>...</td>\n",
       "      <td>...</td>\n",
       "      <td>...</td>\n",
       "      <td>...</td>\n",
       "      <td>...</td>\n",
       "      <td>...</td>\n",
       "      <td>...</td>\n",
       "      <td>...</td>\n",
       "      <td>...</td>\n",
       "      <td>...</td>\n",
       "      <td>...</td>\n",
       "      <td>...</td>\n",
       "    </tr>\n",
       "    <tr>\n",
       "      <th>87</th>\n",
       "      <td>BaCeO3</td>\n",
       "      <td>mp-4900</td>\n",
       "      <td>R-3c</td>\n",
       "      <td>1</td>\n",
       "      <td>[[3.5915525  0.         1.28703375] Ba, [10.77...</td>\n",
       "      <td>0.076950</td>\n",
       "      <td>1.081681</td>\n",
       "      <td>2.468947e-03</td>\n",
       "      <td>0.136903</td>\n",
       "      <td>0.045783</td>\n",
       "      <td>...</td>\n",
       "      <td>65.088240</td>\n",
       "      <td>10.6</td>\n",
       "      <td>50.0</td>\n",
       "      <td>1.55</td>\n",
       "      <td>2.55</td>\n",
       "      <td>2.0</td>\n",
       "      <td>2.4</td>\n",
       "      <td>0.2</td>\n",
       "      <td>0.2</td>\n",
       "      <td>0.416667</td>\n",
       "    </tr>\n",
       "    <tr>\n",
       "      <th>277</th>\n",
       "      <td>HgAsO3</td>\n",
       "      <td>mp-30284</td>\n",
       "      <td>P-31m</td>\n",
       "      <td>1</td>\n",
       "      <td>[[0.         0.         6.47377342] Hg, [0.   ...</td>\n",
       "      <td>0.098296</td>\n",
       "      <td>1.127961</td>\n",
       "      <td>7.621661e-07</td>\n",
       "      <td>0.159541</td>\n",
       "      <td>0.045242</td>\n",
       "      <td>...</td>\n",
       "      <td>64.701960</td>\n",
       "      <td>15.0</td>\n",
       "      <td>72.0</td>\n",
       "      <td>0.90</td>\n",
       "      <td>1.44</td>\n",
       "      <td>2.0</td>\n",
       "      <td>3.0</td>\n",
       "      <td>4.0</td>\n",
       "      <td>2.8</td>\n",
       "      <td>0.169492</td>\n",
       "    </tr>\n",
       "    <tr>\n",
       "      <th>1383</th>\n",
       "      <td>HS3N</td>\n",
       "      <td>mp-706654</td>\n",
       "      <td>Pbca</td>\n",
       "      <td>1</td>\n",
       "      <td>[[5.37798479 0.82210767 2.48111614] H, [ 1.109...</td>\n",
       "      <td>0.120454</td>\n",
       "      <td>1.177031</td>\n",
       "      <td>2.440158e-01</td>\n",
       "      <td>0.383499</td>\n",
       "      <td>0.035647</td>\n",
       "      <td>...</td>\n",
       "      <td>22.241928</td>\n",
       "      <td>12.8</td>\n",
       "      <td>15.0</td>\n",
       "      <td>0.75</td>\n",
       "      <td>0.84</td>\n",
       "      <td>1.8</td>\n",
       "      <td>3.0</td>\n",
       "      <td>0.0</td>\n",
       "      <td>0.0</td>\n",
       "      <td>0.375000</td>\n",
       "    </tr>\n",
       "    <tr>\n",
       "      <th>1216</th>\n",
       "      <td>LiVF3</td>\n",
       "      <td>mp-777894</td>\n",
       "      <td>Pnna</td>\n",
       "      <td>1</td>\n",
       "      <td>[[2.505589   1.34310475 1.68862684] Li, [2.505...</td>\n",
       "      <td>0.077165</td>\n",
       "      <td>1.065418</td>\n",
       "      <td>1.059708e-02</td>\n",
       "      <td>0.191011</td>\n",
       "      <td>0.058735</td>\n",
       "      <td>...</td>\n",
       "      <td>22.975542</td>\n",
       "      <td>11.4</td>\n",
       "      <td>20.0</td>\n",
       "      <td>0.95</td>\n",
       "      <td>3.00</td>\n",
       "      <td>1.8</td>\n",
       "      <td>3.0</td>\n",
       "      <td>0.6</td>\n",
       "      <td>0.0</td>\n",
       "      <td>0.333333</td>\n",
       "    </tr>\n",
       "    <tr>\n",
       "      <th>684</th>\n",
       "      <td>NaNbO3</td>\n",
       "      <td>mp-4514</td>\n",
       "      <td>R3c</td>\n",
       "      <td>1</td>\n",
       "      <td>[[9.63003591 0.         3.31165   ] Na, [2.992...</td>\n",
       "      <td>0.076646</td>\n",
       "      <td>1.077206</td>\n",
       "      <td>6.255323e-02</td>\n",
       "      <td>0.140932</td>\n",
       "      <td>0.026395</td>\n",
       "      <td>...</td>\n",
       "      <td>32.778870</td>\n",
       "      <td>10.8</td>\n",
       "      <td>33.0</td>\n",
       "      <td>1.20</td>\n",
       "      <td>2.51</td>\n",
       "      <td>1.6</td>\n",
       "      <td>2.4</td>\n",
       "      <td>0.8</td>\n",
       "      <td>0.0</td>\n",
       "      <td>0.333333</td>\n",
       "    </tr>\n",
       "  </tbody>\n",
       "</table>\n",
       "<p>373 rows × 124 columns</p>\n",
       "</div>"
      ],
      "text/plain": [
       "     formula       mpid spacegroup.symbol  nature of band gap  \\\n",
       "737   SmTlO3  mp-754787              Pnma                   1   \n",
       "1121  CsNiF3  mp-557772          P6_3/mmc                   1   \n",
       "279   DyScO3   mp-31120              Pnma                   1   \n",
       "1133   KCdF3    mp-9628              Pnma                   1   \n",
       "182   BaThO3    mp-8037             Pm-3m                   1   \n",
       "...      ...        ...               ...                 ...   \n",
       "87    BaCeO3    mp-4900              R-3c                   1   \n",
       "277   HgAsO3   mp-30284             P-31m                   1   \n",
       "1383    HS3N  mp-706654              Pbca                   1   \n",
       "1216   LiVF3  mp-777894              Pnna                   1   \n",
       "684   NaNbO3    mp-4514               R3c                   1   \n",
       "\n",
       "                                              structure  \\\n",
       "737   [[5.56521148 0.41966372 2.1604305 ] Sm, [2.714...   \n",
       "1121  [[3.168408   1.82928466 3.966627  ] Cs, [ 3.16...   \n",
       "279   [[5.34395307 0.35724562 5.99118525] Dy, [2.617...   \n",
       "1133  [[6.1357615  0.26079994 2.20045625] K, [3.1443...   \n",
       "182   [[0. 0. 0.] Ba, [2.3000575 2.3000575 2.3000575...   \n",
       "...                                                 ...   \n",
       "87    [[3.5915525  0.         1.28703375] Ba, [10.77...   \n",
       "277   [[0.         0.         6.47377342] Hg, [0.   ...   \n",
       "1383  [[5.37798479 0.82210767 2.48111614] H, [ 1.109...   \n",
       "1216  [[2.505589   1.34310475 1.68862684] Li, [2.505...   \n",
       "684   [[9.63003591 0.         3.31165   ] Na, [2.992...   \n",
       "\n",
       "      mean absolute deviation in relative bond length  \\\n",
       "737                                          0.058408   \n",
       "1121                                         0.113521   \n",
       "279                                          0.057009   \n",
       "1133                                         0.072335   \n",
       "182                                          0.084158   \n",
       "...                                               ...   \n",
       "87                                           0.076950   \n",
       "277                                          0.098296   \n",
       "1383                                         0.120454   \n",
       "1216                                         0.077165   \n",
       "684                                          0.076646   \n",
       "\n",
       "      max relative bond length  minimum neighbor distance variation  \\\n",
       "737                   1.053224                         3.243229e-02   \n",
       "1121                  1.148722                         1.076292e-02   \n",
       "279                   1.048011                         1.282671e-02   \n",
       "1133                  1.061051                         3.038403e-03   \n",
       "182                   1.116672                         0.000000e+00   \n",
       "...                        ...                                  ...   \n",
       "87                    1.081681                         2.468947e-03   \n",
       "277                   1.127961                         7.621661e-07   \n",
       "1383                  1.177031                         2.440158e-01   \n",
       "1216                  1.065418                         1.059708e-02   \n",
       "684                   1.077206                         6.255323e-02   \n",
       "\n",
       "      maximum neighbor distance variation  \\\n",
       "737                              0.167132   \n",
       "1121                             0.149437   \n",
       "279                              0.164574   \n",
       "1133                             0.145788   \n",
       "182                              0.122408   \n",
       "...                                   ...   \n",
       "87                               0.136903   \n",
       "277                              0.159541   \n",
       "1383                             0.383499   \n",
       "1216                             0.191011   \n",
       "684                              0.140932   \n",
       "\n",
       "      avg_dev neighbor distance variation  ... mean AtomicWeight  mean Column  \\\n",
       "737                              0.044323  ...         80.548300         12.8   \n",
       "1121                             0.061158  ...         49.718812         12.4   \n",
       "279                              0.047638  ...         51.090822         10.8   \n",
       "1133                             0.045343  ...         41.700902         12.8   \n",
       "182                              0.058756  ...         83.472652         10.6   \n",
       "...                                   ...  ...               ...          ...   \n",
       "87                               0.045783  ...         65.088240         10.6   \n",
       "277                              0.045242  ...         64.701960         15.0   \n",
       "1383                             0.035647  ...         22.241928         12.8   \n",
       "1216                             0.058735  ...         22.975542         11.4   \n",
       "684                              0.026395  ...         32.778870         10.8   \n",
       "\n",
       "      range Number  range AtomicRadius  range Electronegativity  \\\n",
       "737           73.0                1.30                     2.27   \n",
       "1121          46.0                2.10                     3.19   \n",
       "279           58.0                1.15                     2.22   \n",
       "1133          39.0                1.70                     3.16   \n",
       "182           82.0                1.55                     2.55   \n",
       "...            ...                 ...                      ...   \n",
       "87            50.0                1.55                     2.55   \n",
       "277           72.0                0.90                     1.44   \n",
       "1383          15.0                0.75                     0.84   \n",
       "1216          20.0                0.95                     3.00   \n",
       "684           33.0                1.20                     2.51   \n",
       "\n",
       "      avg s valence electrons  avg p valence electrons  \\\n",
       "737                       2.0                      2.6   \n",
       "1121                      1.8                      3.0   \n",
       "279                       2.0                      2.4   \n",
       "1133                      1.8                      3.0   \n",
       "182                       2.0                      2.4   \n",
       "...                       ...                      ...   \n",
       "87                        2.0                      2.4   \n",
       "277                       2.0                      3.0   \n",
       "1383                      1.8                      3.0   \n",
       "1216                      1.8                      3.0   \n",
       "684                       1.6                      2.4   \n",
       "\n",
       "      avg d valence electrons  avg f valence electrons  \\\n",
       "737                       2.0                      4.0   \n",
       "1121                      1.6                      0.0   \n",
       "279                       0.2                      2.0   \n",
       "1133                      2.0                      0.0   \n",
       "182                       0.4                      0.0   \n",
       "...                       ...                      ...   \n",
       "87                        0.2                      0.2   \n",
       "277                       4.0                      2.8   \n",
       "1383                      0.0                      0.0   \n",
       "1216                      0.6                      0.0   \n",
       "684                       0.8                      0.0   \n",
       "\n",
       "      frac s valence electrons  \n",
       "737                   0.188679  \n",
       "1121                  0.281250  \n",
       "279                   0.303030  \n",
       "1133                  0.264706  \n",
       "182                   0.416667  \n",
       "...                        ...  \n",
       "87                    0.416667  \n",
       "277                   0.169492  \n",
       "1383                  0.375000  \n",
       "1216                  0.333333  \n",
       "684                   0.333333  \n",
       "\n",
       "[373 rows x 124 columns]"
      ]
     },
     "execution_count": 91,
     "metadata": {},
     "output_type": "execute_result"
    }
   ],
   "source": [
    "direct"
   ]
  },
  {
   "cell_type": "code",
   "execution_count": 92,
   "metadata": {},
   "outputs": [],
   "source": [
    "direct_up = resample(direct, replace=True, n_samples=(len(indirect)-400), random_state=0)"
   ]
  },
  {
   "cell_type": "code",
   "execution_count": 93,
   "metadata": {},
   "outputs": [
    {
     "data": {
      "text/html": [
       "<div>\n",
       "<style scoped>\n",
       "    .dataframe tbody tr th:only-of-type {\n",
       "        vertical-align: middle;\n",
       "    }\n",
       "\n",
       "    .dataframe tbody tr th {\n",
       "        vertical-align: top;\n",
       "    }\n",
       "\n",
       "    .dataframe thead th {\n",
       "        text-align: right;\n",
       "    }\n",
       "</style>\n",
       "<table border=\"1\" class=\"dataframe\">\n",
       "  <thead>\n",
       "    <tr style=\"text-align: right;\">\n",
       "      <th></th>\n",
       "      <th>formula</th>\n",
       "      <th>mpid</th>\n",
       "      <th>spacegroup.symbol</th>\n",
       "      <th>nature of band gap</th>\n",
       "      <th>structure</th>\n",
       "      <th>mean absolute deviation in relative bond length</th>\n",
       "      <th>max relative bond length</th>\n",
       "      <th>minimum neighbor distance variation</th>\n",
       "      <th>maximum neighbor distance variation</th>\n",
       "      <th>avg_dev neighbor distance variation</th>\n",
       "      <th>...</th>\n",
       "      <th>mean AtomicWeight</th>\n",
       "      <th>mean Column</th>\n",
       "      <th>range Number</th>\n",
       "      <th>range AtomicRadius</th>\n",
       "      <th>range Electronegativity</th>\n",
       "      <th>avg s valence electrons</th>\n",
       "      <th>avg p valence electrons</th>\n",
       "      <th>avg d valence electrons</th>\n",
       "      <th>avg f valence electrons</th>\n",
       "      <th>frac s valence electrons</th>\n",
       "    </tr>\n",
       "  </thead>\n",
       "  <tbody>\n",
       "    <tr>\n",
       "      <th>235</th>\n",
       "      <td>DyBO3</td>\n",
       "      <td>mp-12315</td>\n",
       "      <td>P-1</td>\n",
       "      <td>1</td>\n",
       "      <td>[[1.29642832 0.90392952 5.04773936] Dy, [1.120...</td>\n",
       "      <td>0.091852</td>\n",
       "      <td>1.101680</td>\n",
       "      <td>0.035515</td>\n",
       "      <td>0.349183</td>\n",
       "      <td>0.071586</td>\n",
       "      <td>...</td>\n",
       "      <td>44.261840</td>\n",
       "      <td>12.8</td>\n",
       "      <td>61.0</td>\n",
       "      <td>1.15</td>\n",
       "      <td>2.22</td>\n",
       "      <td>2.0</td>\n",
       "      <td>2.6</td>\n",
       "      <td>0.0</td>\n",
       "      <td>2.0</td>\n",
       "      <td>0.303030</td>\n",
       "    </tr>\n",
       "    <tr>\n",
       "      <th>1322</th>\n",
       "      <td>CsSnI3</td>\n",
       "      <td>mp-616378</td>\n",
       "      <td>P4/mbm</td>\n",
       "      <td>1</td>\n",
       "      <td>[[4.4088355 0.        0.       ] Cs, [0.      ...</td>\n",
       "      <td>0.081065</td>\n",
       "      <td>1.101725</td>\n",
       "      <td>0.000492</td>\n",
       "      <td>0.121074</td>\n",
       "      <td>0.045599</td>\n",
       "      <td>...</td>\n",
       "      <td>126.465772</td>\n",
       "      <td>13.2</td>\n",
       "      <td>5.0</td>\n",
       "      <td>1.20</td>\n",
       "      <td>1.87</td>\n",
       "      <td>1.8</td>\n",
       "      <td>3.4</td>\n",
       "      <td>8.0</td>\n",
       "      <td>0.0</td>\n",
       "      <td>0.136364</td>\n",
       "    </tr>\n",
       "    <tr>\n",
       "      <th>893</th>\n",
       "      <td>YbTiO3</td>\n",
       "      <td>mp-754225</td>\n",
       "      <td>Pnma</td>\n",
       "      <td>1</td>\n",
       "      <td>[[5.26902437 2.45146744 5.710761  ] Yb, [2.731...</td>\n",
       "      <td>0.070545</td>\n",
       "      <td>1.053490</td>\n",
       "      <td>0.006277</td>\n",
       "      <td>0.149524</td>\n",
       "      <td>0.045393</td>\n",
       "      <td>...</td>\n",
       "      <td>53.783840</td>\n",
       "      <td>11.0</td>\n",
       "      <td>62.0</td>\n",
       "      <td>1.15</td>\n",
       "      <td>2.18</td>\n",
       "      <td>2.0</td>\n",
       "      <td>2.4</td>\n",
       "      <td>0.4</td>\n",
       "      <td>2.8</td>\n",
       "      <td>0.263158</td>\n",
       "    </tr>\n",
       "    <tr>\n",
       "      <th>225</th>\n",
       "      <td>CsTaO3</td>\n",
       "      <td>mp-1185552</td>\n",
       "      <td>Pm-3m</td>\n",
       "      <td>1</td>\n",
       "      <td>[[0. 0. 0.] Cs, [2.072079 2.072079 2.072079] T...</td>\n",
       "      <td>0.084158</td>\n",
       "      <td>1.116672</td>\n",
       "      <td>0.000000</td>\n",
       "      <td>0.122408</td>\n",
       "      <td>0.058756</td>\n",
       "      <td>...</td>\n",
       "      <td>72.370306</td>\n",
       "      <td>10.8</td>\n",
       "      <td>65.0</td>\n",
       "      <td>2.00</td>\n",
       "      <td>2.65</td>\n",
       "      <td>1.8</td>\n",
       "      <td>2.4</td>\n",
       "      <td>0.6</td>\n",
       "      <td>2.8</td>\n",
       "      <td>0.236842</td>\n",
       "    </tr>\n",
       "    <tr>\n",
       "      <th>1392</th>\n",
       "      <td>LaErS3</td>\n",
       "      <td>mp-558977</td>\n",
       "      <td>Pnma</td>\n",
       "      <td>1</td>\n",
       "      <td>[[3.0055185  2.81016358 8.85556588] La, [3.005...</td>\n",
       "      <td>0.043807</td>\n",
       "      <td>1.056940</td>\n",
       "      <td>0.025358</td>\n",
       "      <td>0.162689</td>\n",
       "      <td>0.041193</td>\n",
       "      <td>...</td>\n",
       "      <td>80.471894</td>\n",
       "      <td>10.8</td>\n",
       "      <td>52.0</td>\n",
       "      <td>0.95</td>\n",
       "      <td>1.48</td>\n",
       "      <td>2.0</td>\n",
       "      <td>2.4</td>\n",
       "      <td>0.2</td>\n",
       "      <td>2.4</td>\n",
       "      <td>0.285714</td>\n",
       "    </tr>\n",
       "    <tr>\n",
       "      <th>...</th>\n",
       "      <td>...</td>\n",
       "      <td>...</td>\n",
       "      <td>...</td>\n",
       "      <td>...</td>\n",
       "      <td>...</td>\n",
       "      <td>...</td>\n",
       "      <td>...</td>\n",
       "      <td>...</td>\n",
       "      <td>...</td>\n",
       "      <td>...</td>\n",
       "      <td>...</td>\n",
       "      <td>...</td>\n",
       "      <td>...</td>\n",
       "      <td>...</td>\n",
       "      <td>...</td>\n",
       "      <td>...</td>\n",
       "      <td>...</td>\n",
       "      <td>...</td>\n",
       "      <td>...</td>\n",
       "      <td>...</td>\n",
       "      <td>...</td>\n",
       "    </tr>\n",
       "    <tr>\n",
       "      <th>946</th>\n",
       "      <td>TaTlO3</td>\n",
       "      <td>mp-861873</td>\n",
       "      <td>Pm-3m</td>\n",
       "      <td>1</td>\n",
       "      <td>[[2.041424 2.041424 2.041424] Ta, [0. 0. 0.] T...</td>\n",
       "      <td>0.084158</td>\n",
       "      <td>1.116672</td>\n",
       "      <td>0.000000</td>\n",
       "      <td>0.122408</td>\n",
       "      <td>0.058756</td>\n",
       "      <td>...</td>\n",
       "      <td>86.665876</td>\n",
       "      <td>13.2</td>\n",
       "      <td>73.0</td>\n",
       "      <td>1.30</td>\n",
       "      <td>1.94</td>\n",
       "      <td>2.0</td>\n",
       "      <td>2.6</td>\n",
       "      <td>2.6</td>\n",
       "      <td>5.6</td>\n",
       "      <td>0.156250</td>\n",
       "    </tr>\n",
       "    <tr>\n",
       "      <th>909</th>\n",
       "      <td>TbHoO3</td>\n",
       "      <td>mp-755740</td>\n",
       "      <td>Pnma</td>\n",
       "      <td>1</td>\n",
       "      <td>[[0.09647823 5.64449273 6.3264615 ] Tb, [2.749...</td>\n",
       "      <td>0.057671</td>\n",
       "      <td>1.050149</td>\n",
       "      <td>0.025059</td>\n",
       "      <td>0.166620</td>\n",
       "      <td>0.042082</td>\n",
       "      <td>...</td>\n",
       "      <td>74.370774</td>\n",
       "      <td>10.8</td>\n",
       "      <td>59.0</td>\n",
       "      <td>1.15</td>\n",
       "      <td>2.23</td>\n",
       "      <td>2.0</td>\n",
       "      <td>2.4</td>\n",
       "      <td>0.0</td>\n",
       "      <td>4.0</td>\n",
       "      <td>0.238095</td>\n",
       "    </tr>\n",
       "    <tr>\n",
       "      <th>1041</th>\n",
       "      <td>CsPbCl3</td>\n",
       "      <td>mp-675524</td>\n",
       "      <td>Amm2</td>\n",
       "      <td>1</td>\n",
       "      <td>[[ 5.715454   -0.01119838  2.881827  ] Cs, [5....</td>\n",
       "      <td>0.079988</td>\n",
       "      <td>1.100645</td>\n",
       "      <td>0.003316</td>\n",
       "      <td>0.122964</td>\n",
       "      <td>0.040634</td>\n",
       "      <td>...</td>\n",
       "      <td>89.292890</td>\n",
       "      <td>13.2</td>\n",
       "      <td>65.0</td>\n",
       "      <td>1.60</td>\n",
       "      <td>2.37</td>\n",
       "      <td>1.8</td>\n",
       "      <td>3.4</td>\n",
       "      <td>2.0</td>\n",
       "      <td>2.8</td>\n",
       "      <td>0.180000</td>\n",
       "    </tr>\n",
       "    <tr>\n",
       "      <th>228</th>\n",
       "      <td>KAsO3</td>\n",
       "      <td>mp-1192552</td>\n",
       "      <td>P-1</td>\n",
       "      <td>1</td>\n",
       "      <td>[[-2.67901625 -0.65496031 -8.23384051] K, [ 4....</td>\n",
       "      <td>0.128628</td>\n",
       "      <td>1.205142</td>\n",
       "      <td>0.055092</td>\n",
       "      <td>0.252398</td>\n",
       "      <td>0.054980</td>\n",
       "      <td>...</td>\n",
       "      <td>32.403620</td>\n",
       "      <td>12.8</td>\n",
       "      <td>25.0</td>\n",
       "      <td>1.60</td>\n",
       "      <td>2.62</td>\n",
       "      <td>1.8</td>\n",
       "      <td>3.0</td>\n",
       "      <td>2.0</td>\n",
       "      <td>0.0</td>\n",
       "      <td>0.264706</td>\n",
       "    </tr>\n",
       "    <tr>\n",
       "      <th>437</th>\n",
       "      <td>LaCrO3</td>\n",
       "      <td>mp-19281</td>\n",
       "      <td>Pnma</td>\n",
       "      <td>1</td>\n",
       "      <td>[[0.21025808 5.51650537 1.96983   ] La, [3.014...</td>\n",
       "      <td>0.073699</td>\n",
       "      <td>1.066933</td>\n",
       "      <td>0.003514</td>\n",
       "      <td>0.141723</td>\n",
       "      <td>0.045184</td>\n",
       "      <td>...</td>\n",
       "      <td>47.779954</td>\n",
       "      <td>11.4</td>\n",
       "      <td>49.0</td>\n",
       "      <td>1.35</td>\n",
       "      <td>2.34</td>\n",
       "      <td>1.8</td>\n",
       "      <td>2.4</td>\n",
       "      <td>1.2</td>\n",
       "      <td>0.0</td>\n",
       "      <td>0.333333</td>\n",
       "    </tr>\n",
       "  </tbody>\n",
       "</table>\n",
       "<p>602 rows × 124 columns</p>\n",
       "</div>"
      ],
      "text/plain": [
       "      formula        mpid spacegroup.symbol  nature of band gap  \\\n",
       "235     DyBO3    mp-12315               P-1                   1   \n",
       "1322   CsSnI3   mp-616378            P4/mbm                   1   \n",
       "893    YbTiO3   mp-754225              Pnma                   1   \n",
       "225    CsTaO3  mp-1185552             Pm-3m                   1   \n",
       "1392   LaErS3   mp-558977              Pnma                   1   \n",
       "...       ...         ...               ...                 ...   \n",
       "946    TaTlO3   mp-861873             Pm-3m                   1   \n",
       "909    TbHoO3   mp-755740              Pnma                   1   \n",
       "1041  CsPbCl3   mp-675524              Amm2                   1   \n",
       "228     KAsO3  mp-1192552               P-1                   1   \n",
       "437    LaCrO3    mp-19281              Pnma                   1   \n",
       "\n",
       "                                              structure  \\\n",
       "235   [[1.29642832 0.90392952 5.04773936] Dy, [1.120...   \n",
       "1322  [[4.4088355 0.        0.       ] Cs, [0.      ...   \n",
       "893   [[5.26902437 2.45146744 5.710761  ] Yb, [2.731...   \n",
       "225   [[0. 0. 0.] Cs, [2.072079 2.072079 2.072079] T...   \n",
       "1392  [[3.0055185  2.81016358 8.85556588] La, [3.005...   \n",
       "...                                                 ...   \n",
       "946   [[2.041424 2.041424 2.041424] Ta, [0. 0. 0.] T...   \n",
       "909   [[0.09647823 5.64449273 6.3264615 ] Tb, [2.749...   \n",
       "1041  [[ 5.715454   -0.01119838  2.881827  ] Cs, [5....   \n",
       "228   [[-2.67901625 -0.65496031 -8.23384051] K, [ 4....   \n",
       "437   [[0.21025808 5.51650537 1.96983   ] La, [3.014...   \n",
       "\n",
       "      mean absolute deviation in relative bond length  \\\n",
       "235                                          0.091852   \n",
       "1322                                         0.081065   \n",
       "893                                          0.070545   \n",
       "225                                          0.084158   \n",
       "1392                                         0.043807   \n",
       "...                                               ...   \n",
       "946                                          0.084158   \n",
       "909                                          0.057671   \n",
       "1041                                         0.079988   \n",
       "228                                          0.128628   \n",
       "437                                          0.073699   \n",
       "\n",
       "      max relative bond length  minimum neighbor distance variation  \\\n",
       "235                   1.101680                             0.035515   \n",
       "1322                  1.101725                             0.000492   \n",
       "893                   1.053490                             0.006277   \n",
       "225                   1.116672                             0.000000   \n",
       "1392                  1.056940                             0.025358   \n",
       "...                        ...                                  ...   \n",
       "946                   1.116672                             0.000000   \n",
       "909                   1.050149                             0.025059   \n",
       "1041                  1.100645                             0.003316   \n",
       "228                   1.205142                             0.055092   \n",
       "437                   1.066933                             0.003514   \n",
       "\n",
       "      maximum neighbor distance variation  \\\n",
       "235                              0.349183   \n",
       "1322                             0.121074   \n",
       "893                              0.149524   \n",
       "225                              0.122408   \n",
       "1392                             0.162689   \n",
       "...                                   ...   \n",
       "946                              0.122408   \n",
       "909                              0.166620   \n",
       "1041                             0.122964   \n",
       "228                              0.252398   \n",
       "437                              0.141723   \n",
       "\n",
       "      avg_dev neighbor distance variation  ... mean AtomicWeight  mean Column  \\\n",
       "235                              0.071586  ...         44.261840         12.8   \n",
       "1322                             0.045599  ...        126.465772         13.2   \n",
       "893                              0.045393  ...         53.783840         11.0   \n",
       "225                              0.058756  ...         72.370306         10.8   \n",
       "1392                             0.041193  ...         80.471894         10.8   \n",
       "...                                   ...  ...               ...          ...   \n",
       "946                              0.058756  ...         86.665876         13.2   \n",
       "909                              0.042082  ...         74.370774         10.8   \n",
       "1041                             0.040634  ...         89.292890         13.2   \n",
       "228                              0.054980  ...         32.403620         12.8   \n",
       "437                              0.045184  ...         47.779954         11.4   \n",
       "\n",
       "      range Number  range AtomicRadius  range Electronegativity  \\\n",
       "235           61.0                1.15                     2.22   \n",
       "1322           5.0                1.20                     1.87   \n",
       "893           62.0                1.15                     2.18   \n",
       "225           65.0                2.00                     2.65   \n",
       "1392          52.0                0.95                     1.48   \n",
       "...            ...                 ...                      ...   \n",
       "946           73.0                1.30                     1.94   \n",
       "909           59.0                1.15                     2.23   \n",
       "1041          65.0                1.60                     2.37   \n",
       "228           25.0                1.60                     2.62   \n",
       "437           49.0                1.35                     2.34   \n",
       "\n",
       "      avg s valence electrons  avg p valence electrons  \\\n",
       "235                       2.0                      2.6   \n",
       "1322                      1.8                      3.4   \n",
       "893                       2.0                      2.4   \n",
       "225                       1.8                      2.4   \n",
       "1392                      2.0                      2.4   \n",
       "...                       ...                      ...   \n",
       "946                       2.0                      2.6   \n",
       "909                       2.0                      2.4   \n",
       "1041                      1.8                      3.4   \n",
       "228                       1.8                      3.0   \n",
       "437                       1.8                      2.4   \n",
       "\n",
       "      avg d valence electrons  avg f valence electrons  \\\n",
       "235                       0.0                      2.0   \n",
       "1322                      8.0                      0.0   \n",
       "893                       0.4                      2.8   \n",
       "225                       0.6                      2.8   \n",
       "1392                      0.2                      2.4   \n",
       "...                       ...                      ...   \n",
       "946                       2.6                      5.6   \n",
       "909                       0.0                      4.0   \n",
       "1041                      2.0                      2.8   \n",
       "228                       2.0                      0.0   \n",
       "437                       1.2                      0.0   \n",
       "\n",
       "      frac s valence electrons  \n",
       "235                   0.303030  \n",
       "1322                  0.136364  \n",
       "893                   0.263158  \n",
       "225                   0.236842  \n",
       "1392                  0.285714  \n",
       "...                        ...  \n",
       "946                   0.156250  \n",
       "909                   0.238095  \n",
       "1041                  0.180000  \n",
       "228                   0.264706  \n",
       "437                   0.333333  \n",
       "\n",
       "[602 rows x 124 columns]"
      ]
     },
     "execution_count": 93,
     "metadata": {},
     "output_type": "execute_result"
    }
   ],
   "source": [
    "direct_up"
   ]
  },
  {
   "cell_type": "code",
   "execution_count": 94,
   "metadata": {},
   "outputs": [],
   "source": [
    "train_set = pd.concat([direct_up,indirect])"
   ]
  },
  {
   "cell_type": "code",
   "execution_count": 95,
   "metadata": {},
   "outputs": [
    {
     "data": {
      "text/html": [
       "<div>\n",
       "<style scoped>\n",
       "    .dataframe tbody tr th:only-of-type {\n",
       "        vertical-align: middle;\n",
       "    }\n",
       "\n",
       "    .dataframe tbody tr th {\n",
       "        vertical-align: top;\n",
       "    }\n",
       "\n",
       "    .dataframe thead th {\n",
       "        text-align: right;\n",
       "    }\n",
       "</style>\n",
       "<table border=\"1\" class=\"dataframe\">\n",
       "  <thead>\n",
       "    <tr style=\"text-align: right;\">\n",
       "      <th></th>\n",
       "      <th>formula</th>\n",
       "      <th>mpid</th>\n",
       "      <th>spacegroup.symbol</th>\n",
       "      <th>nature of band gap</th>\n",
       "      <th>structure</th>\n",
       "      <th>mean absolute deviation in relative bond length</th>\n",
       "      <th>max relative bond length</th>\n",
       "      <th>minimum neighbor distance variation</th>\n",
       "      <th>maximum neighbor distance variation</th>\n",
       "      <th>avg_dev neighbor distance variation</th>\n",
       "      <th>...</th>\n",
       "      <th>mean AtomicWeight</th>\n",
       "      <th>mean Column</th>\n",
       "      <th>range Number</th>\n",
       "      <th>range AtomicRadius</th>\n",
       "      <th>range Electronegativity</th>\n",
       "      <th>avg s valence electrons</th>\n",
       "      <th>avg p valence electrons</th>\n",
       "      <th>avg d valence electrons</th>\n",
       "      <th>avg f valence electrons</th>\n",
       "      <th>frac s valence electrons</th>\n",
       "    </tr>\n",
       "  </thead>\n",
       "  <tbody>\n",
       "    <tr>\n",
       "      <th>235</th>\n",
       "      <td>DyBO3</td>\n",
       "      <td>mp-12315</td>\n",
       "      <td>P-1</td>\n",
       "      <td>1</td>\n",
       "      <td>[[1.29642832 0.90392952 5.04773936] Dy, [1.120...</td>\n",
       "      <td>0.091852</td>\n",
       "      <td>1.101680</td>\n",
       "      <td>0.035515</td>\n",
       "      <td>0.349183</td>\n",
       "      <td>0.071586</td>\n",
       "      <td>...</td>\n",
       "      <td>44.261840</td>\n",
       "      <td>12.8</td>\n",
       "      <td>61.0</td>\n",
       "      <td>1.15</td>\n",
       "      <td>2.22</td>\n",
       "      <td>2.0</td>\n",
       "      <td>2.6</td>\n",
       "      <td>0.0</td>\n",
       "      <td>2.0</td>\n",
       "      <td>0.303030</td>\n",
       "    </tr>\n",
       "    <tr>\n",
       "      <th>1322</th>\n",
       "      <td>CsSnI3</td>\n",
       "      <td>mp-616378</td>\n",
       "      <td>P4/mbm</td>\n",
       "      <td>1</td>\n",
       "      <td>[[4.4088355 0.        0.       ] Cs, [0.      ...</td>\n",
       "      <td>0.081065</td>\n",
       "      <td>1.101725</td>\n",
       "      <td>0.000492</td>\n",
       "      <td>0.121074</td>\n",
       "      <td>0.045599</td>\n",
       "      <td>...</td>\n",
       "      <td>126.465772</td>\n",
       "      <td>13.2</td>\n",
       "      <td>5.0</td>\n",
       "      <td>1.20</td>\n",
       "      <td>1.87</td>\n",
       "      <td>1.8</td>\n",
       "      <td>3.4</td>\n",
       "      <td>8.0</td>\n",
       "      <td>0.0</td>\n",
       "      <td>0.136364</td>\n",
       "    </tr>\n",
       "    <tr>\n",
       "      <th>893</th>\n",
       "      <td>YbTiO3</td>\n",
       "      <td>mp-754225</td>\n",
       "      <td>Pnma</td>\n",
       "      <td>1</td>\n",
       "      <td>[[5.26902437 2.45146744 5.710761  ] Yb, [2.731...</td>\n",
       "      <td>0.070545</td>\n",
       "      <td>1.053490</td>\n",
       "      <td>0.006277</td>\n",
       "      <td>0.149524</td>\n",
       "      <td>0.045393</td>\n",
       "      <td>...</td>\n",
       "      <td>53.783840</td>\n",
       "      <td>11.0</td>\n",
       "      <td>62.0</td>\n",
       "      <td>1.15</td>\n",
       "      <td>2.18</td>\n",
       "      <td>2.0</td>\n",
       "      <td>2.4</td>\n",
       "      <td>0.4</td>\n",
       "      <td>2.8</td>\n",
       "      <td>0.263158</td>\n",
       "    </tr>\n",
       "    <tr>\n",
       "      <th>225</th>\n",
       "      <td>CsTaO3</td>\n",
       "      <td>mp-1185552</td>\n",
       "      <td>Pm-3m</td>\n",
       "      <td>1</td>\n",
       "      <td>[[0. 0. 0.] Cs, [2.072079 2.072079 2.072079] T...</td>\n",
       "      <td>0.084158</td>\n",
       "      <td>1.116672</td>\n",
       "      <td>0.000000</td>\n",
       "      <td>0.122408</td>\n",
       "      <td>0.058756</td>\n",
       "      <td>...</td>\n",
       "      <td>72.370306</td>\n",
       "      <td>10.8</td>\n",
       "      <td>65.0</td>\n",
       "      <td>2.00</td>\n",
       "      <td>2.65</td>\n",
       "      <td>1.8</td>\n",
       "      <td>2.4</td>\n",
       "      <td>0.6</td>\n",
       "      <td>2.8</td>\n",
       "      <td>0.236842</td>\n",
       "    </tr>\n",
       "    <tr>\n",
       "      <th>1392</th>\n",
       "      <td>LaErS3</td>\n",
       "      <td>mp-558977</td>\n",
       "      <td>Pnma</td>\n",
       "      <td>1</td>\n",
       "      <td>[[3.0055185  2.81016358 8.85556588] La, [3.005...</td>\n",
       "      <td>0.043807</td>\n",
       "      <td>1.056940</td>\n",
       "      <td>0.025358</td>\n",
       "      <td>0.162689</td>\n",
       "      <td>0.041193</td>\n",
       "      <td>...</td>\n",
       "      <td>80.471894</td>\n",
       "      <td>10.8</td>\n",
       "      <td>52.0</td>\n",
       "      <td>0.95</td>\n",
       "      <td>1.48</td>\n",
       "      <td>2.0</td>\n",
       "      <td>2.4</td>\n",
       "      <td>0.2</td>\n",
       "      <td>2.4</td>\n",
       "      <td>0.285714</td>\n",
       "    </tr>\n",
       "    <tr>\n",
       "      <th>...</th>\n",
       "      <td>...</td>\n",
       "      <td>...</td>\n",
       "      <td>...</td>\n",
       "      <td>...</td>\n",
       "      <td>...</td>\n",
       "      <td>...</td>\n",
       "      <td>...</td>\n",
       "      <td>...</td>\n",
       "      <td>...</td>\n",
       "      <td>...</td>\n",
       "      <td>...</td>\n",
       "      <td>...</td>\n",
       "      <td>...</td>\n",
       "      <td>...</td>\n",
       "      <td>...</td>\n",
       "      <td>...</td>\n",
       "      <td>...</td>\n",
       "      <td>...</td>\n",
       "      <td>...</td>\n",
       "      <td>...</td>\n",
       "      <td>...</td>\n",
       "    </tr>\n",
       "    <tr>\n",
       "      <th>599</th>\n",
       "      <td>SnGeO3</td>\n",
       "      <td>mp-1101394</td>\n",
       "      <td>R-3</td>\n",
       "      <td>0</td>\n",
       "      <td>[[3.09698038 0.         0.74912264] Sn, [15.47...</td>\n",
       "      <td>0.074808</td>\n",
       "      <td>1.046920</td>\n",
       "      <td>0.000514</td>\n",
       "      <td>0.298383</td>\n",
       "      <td>0.075799</td>\n",
       "      <td>...</td>\n",
       "      <td>47.869640</td>\n",
       "      <td>15.2</td>\n",
       "      <td>42.0</td>\n",
       "      <td>0.85</td>\n",
       "      <td>1.48</td>\n",
       "      <td>2.0</td>\n",
       "      <td>3.2</td>\n",
       "      <td>4.0</td>\n",
       "      <td>0.0</td>\n",
       "      <td>0.217391</td>\n",
       "    </tr>\n",
       "    <tr>\n",
       "      <th>1033</th>\n",
       "      <td>CsGeCl3</td>\n",
       "      <td>mp-22988</td>\n",
       "      <td>R3m</td>\n",
       "      <td>0</td>\n",
       "      <td>[[7.83527315 0.         5.51782465] Cs, [4.021...</td>\n",
       "      <td>0.085902</td>\n",
       "      <td>1.121213</td>\n",
       "      <td>0.003916</td>\n",
       "      <td>0.128430</td>\n",
       "      <td>0.039589</td>\n",
       "      <td>...</td>\n",
       "      <td>62.380890</td>\n",
       "      <td>13.2</td>\n",
       "      <td>38.0</td>\n",
       "      <td>1.60</td>\n",
       "      <td>2.37</td>\n",
       "      <td>1.8</td>\n",
       "      <td>3.4</td>\n",
       "      <td>2.0</td>\n",
       "      <td>0.0</td>\n",
       "      <td>0.250000</td>\n",
       "    </tr>\n",
       "    <tr>\n",
       "      <th>763</th>\n",
       "      <td>ScAgO3</td>\n",
       "      <td>mp-776150</td>\n",
       "      <td>Cmmm</td>\n",
       "      <td>0</td>\n",
       "      <td>[[2.014947  2.5429645 1.610232 ] Sc, [ 2.01494...</td>\n",
       "      <td>0.060036</td>\n",
       "      <td>1.063636</td>\n",
       "      <td>0.052070</td>\n",
       "      <td>0.194599</td>\n",
       "      <td>0.040361</td>\n",
       "      <td>...</td>\n",
       "      <td>40.164462</td>\n",
       "      <td>12.4</td>\n",
       "      <td>39.0</td>\n",
       "      <td>1.00</td>\n",
       "      <td>2.08</td>\n",
       "      <td>1.8</td>\n",
       "      <td>2.4</td>\n",
       "      <td>2.2</td>\n",
       "      <td>0.0</td>\n",
       "      <td>0.281250</td>\n",
       "    </tr>\n",
       "    <tr>\n",
       "      <th>835</th>\n",
       "      <td>TaHO3</td>\n",
       "      <td>mp-33753</td>\n",
       "      <td>I4_1/amd</td>\n",
       "      <td>0</td>\n",
       "      <td>[[-1.9388085  3.877617   3.838461 ] Ta, [1.110...</td>\n",
       "      <td>0.140064</td>\n",
       "      <td>1.194641</td>\n",
       "      <td>0.038691</td>\n",
       "      <td>0.341768</td>\n",
       "      <td>0.107140</td>\n",
       "      <td>...</td>\n",
       "      <td>45.990804</td>\n",
       "      <td>10.8</td>\n",
       "      <td>72.0</td>\n",
       "      <td>1.20</td>\n",
       "      <td>1.94</td>\n",
       "      <td>1.8</td>\n",
       "      <td>2.4</td>\n",
       "      <td>0.6</td>\n",
       "      <td>2.8</td>\n",
       "      <td>0.236842</td>\n",
       "    </tr>\n",
       "    <tr>\n",
       "      <th>559</th>\n",
       "      <td>LuBO3</td>\n",
       "      <td>mp-760461</td>\n",
       "      <td>Cmcm</td>\n",
       "      <td>0</td>\n",
       "      <td>[[0. 0. 0.] Lu, [0.       0.       3.983124] L...</td>\n",
       "      <td>0.085489</td>\n",
       "      <td>1.089653</td>\n",
       "      <td>0.035688</td>\n",
       "      <td>0.361441</td>\n",
       "      <td>0.078007</td>\n",
       "      <td>...</td>\n",
       "      <td>46.755200</td>\n",
       "      <td>12.8</td>\n",
       "      <td>66.0</td>\n",
       "      <td>1.15</td>\n",
       "      <td>2.17</td>\n",
       "      <td>2.0</td>\n",
       "      <td>2.6</td>\n",
       "      <td>0.2</td>\n",
       "      <td>2.8</td>\n",
       "      <td>0.263158</td>\n",
       "    </tr>\n",
       "  </tbody>\n",
       "</table>\n",
       "<p>1604 rows × 124 columns</p>\n",
       "</div>"
      ],
      "text/plain": [
       "      formula        mpid spacegroup.symbol  nature of band gap  \\\n",
       "235     DyBO3    mp-12315               P-1                   1   \n",
       "1322   CsSnI3   mp-616378            P4/mbm                   1   \n",
       "893    YbTiO3   mp-754225              Pnma                   1   \n",
       "225    CsTaO3  mp-1185552             Pm-3m                   1   \n",
       "1392   LaErS3   mp-558977              Pnma                   1   \n",
       "...       ...         ...               ...                 ...   \n",
       "599    SnGeO3  mp-1101394               R-3                   0   \n",
       "1033  CsGeCl3    mp-22988               R3m                   0   \n",
       "763    ScAgO3   mp-776150              Cmmm                   0   \n",
       "835     TaHO3    mp-33753          I4_1/amd                   0   \n",
       "559     LuBO3   mp-760461              Cmcm                   0   \n",
       "\n",
       "                                              structure  \\\n",
       "235   [[1.29642832 0.90392952 5.04773936] Dy, [1.120...   \n",
       "1322  [[4.4088355 0.        0.       ] Cs, [0.      ...   \n",
       "893   [[5.26902437 2.45146744 5.710761  ] Yb, [2.731...   \n",
       "225   [[0. 0. 0.] Cs, [2.072079 2.072079 2.072079] T...   \n",
       "1392  [[3.0055185  2.81016358 8.85556588] La, [3.005...   \n",
       "...                                                 ...   \n",
       "599   [[3.09698038 0.         0.74912264] Sn, [15.47...   \n",
       "1033  [[7.83527315 0.         5.51782465] Cs, [4.021...   \n",
       "763   [[2.014947  2.5429645 1.610232 ] Sc, [ 2.01494...   \n",
       "835   [[-1.9388085  3.877617   3.838461 ] Ta, [1.110...   \n",
       "559   [[0. 0. 0.] Lu, [0.       0.       3.983124] L...   \n",
       "\n",
       "      mean absolute deviation in relative bond length  \\\n",
       "235                                          0.091852   \n",
       "1322                                         0.081065   \n",
       "893                                          0.070545   \n",
       "225                                          0.084158   \n",
       "1392                                         0.043807   \n",
       "...                                               ...   \n",
       "599                                          0.074808   \n",
       "1033                                         0.085902   \n",
       "763                                          0.060036   \n",
       "835                                          0.140064   \n",
       "559                                          0.085489   \n",
       "\n",
       "      max relative bond length  minimum neighbor distance variation  \\\n",
       "235                   1.101680                             0.035515   \n",
       "1322                  1.101725                             0.000492   \n",
       "893                   1.053490                             0.006277   \n",
       "225                   1.116672                             0.000000   \n",
       "1392                  1.056940                             0.025358   \n",
       "...                        ...                                  ...   \n",
       "599                   1.046920                             0.000514   \n",
       "1033                  1.121213                             0.003916   \n",
       "763                   1.063636                             0.052070   \n",
       "835                   1.194641                             0.038691   \n",
       "559                   1.089653                             0.035688   \n",
       "\n",
       "      maximum neighbor distance variation  \\\n",
       "235                              0.349183   \n",
       "1322                             0.121074   \n",
       "893                              0.149524   \n",
       "225                              0.122408   \n",
       "1392                             0.162689   \n",
       "...                                   ...   \n",
       "599                              0.298383   \n",
       "1033                             0.128430   \n",
       "763                              0.194599   \n",
       "835                              0.341768   \n",
       "559                              0.361441   \n",
       "\n",
       "      avg_dev neighbor distance variation  ... mean AtomicWeight  mean Column  \\\n",
       "235                              0.071586  ...         44.261840         12.8   \n",
       "1322                             0.045599  ...        126.465772         13.2   \n",
       "893                              0.045393  ...         53.783840         11.0   \n",
       "225                              0.058756  ...         72.370306         10.8   \n",
       "1392                             0.041193  ...         80.471894         10.8   \n",
       "...                                   ...  ...               ...          ...   \n",
       "599                              0.075799  ...         47.869640         15.2   \n",
       "1033                             0.039589  ...         62.380890         13.2   \n",
       "763                              0.040361  ...         40.164462         12.4   \n",
       "835                              0.107140  ...         45.990804         10.8   \n",
       "559                              0.078007  ...         46.755200         12.8   \n",
       "\n",
       "      range Number  range AtomicRadius  range Electronegativity  \\\n",
       "235           61.0                1.15                     2.22   \n",
       "1322           5.0                1.20                     1.87   \n",
       "893           62.0                1.15                     2.18   \n",
       "225           65.0                2.00                     2.65   \n",
       "1392          52.0                0.95                     1.48   \n",
       "...            ...                 ...                      ...   \n",
       "599           42.0                0.85                     1.48   \n",
       "1033          38.0                1.60                     2.37   \n",
       "763           39.0                1.00                     2.08   \n",
       "835           72.0                1.20                     1.94   \n",
       "559           66.0                1.15                     2.17   \n",
       "\n",
       "      avg s valence electrons  avg p valence electrons  \\\n",
       "235                       2.0                      2.6   \n",
       "1322                      1.8                      3.4   \n",
       "893                       2.0                      2.4   \n",
       "225                       1.8                      2.4   \n",
       "1392                      2.0                      2.4   \n",
       "...                       ...                      ...   \n",
       "599                       2.0                      3.2   \n",
       "1033                      1.8                      3.4   \n",
       "763                       1.8                      2.4   \n",
       "835                       1.8                      2.4   \n",
       "559                       2.0                      2.6   \n",
       "\n",
       "      avg d valence electrons  avg f valence electrons  \\\n",
       "235                       0.0                      2.0   \n",
       "1322                      8.0                      0.0   \n",
       "893                       0.4                      2.8   \n",
       "225                       0.6                      2.8   \n",
       "1392                      0.2                      2.4   \n",
       "...                       ...                      ...   \n",
       "599                       4.0                      0.0   \n",
       "1033                      2.0                      0.0   \n",
       "763                       2.2                      0.0   \n",
       "835                       0.6                      2.8   \n",
       "559                       0.2                      2.8   \n",
       "\n",
       "      frac s valence electrons  \n",
       "235                   0.303030  \n",
       "1322                  0.136364  \n",
       "893                   0.263158  \n",
       "225                   0.236842  \n",
       "1392                  0.285714  \n",
       "...                        ...  \n",
       "599                   0.217391  \n",
       "1033                  0.250000  \n",
       "763                   0.281250  \n",
       "835                   0.236842  \n",
       "559                   0.263158  \n",
       "\n",
       "[1604 rows x 124 columns]"
      ]
     },
     "execution_count": 95,
     "metadata": {},
     "output_type": "execute_result"
    }
   ],
   "source": [
    "train_set"
   ]
  },
  {
   "cell_type": "code",
   "execution_count": 96,
   "metadata": {},
   "outputs": [],
   "source": [
    "X=train_set.drop(['formula', 'mpid', 'composition', 'structure', 'spacegroup.symbol', 'nature of band gap'], axis=1)\n",
    "Y=train_set['nature of band gap']\n",
    "x=test_set.drop(['formula', 'mpid', 'composition', 'structure', 'spacegroup.symbol', 'nature of band gap'], axis=1)\n",
    "y=test_set['nature of band gap']"
   ]
  },
  {
   "cell_type": "code",
   "execution_count": 107,
   "metadata": {},
   "outputs": [],
   "source": [
    "import seaborn as sns\n",
    "import matplotlib.pyplot as plt"
   ]
  },
  {
   "cell_type": "code",
   "execution_count": 108,
   "metadata": {},
   "outputs": [],
   "source": [
    "matplotlib inline"
   ]
  },
  {
   "cell_type": "code",
   "execution_count": 99,
   "metadata": {},
   "outputs": [
    {
     "name": "stderr",
     "output_type": "stream",
     "text": [
      "C:\\Users\\SMARAK RATH\\anaconda3\\lib\\site-packages\\xgboost\\sklearn.py:1146: UserWarning: The use of label encoder in XGBClassifier is deprecated and will be removed in a future release. To remove this warning, do the following: 1) Pass option use_label_encoder=False when constructing XGBClassifier object; and 2) Encode your labels (y) as integers starting with 0, i.e. 0, 1, 2, ..., [num_class - 1].\n",
      "  warnings.warn(label_encoder_deprecation_msg, UserWarning)\n"
     ]
    },
    {
     "name": "stdout",
     "output_type": "stream",
     "text": [
      "[17:02:24] WARNING: C:/Users/Administrator/workspace/xgboost-win64_release_1.4.0/src/learner.cc:1095: Starting in XGBoost 1.3.0, the default evaluation metric used with the objective 'binary:logistic' was changed from 'error' to 'logloss'. Explicitly set eval_metric if you'd like to restore the old behavior.\n"
     ]
    },
    {
     "data": {
      "text/plain": [
       "XGBClassifier(base_score=0.5, booster='gbtree', colsample_bylevel=0.5,\n",
       "              colsample_bynode=1, colsample_bytree=0.5, gamma=0, gpu_id=-1,\n",
       "              importance_type='gain', interaction_constraints='',\n",
       "              learning_rate=0.01, max_delta_step=0, max_depth=20,\n",
       "              min_child_weight=1, missing=nan, monotone_constraints='()',\n",
       "              n_estimators=100, n_jobs=8, num_parallel_tree=1, random_state=0,\n",
       "              reg_alpha=0, reg_lambda=1, scale_pos_weight=1,\n",
       "              subsample=0.8999999999999999, tree_method='exact',\n",
       "              validate_parameters=1, verbosity=None)"
      ]
     },
     "execution_count": 99,
     "metadata": {},
     "output_type": "execute_result"
    }
   ],
   "source": [
    "xgb.fit(X,Y)"
   ]
  },
  {
   "cell_type": "code",
   "execution_count": 100,
   "metadata": {},
   "outputs": [],
   "source": [
    "y_xgb = xgb.predict(x)"
   ]
  },
  {
   "cell_type": "code",
   "execution_count": 101,
   "metadata": {},
   "outputs": [
    {
     "data": {
      "text/plain": [
       "array([[ 13,  27],\n",
       "       [  3, 110]], dtype=int64)"
      ]
     },
     "execution_count": 101,
     "metadata": {},
     "output_type": "execute_result"
    }
   ],
   "source": [
    "confusion_matrix(y, y_xgb, labels=[1,0])"
   ]
  },
  {
   "cell_type": "code",
   "execution_count": 102,
   "metadata": {},
   "outputs": [
    {
     "name": "stdout",
     "output_type": "stream",
     "text": [
      "              precision    recall  f1-score   support\n",
      "\n",
      "           0       0.80      0.97      0.88       113\n",
      "           1       0.81      0.33      0.46        40\n",
      "\n",
      "    accuracy                           0.80       153\n",
      "   macro avg       0.81      0.65      0.67       153\n",
      "weighted avg       0.81      0.80      0.77       153\n",
      "\n"
     ]
    }
   ],
   "source": [
    "print(classification_report(y, y_xgb))"
   ]
  },
  {
   "cell_type": "code",
   "execution_count": 103,
   "metadata": {},
   "outputs": [
    {
     "data": {
      "image/png": "[encoded data removed]",
      "text/plain": [
       "<Figure size 432x288 with 2 Axes>"
      ]
     },
     "metadata": {
      "needs_background": "light"
     },
     "output_type": "display_data"
    }
   ],
   "source": [
    "s1=sns.heatmap(confusion_matrix(y, y_xgb, labels=[1,0]),cmap='viridis_r',fmt = '.2f', annot=True, annot_kws={\"size\": 16},xticklabels=['Predicted direct','Predicted indirect'],yticklabels=['True direct','True indirect'])\n",
    "fig1=s1.get_figure()\n",
    "fig1.savefig(\"XGB.jpeg\")"
   ]
  },
  {
   "cell_type": "code",
   "execution_count": 104,
   "metadata": {},
   "outputs": [],
   "source": [
    "fpr_xgb, tpr_xgb, thr_xgb = roc_curve(y, y_xgb)"
   ]
  },
  {
   "cell_type": "code",
   "execution_count": 114,
   "metadata": {},
   "outputs": [
    {
     "data": {
      "image/png": "[encoded data removed]",
      "text/plain": [
       "<Figure size 432x288 with 1 Axes>"
      ]
     },
     "metadata": {
      "needs_background": "light"
     },
     "output_type": "display_data"
    }
   ],
   "source": [
    "plt.plot(fpr_xgb, tpr_xgb, linestyle='-')\n",
    "plt.xlabel('FPR')\n",
    "plt.ylabel('TPR')\n",
    "plt.savefig('XGB.jpg')"
   ]
  },
  {
   "cell_type": "code",
   "execution_count": 115,
   "metadata": {},
   "outputs": [
    {
     "data": {
      "text/plain": [
       "0.6492256637168141"
      ]
     },
     "execution_count": 115,
     "metadata": {},
     "output_type": "execute_result"
    }
   ],
   "source": [
    "auc_xgb = auc(fpr_xgb, tpr_xgb)\n",
    "auc_xgb"
   ]
  },
  {
   "cell_type": "code",
   "execution_count": 116,
   "metadata": {},
   "outputs": [
    {
     "data": {
      "text/plain": [
       "RandomForestClassifier(bootstrap=False, max_depth=70, n_estimators=1000,\n",
       "                       random_state=0)"
      ]
     },
     "execution_count": 116,
     "metadata": {},
     "output_type": "execute_result"
    }
   ],
   "source": [
    "rf.fit(X,Y)"
   ]
  },
  {
   "cell_type": "code",
   "execution_count": 117,
   "metadata": {},
   "outputs": [],
   "source": [
    "y_rf=rf.predict(x)"
   ]
  },
  {
   "cell_type": "code",
   "execution_count": 118,
   "metadata": {},
   "outputs": [
    {
     "data": {
      "text/plain": [
       "array([[ 10,  30],\n",
       "       [  5, 108]], dtype=int64)"
      ]
     },
     "execution_count": 118,
     "metadata": {},
     "output_type": "execute_result"
    }
   ],
   "source": [
    "confusion_matrix(y, y_rf, labels=[1,0])"
   ]
  },
  {
   "cell_type": "code",
   "execution_count": 119,
   "metadata": {},
   "outputs": [
    {
     "name": "stdout",
     "output_type": "stream",
     "text": [
      "              precision    recall  f1-score   support\n",
      "\n",
      "           0       0.78      0.96      0.86       113\n",
      "           1       0.67      0.25      0.36        40\n",
      "\n",
      "    accuracy                           0.77       153\n",
      "   macro avg       0.72      0.60      0.61       153\n",
      "weighted avg       0.75      0.77      0.73       153\n",
      "\n"
     ]
    }
   ],
   "source": [
    "print(classification_report(y, y_rf))"
   ]
  },
  {
   "cell_type": "code",
   "execution_count": 120,
   "metadata": {},
   "outputs": [
    {
     "data": {
      "image/png": "[encoded data removed]",
      "text/plain": [
       "<Figure size 432x288 with 2 Axes>"
      ]
     },
     "metadata": {
      "needs_background": "light"
     },
     "output_type": "display_data"
    }
   ],
   "source": [
    "s2=sns.heatmap(confusion_matrix(y, y_rf, labels=[1,0]),cmap='viridis_r',fmt = '.2f', annot=True, annot_kws={\"size\": 16},xticklabels=['Predicted direct','Predicted indirect'],yticklabels=['True direct','True indirect'])\n",
    "fig2=s2.get_figure()\n",
    "fig2.savefig(\"RF.jpeg\")"
   ]
  },
  {
   "cell_type": "code",
   "execution_count": 121,
   "metadata": {},
   "outputs": [],
   "source": [
    "fpr_rf, tpr_rf, thr_rf = roc_curve(y, y_rf)"
   ]
  },
  {
   "cell_type": "code",
   "execution_count": 122,
   "metadata": {},
   "outputs": [
    {
     "data": {
      "image/png": "[encoded data removed]",
      "text/plain": [
       "<Figure size 432x288 with 1 Axes>"
      ]
     },
     "metadata": {
      "needs_background": "light"
     },
     "output_type": "display_data"
    }
   ],
   "source": [
    "plt.plot(fpr_rf, tpr_rf, linestyle='-')\n",
    "plt.xlabel('FPR')\n",
    "plt.ylabel('TPR')\n",
    "plt.savefig('RF.jpg')"
   ]
  },
  {
   "cell_type": "code",
   "execution_count": 123,
   "metadata": {},
   "outputs": [
    {
     "data": {
      "text/plain": [
       "0.6028761061946903"
      ]
     },
     "execution_count": 123,
     "metadata": {},
     "output_type": "execute_result"
    }
   ],
   "source": [
    "auc_rf = auc(fpr_rf, tpr_rf)\n",
    "auc_rf"
   ]
  },
  {
   "cell_type": "code",
   "execution_count": 124,
   "metadata": {},
   "outputs": [
    {
     "name": "stderr",
     "output_type": "stream",
     "text": [
      "C:\\Users\\SMARAK RATH\\anaconda3\\lib\\site-packages\\sklearn\\linear_model\\_logistic.py:818: ConvergenceWarning: lbfgs failed to converge (status=1):\n",
      "STOP: TOTAL NO. of ITERATIONS REACHED LIMIT.\n",
      "\n",
      "Increase the number of iterations (max_iter) or scale the data as shown in:\n",
      "    https://scikit-learn.org/stable/modules/preprocessing.html\n",
      "Please also refer to the documentation for alternative solver options:\n",
      "    https://scikit-learn.org/stable/modules/linear_model.html#logistic-regression\n",
      "  extra_warning_msg=_LOGISTIC_SOLVER_CONVERGENCE_MSG,\n"
     ]
    },
    {
     "data": {
      "text/plain": [
       "LogisticRegression()"
      ]
     },
     "execution_count": 124,
     "metadata": {},
     "output_type": "execute_result"
    }
   ],
   "source": [
    "lr.fit(X,Y)"
   ]
  },
  {
   "cell_type": "code",
   "execution_count": 125,
   "metadata": {},
   "outputs": [],
   "source": [
    "y_lr=lr.predict(x)"
   ]
  },
  {
   "cell_type": "code",
   "execution_count": 126,
   "metadata": {},
   "outputs": [
    {
     "data": {
      "text/plain": [
       "array([[ 5, 35],\n",
       "       [15, 98]], dtype=int64)"
      ]
     },
     "execution_count": 126,
     "metadata": {},
     "output_type": "execute_result"
    }
   ],
   "source": [
    "confusion_matrix(y, y_lr, labels=[1,0])"
   ]
  },
  {
   "cell_type": "code",
   "execution_count": 127,
   "metadata": {},
   "outputs": [
    {
     "name": "stdout",
     "output_type": "stream",
     "text": [
      "              precision    recall  f1-score   support\n",
      "\n",
      "           0       0.74      0.87      0.80       113\n",
      "           1       0.25      0.12      0.17        40\n",
      "\n",
      "    accuracy                           0.67       153\n",
      "   macro avg       0.49      0.50      0.48       153\n",
      "weighted avg       0.61      0.67      0.63       153\n",
      "\n"
     ]
    }
   ],
   "source": [
    "print(classification_report(y, y_lr))"
   ]
  },
  {
   "cell_type": "code",
   "execution_count": 128,
   "metadata": {},
   "outputs": [
    {
     "data": {
      "image/png": "[encoded data removed]",
      "text/plain": [
       "<Figure size 432x288 with 2 Axes>"
      ]
     },
     "metadata": {
      "needs_background": "light"
     },
     "output_type": "display_data"
    }
   ],
   "source": [
    "s3=sns.heatmap(confusion_matrix(y, y_lr, labels=[1,0]),cmap='viridis_r',fmt = '.2f', annot=True, annot_kws={\"size\": 16},xticklabels=['Predicted direct','Predicted indirect'],yticklabels=['True direct','True indirect'])\n",
    "fig3=s3.get_figure()\n",
    "fig3.savefig(\"LR.jpeg\")"
   ]
  },
  {
   "cell_type": "code",
   "execution_count": 129,
   "metadata": {},
   "outputs": [],
   "source": [
    "fpr_lr, tpr_lr, thr_lr = roc_curve(y, y_lr)"
   ]
  },
  {
   "cell_type": "code",
   "execution_count": 130,
   "metadata": {},
   "outputs": [
    {
     "data": {
      "image/png": "[encoded data removed]",
      "text/plain": [
       "<Figure size 432x288 with 1 Axes>"
      ]
     },
     "metadata": {
      "needs_background": "light"
     },
     "output_type": "display_data"
    }
   ],
   "source": [
    "plt.plot(fpr_lr, tpr_lr, linestyle='-')\n",
    "plt.xlabel('FPR')\n",
    "plt.ylabel('TPR')\n",
    "plt.savefig('LR.jpg')"
   ]
  },
  {
   "cell_type": "code",
   "execution_count": 131,
   "metadata": {},
   "outputs": [
    {
     "data": {
      "text/plain": [
       "0.4961283185840708"
      ]
     },
     "execution_count": 131,
     "metadata": {},
     "output_type": "execute_result"
    }
   ],
   "source": [
    "auc_lr = auc(fpr_lr, tpr_lr)\n",
    "auc_lr"
   ]
  },
  {
   "cell_type": "code",
   "execution_count": 132,
   "metadata": {},
   "outputs": [
    {
     "data": {
      "text/plain": [
       "SVC(C=1, gamma=0.001)"
      ]
     },
     "execution_count": 132,
     "metadata": {},
     "output_type": "execute_result"
    }
   ],
   "source": [
    "svc.fit(X,Y)"
   ]
  },
  {
   "cell_type": "code",
   "execution_count": 133,
   "metadata": {},
   "outputs": [],
   "source": [
    "y_svc=svc.predict(x)"
   ]
  },
  {
   "cell_type": "code",
   "execution_count": 134,
   "metadata": {},
   "outputs": [
    {
     "data": {
      "text/plain": [
       "array([[  3,  37],\n",
       "       [  2, 111]], dtype=int64)"
      ]
     },
     "execution_count": 134,
     "metadata": {},
     "output_type": "execute_result"
    }
   ],
   "source": [
    "confusion_matrix(y, y_svc, labels=[1,0])"
   ]
  },
  {
   "cell_type": "code",
   "execution_count": 135,
   "metadata": {},
   "outputs": [
    {
     "name": "stdout",
     "output_type": "stream",
     "text": [
      "              precision    recall  f1-score   support\n",
      "\n",
      "           0       0.75      0.98      0.85       113\n",
      "           1       0.60      0.07      0.13        40\n",
      "\n",
      "    accuracy                           0.75       153\n",
      "   macro avg       0.68      0.53      0.49       153\n",
      "weighted avg       0.71      0.75      0.66       153\n",
      "\n"
     ]
    }
   ],
   "source": [
    "print(classification_report(y, y_svc))"
   ]
  },
  {
   "cell_type": "code",
   "execution_count": 136,
   "metadata": {},
   "outputs": [
    {
     "data": {
      "image/png": "[encoded data removed]",
      "text/plain": [
       "<Figure size 432x288 with 2 Axes>"
      ]
     },
     "metadata": {
      "needs_background": "light"
     },
     "output_type": "display_data"
    }
   ],
   "source": [
    "s4=sns.heatmap(confusion_matrix(y, y_svc, labels=[1,0]),cmap='viridis_r',fmt = '.2f', annot=True, annot_kws={\"size\": 16},xticklabels=['Predicted direct','Predicted indirect'],yticklabels=['True direct','True indirect'])\n",
    "fig4=s4.get_figure()\n",
    "fig4.savefig(\"SVC.jpeg\")"
   ]
  },
  {
   "cell_type": "code",
   "execution_count": 137,
   "metadata": {},
   "outputs": [],
   "source": [
    "fpr_svc, tpr_svc, thr_svc = roc_curve(y, y_svc)"
   ]
  },
  {
   "cell_type": "code",
   "execution_count": 138,
   "metadata": {},
   "outputs": [
    {
     "data": {
      "image/png": "[encoded data removed]",
      "text/plain": [
       "<Figure size 432x288 with 1 Axes>"
      ]
     },
     "metadata": {
      "needs_background": "light"
     },
     "output_type": "display_data"
    }
   ],
   "source": [
    "plt.plot(fpr_svc, tpr_svc, linestyle='-')\n",
    "plt.xlabel('FPR')\n",
    "plt.ylabel('TPR')\n",
    "plt.savefig('SVC.jpg')"
   ]
  },
  {
   "cell_type": "code",
   "execution_count": 139,
   "metadata": {},
   "outputs": [
    {
     "data": {
      "text/plain": [
       "0.5286504424778761"
      ]
     },
     "execution_count": 139,
     "metadata": {},
     "output_type": "execute_result"
    }
   ],
   "source": [
    "auc_svc = auc(fpr_svc, tpr_svc)\n",
    "auc_svc"
   ]
  },
  {
   "cell_type": "code",
   "execution_count": 140,
   "metadata": {},
   "outputs": [
    {
     "data": {
      "text/plain": [
       "MLPClassifier(hidden_layer_sizes=(10, 10, 10), learning_rate='adaptive',\n",
       "              random_state=0, solver='sgd')"
      ]
     },
     "execution_count": 140,
     "metadata": {},
     "output_type": "execute_result"
    }
   ],
   "source": [
    "ann.fit(X,Y)"
   ]
  },
  {
   "cell_type": "code",
   "execution_count": 141,
   "metadata": {},
   "outputs": [],
   "source": [
    "y_ann = ann.predict(x)"
   ]
  },
  {
   "cell_type": "code",
   "execution_count": 142,
   "metadata": {},
   "outputs": [
    {
     "data": {
      "text/plain": [
       "array([[  0,  40],\n",
       "       [  0, 113]], dtype=int64)"
      ]
     },
     "execution_count": 142,
     "metadata": {},
     "output_type": "execute_result"
    }
   ],
   "source": [
    "confusion_matrix(y, y_ann, labels=[1,0])"
   ]
  },
  {
   "cell_type": "code",
   "execution_count": 143,
   "metadata": {},
   "outputs": [
    {
     "name": "stdout",
     "output_type": "stream",
     "text": [
      "              precision    recall  f1-score   support\n",
      "\n",
      "           0       0.74      1.00      0.85       113\n",
      "           1       0.00      0.00      0.00        40\n",
      "\n",
      "    accuracy                           0.74       153\n",
      "   macro avg       0.37      0.50      0.42       153\n",
      "weighted avg       0.55      0.74      0.63       153\n",
      "\n"
     ]
    },
    {
     "name": "stderr",
     "output_type": "stream",
     "text": [
      "C:\\Users\\SMARAK RATH\\anaconda3\\lib\\site-packages\\sklearn\\metrics\\_classification.py:1308: UndefinedMetricWarning: Precision and F-score are ill-defined and being set to 0.0 in labels with no predicted samples. Use `zero_division` parameter to control this behavior.\n",
      "  _warn_prf(average, modifier, msg_start, len(result))\n",
      "C:\\Users\\SMARAK RATH\\anaconda3\\lib\\site-packages\\sklearn\\metrics\\_classification.py:1308: UndefinedMetricWarning: Precision and F-score are ill-defined and being set to 0.0 in labels with no predicted samples. Use `zero_division` parameter to control this behavior.\n",
      "  _warn_prf(average, modifier, msg_start, len(result))\n",
      "C:\\Users\\SMARAK RATH\\anaconda3\\lib\\site-packages\\sklearn\\metrics\\_classification.py:1308: UndefinedMetricWarning: Precision and F-score are ill-defined and being set to 0.0 in labels with no predicted samples. Use `zero_division` parameter to control this behavior.\n",
      "  _warn_prf(average, modifier, msg_start, len(result))\n"
     ]
    }
   ],
   "source": [
    "print(classification_report(y, y_ann))"
   ]
  },
  {
   "cell_type": "code",
   "execution_count": 144,
   "metadata": {},
   "outputs": [
    {
     "data": {
      "image/png": "[encoded data removed]",
      "text/plain": [
       "<Figure size 432x288 with 2 Axes>"
      ]
     },
     "metadata": {
      "needs_background": "light"
     },
     "output_type": "display_data"
    }
   ],
   "source": [
    "s5=sns.heatmap(confusion_matrix(y, y_ann, labels=[1,0]),cmap='viridis_r',fmt = '.2f', annot=True, annot_kws={\"size\": 16},xticklabels=['Predicted direct','Predicted indirect'],yticklabels=['True direct','True indirect'])\n",
    "fig5=s5.get_figure()\n",
    "fig5.savefig(\"ANN.jpeg\")"
   ]
  },
  {
   "cell_type": "code",
   "execution_count": 146,
   "metadata": {},
   "outputs": [],
   "source": [
    "fpr_ann, tpr_ann, thr_ann = roc_curve(y, y_ann)"
   ]
  },
  {
   "cell_type": "code",
   "execution_count": 147,
   "metadata": {},
   "outputs": [
    {
     "data": {
      "image/png": "[encoded data removed]",
      "text/plain": [
       "<Figure size 432x288 with 1 Axes>"
      ]
     },
     "metadata": {
      "needs_background": "light"
     },
     "output_type": "display_data"
    }
   ],
   "source": [
    "plt.plot(fpr_ann, tpr_ann, linestyle='-')\n",
    "plt.xlabel('FPR')\n",
    "plt.ylabel('TPR')\n",
    "plt.savefig('ANN.jpg')"
   ]
  },
  {
   "cell_type": "code",
   "execution_count": 148,
   "metadata": {},
   "outputs": [
    {
     "data": {
      "text/plain": [
       "0.5"
      ]
     },
     "execution_count": 148,
     "metadata": {},
     "output_type": "execute_result"
    }
   ],
   "source": [
    "auc_ann = auc(fpr_ann, tpr_ann)\n",
    "auc_ann"
   ]
  },
  {
   "cell_type": "code",
   "execution_count": 149,
   "metadata": {},
   "outputs": [
    {
     "data": {
      "text/plain": [
       "DecisionTreeClassifier(max_depth=2, min_samples_leaf=20, random_state=0)"
      ]
     },
     "execution_count": 149,
     "metadata": {},
     "output_type": "execute_result"
    }
   ],
   "source": [
    "dtc.fit(X,Y)"
   ]
  },
  {
   "cell_type": "code",
   "execution_count": 150,
   "metadata": {},
   "outputs": [],
   "source": [
    "y_dtc = dtc.predict(x)"
   ]
  },
  {
   "cell_type": "code",
   "execution_count": 151,
   "metadata": {},
   "outputs": [
    {
     "data": {
      "text/plain": [
       "array([[  7,  33],\n",
       "       [  5, 108]], dtype=int64)"
      ]
     },
     "execution_count": 151,
     "metadata": {},
     "output_type": "execute_result"
    }
   ],
   "source": [
    "confusion_matrix(y, y_dtc, labels=[1,0])"
   ]
  },
  {
   "cell_type": "code",
   "execution_count": 152,
   "metadata": {},
   "outputs": [
    {
     "name": "stdout",
     "output_type": "stream",
     "text": [
      "              precision    recall  f1-score   support\n",
      "\n",
      "           0       0.77      0.96      0.85       113\n",
      "           1       0.58      0.17      0.27        40\n",
      "\n",
      "    accuracy                           0.75       153\n",
      "   macro avg       0.67      0.57      0.56       153\n",
      "weighted avg       0.72      0.75      0.70       153\n",
      "\n"
     ]
    }
   ],
   "source": [
    "print(classification_report(y, y_dtc))"
   ]
  },
  {
   "cell_type": "code",
   "execution_count": 153,
   "metadata": {},
   "outputs": [
    {
     "data": {
      "image/png": "[encoded data removed]",
      "text/plain": [
       "<Figure size 432x288 with 2 Axes>"
      ]
     },
     "metadata": {
      "needs_background": "light"
     },
     "output_type": "display_data"
    }
   ],
   "source": [
    "s6=sns.heatmap(confusion_matrix(y, y_dtc, labels=[1,0]),cmap='viridis_r',fmt = '.2f', annot=True, annot_kws={\"size\": 16},xticklabels=['Predicted direct','Predicted indirect'],yticklabels=['True direct','True indirect'])\n",
    "fig6=s6.get_figure()\n",
    "fig6.savefig(\"DTC.jpeg\")"
   ]
  },
  {
   "cell_type": "code",
   "execution_count": 154,
   "metadata": {},
   "outputs": [],
   "source": [
    "fpr_dtc, tpr_dtc, thr_dtc = roc_curve(y, y_dtc)"
   ]
  },
  {
   "cell_type": "code",
   "execution_count": 155,
   "metadata": {},
   "outputs": [
    {
     "data": {
      "image/png": "[encoded data removed]",
      "text/plain": [
       "<Figure size 432x288 with 1 Axes>"
      ]
     },
     "metadata": {
      "needs_background": "light"
     },
     "output_type": "display_data"
    }
   ],
   "source": [
    "plt.plot(fpr_dtc, tpr_dtc, linestyle='-')\n",
    "plt.xlabel('FPR')\n",
    "plt.ylabel('TPR')\n",
    "plt.savefig('DTC.jpg')"
   ]
  },
  {
   "cell_type": "code",
   "execution_count": 156,
   "metadata": {},
   "outputs": [
    {
     "data": {
      "text/plain": [
       "0.5653761061946903"
      ]
     },
     "execution_count": 156,
     "metadata": {},
     "output_type": "execute_result"
    }
   ],
   "source": [
    "auc_dtc = auc(fpr_dtc, tpr_dtc)\n",
    "auc_dtc"
   ]
  },
  {
   "cell_type": "code",
   "execution_count": 157,
   "metadata": {},
   "outputs": [
    {
     "data": {
      "text/plain": [
       "GradientBoostingClassifier(learning_rate=0.01, max_depth=1, n_estimators=500,\n",
       "                           random_state=0)"
      ]
     },
     "execution_count": 157,
     "metadata": {},
     "output_type": "execute_result"
    }
   ],
   "source": [
    "gbc.fit(X,Y)"
   ]
  },
  {
   "cell_type": "code",
   "execution_count": 158,
   "metadata": {},
   "outputs": [],
   "source": [
    "y_gbc = gbc.predict(x)"
   ]
  },
  {
   "cell_type": "code",
   "execution_count": 159,
   "metadata": {},
   "outputs": [
    {
     "data": {
      "text/plain": [
       "array([[  5,  35],\n",
       "       [  3, 110]], dtype=int64)"
      ]
     },
     "execution_count": 159,
     "metadata": {},
     "output_type": "execute_result"
    }
   ],
   "source": [
    "confusion_matrix(y, y_gbc, labels=[1,0])"
   ]
  },
  {
   "cell_type": "code",
   "execution_count": 160,
   "metadata": {},
   "outputs": [
    {
     "name": "stdout",
     "output_type": "stream",
     "text": [
      "              precision    recall  f1-score   support\n",
      "\n",
      "           0       0.76      0.97      0.85       113\n",
      "           1       0.62      0.12      0.21        40\n",
      "\n",
      "    accuracy                           0.75       153\n",
      "   macro avg       0.69      0.55      0.53       153\n",
      "weighted avg       0.72      0.75      0.68       153\n",
      "\n"
     ]
    }
   ],
   "source": [
    "print(classification_report(y, y_gbc))"
   ]
  },
  {
   "cell_type": "code",
   "execution_count": 161,
   "metadata": {},
   "outputs": [
    {
     "data": {
      "image/png": "[encoded data removed]",
      "text/plain": [
       "<Figure size 432x288 with 2 Axes>"
      ]
     },
     "metadata": {
      "needs_background": "light"
     },
     "output_type": "display_data"
    }
   ],
   "source": [
    "s7=sns.heatmap(confusion_matrix(y, y_gbc, labels=[1,0]),cmap='viridis_r',fmt = '.2f', annot=True, annot_kws={\"size\": 16},xticklabels=['Predicted direct','Predicted indirect'],yticklabels=['True direct','True indirect'])\n",
    "fig7=s7.get_figure()\n",
    "fig7.savefig(\"GBC.jpeg\")"
   ]
  },
  {
   "cell_type": "code",
   "execution_count": 162,
   "metadata": {},
   "outputs": [],
   "source": [
    "fpr_gbc, tpr_gbc, thr_gbc = roc_curve(y, y_gbc)"
   ]
  },
  {
   "cell_type": "code",
   "execution_count": 163,
   "metadata": {},
   "outputs": [
    {
     "data": {
      "image/png": "[encoded data removed]",
      "text/plain": [
       "<Figure size 432x288 with 1 Axes>"
      ]
     },
     "metadata": {
      "needs_background": "light"
     },
     "output_type": "display_data"
    }
   ],
   "source": [
    "plt.plot(fpr_gbc, tpr_gbc, linestyle='-')\n",
    "plt.xlabel('FPR')\n",
    "plt.ylabel('TPR')\n",
    "plt.savefig('GBC.jpg')"
   ]
  },
  {
   "cell_type": "code",
   "execution_count": 164,
   "metadata": {},
   "outputs": [
    {
     "data": {
      "text/plain": [
       "0.5492256637168141"
      ]
     },
     "execution_count": 164,
     "metadata": {},
     "output_type": "execute_result"
    }
   ],
   "source": [
    "auc_gbc = auc(fpr_gbc, tpr_gbc)\n",
    "auc_gbc"
   ]
  },
  {
   "cell_type": "code",
   "execution_count": 165,
   "metadata": {},
   "outputs": [],
   "source": [
    "import shap"
   ]
  },
  {
   "cell_type": "code",
   "execution_count": 166,
   "metadata": {},
   "outputs": [
    {
     "name": "stderr",
     "output_type": "stream",
     "text": [
      "ntree_limit is deprecated, use `iteration_range` or model slicing instead.\n"
     ]
    }
   ],
   "source": [
    "shap_values = shap.TreeExplainer(xgb).shap_values(x)"
   ]
  },
  {
   "cell_type": "code",
   "execution_count": 167,
   "metadata": {},
   "outputs": [
    {
     "data": {
      "image/png": "[encoded data removed]",
      "text/plain": [
       "<Figure size 576x684 with 2 Axes>"
      ]
     },
     "metadata": {
      "needs_background": "light"
     },
     "output_type": "display_data"
    }
   ],
   "source": [
    "shap.summary_plot(shap_values, x)"
   ]
  },
  {
   "cell_type": "code",
   "execution_count": 168,
   "metadata": {},
   "outputs": [
    {
     "data": {
      "image/png": "[encoded data removed]",
      "text/plain": [
       "<Figure size 576x684 with 1 Axes>"
      ]
     },
     "metadata": {
      "needs_background": "light"
     },
     "output_type": "display_data"
    }
   ],
   "source": [
    "shap.summary_plot(shap_values, x, plot_type='bar')"
   ]
  },
  {
   "cell_type": "code",
   "execution_count": 169,
   "metadata": {},
   "outputs": [],
   "source": [
    "pv = pd.DataFrame(y_xgb, columns=['predicted value'])"
   ]
  },
  {
   "cell_type": "code",
   "execution_count": 170,
   "metadata": {},
   "outputs": [
    {
     "data": {
      "text/html": [
       "<div>\n",
       "<style scoped>\n",
       "    .dataframe tbody tr th:only-of-type {\n",
       "        vertical-align: middle;\n",
       "    }\n",
       "\n",
       "    .dataframe tbody tr th {\n",
       "        vertical-align: top;\n",
       "    }\n",
       "\n",
       "    .dataframe thead th {\n",
       "        text-align: right;\n",
       "    }\n",
       "</style>\n",
       "<table border=\"1\" class=\"dataframe\">\n",
       "  <thead>\n",
       "    <tr style=\"text-align: right;\">\n",
       "      <th></th>\n",
       "      <th>predicted value</th>\n",
       "    </tr>\n",
       "  </thead>\n",
       "  <tbody>\n",
       "    <tr>\n",
       "      <th>0</th>\n",
       "      <td>0</td>\n",
       "    </tr>\n",
       "    <tr>\n",
       "      <th>1</th>\n",
       "      <td>0</td>\n",
       "    </tr>\n",
       "    <tr>\n",
       "      <th>2</th>\n",
       "      <td>0</td>\n",
       "    </tr>\n",
       "    <tr>\n",
       "      <th>3</th>\n",
       "      <td>1</td>\n",
       "    </tr>\n",
       "    <tr>\n",
       "      <th>4</th>\n",
       "      <td>0</td>\n",
       "    </tr>\n",
       "    <tr>\n",
       "      <th>...</th>\n",
       "      <td>...</td>\n",
       "    </tr>\n",
       "    <tr>\n",
       "      <th>148</th>\n",
       "      <td>0</td>\n",
       "    </tr>\n",
       "    <tr>\n",
       "      <th>149</th>\n",
       "      <td>0</td>\n",
       "    </tr>\n",
       "    <tr>\n",
       "      <th>150</th>\n",
       "      <td>0</td>\n",
       "    </tr>\n",
       "    <tr>\n",
       "      <th>151</th>\n",
       "      <td>1</td>\n",
       "    </tr>\n",
       "    <tr>\n",
       "      <th>152</th>\n",
       "      <td>0</td>\n",
       "    </tr>\n",
       "  </tbody>\n",
       "</table>\n",
       "<p>153 rows × 1 columns</p>\n",
       "</div>"
      ],
      "text/plain": [
       "     predicted value\n",
       "0                  0\n",
       "1                  0\n",
       "2                  0\n",
       "3                  1\n",
       "4                  0\n",
       "..               ...\n",
       "148                0\n",
       "149                0\n",
       "150                0\n",
       "151                1\n",
       "152                0\n",
       "\n",
       "[153 rows x 1 columns]"
      ]
     },
     "execution_count": 170,
     "metadata": {},
     "output_type": "execute_result"
    }
   ],
   "source": [
    "pv"
   ]
  },
  {
   "cell_type": "code",
   "execution_count": 171,
   "metadata": {},
   "outputs": [],
   "source": [
    "test_set.to_csv('Observations.csv')"
   ]
  },
  {
   "cell_type": "code",
   "execution_count": 172,
   "metadata": {},
   "outputs": [],
   "source": [
    "pv.to_csv('Extra.csv')"
   ]
  },
  {
   "cell_type": "code",
   "execution_count": null,
   "metadata": {},
   "outputs": [],
   "source": []
  }
 ],
 "metadata": {
  "kernelspec": {
   "display_name": "Python 3",
   "language": "python",
   "name": "python3"
  },
  "language_info": {
   "codemirror_mode": {
    "name": "ipython",
    "version": 3
   },
   "file_extension": ".py",
   "mimetype": "text/x-python",
   "name": "python",
   "nbconvert_exporter": "python",
   "pygments_lexer": "ipython3",
   "version": "3.7.6"
  }
 },
 "nbformat": 4,
 "nbformat_minor": 4
}
